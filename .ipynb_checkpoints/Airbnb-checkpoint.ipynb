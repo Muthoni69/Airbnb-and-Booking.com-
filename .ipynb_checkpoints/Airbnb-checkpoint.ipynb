{
 "cells": [
  {
   "cell_type": "markdown",
   "metadata": {},
   "source": [
    "## Introduction\n",
    "- This document explores the AirBnB dataset containing listings and attributes for approximately 2,369,084 listings."
   ]
  },
  {
   "cell_type": "code",
   "execution_count": 1,
   "metadata": {},
   "outputs": [],
   "source": [
    "#import all the needed packages and set plots to be embedded inline\n",
    "import pandas as pd\n",
    "import numpy as np\n",
    "import matplotlib.pyplot as plt\n",
    "import seaborn as sb\n",
    "\n",
    "%matplotlib inline"
   ]
  },
  {
   "cell_type": "code",
   "execution_count": 2,
   "metadata": {},
   "outputs": [],
   "source": [
    "#Load the dataset into a panda dataframe\n",
    "df = pd.read_csv('Listings.csv')"
   ]
  },
  {
   "cell_type": "code",
   "execution_count": 3,
   "metadata": {},
   "outputs": [
    {
     "data": {
      "text/plain": [
       "(2369084, 6)"
      ]
     },
     "execution_count": 3,
     "metadata": {},
     "output_type": "execute_result"
    }
   ],
   "source": [
    "#Dimensions of the dataset\n",
    "df.shape"
   ]
  },
  {
   "cell_type": "code",
   "execution_count": 4,
   "metadata": {},
   "outputs": [
    {
     "name": "stdout",
     "output_type": "stream",
     "text": [
      "<class 'pandas.core.frame.DataFrame'>\n",
      "RangeIndex: 2369084 entries, 0 to 2369083\n",
      "Data columns (total 6 columns):\n",
      " #   Column    Dtype \n",
      "---  ------    ----- \n",
      " 0   Title     object\n",
      " 1   Beds      object\n",
      " 2   Location  object\n",
      " 3   Price     object\n",
      " 4   Reviews   object\n",
      " 5   Host      object\n",
      "dtypes: object(6)\n",
      "memory usage: 108.4+ MB\n"
     ]
    }
   ],
   "source": [
    "#Summary of the dataframe\n",
    "df.info()"
   ]
  },
  {
   "cell_type": "code",
   "execution_count": 5,
   "metadata": {},
   "outputs": [
    {
     "data": {
      "text/html": [
       "<div>\n",
       "<style scoped>\n",
       "    .dataframe tbody tr th:only-of-type {\n",
       "        vertical-align: middle;\n",
       "    }\n",
       "\n",
       "    .dataframe tbody tr th {\n",
       "        vertical-align: top;\n",
       "    }\n",
       "\n",
       "    .dataframe thead th {\n",
       "        text-align: right;\n",
       "    }\n",
       "</style>\n",
       "<table border=\"1\" class=\"dataframe\">\n",
       "  <thead>\n",
       "    <tr style=\"text-align: right;\">\n",
       "      <th></th>\n",
       "      <th>Title</th>\n",
       "      <th>Beds</th>\n",
       "      <th>Location</th>\n",
       "      <th>Price</th>\n",
       "      <th>Reviews</th>\n",
       "      <th>Host</th>\n",
       "    </tr>\n",
       "  </thead>\n",
       "  <tbody>\n",
       "    <tr>\n",
       "      <th>count</th>\n",
       "      <td>2369084</td>\n",
       "      <td>2369084</td>\n",
       "      <td>2369084</td>\n",
       "      <td>2369084</td>\n",
       "      <td>2369084</td>\n",
       "      <td>1302997</td>\n",
       "    </tr>\n",
       "    <tr>\n",
       "      <th>unique</th>\n",
       "      <td>20</td>\n",
       "      <td>11</td>\n",
       "      <td>20</td>\n",
       "      <td>20</td>\n",
       "      <td>19</td>\n",
       "      <td>1</td>\n",
       "    </tr>\n",
       "    <tr>\n",
       "      <th>top</th>\n",
       "      <td>&lt;meta content=\"Snope Cottage\" itemprop=\"name\"/&gt;</td>\n",
       "      <td>4 beds</td>\n",
       "      <td>Home in Camber</td>\n",
       "      <td>$915 night$915 per night</td>\n",
       "      <td>New</td>\n",
       "      <td>&lt;div class=\"t1mwk1n0 dir dir-ltr\"&gt;Superhost&lt;/div&gt;</td>\n",
       "    </tr>\n",
       "    <tr>\n",
       "      <th>freq</th>\n",
       "      <td>118455</td>\n",
       "      <td>710726</td>\n",
       "      <td>118455</td>\n",
       "      <td>118455</td>\n",
       "      <td>236908</td>\n",
       "      <td>1302997</td>\n",
       "    </tr>\n",
       "  </tbody>\n",
       "</table>\n",
       "</div>"
      ],
      "text/plain": [
       "                                                  Title     Beds  \\\n",
       "count                                           2369084  2369084   \n",
       "unique                                               20       11   \n",
       "top     <meta content=\"Snope Cottage\" itemprop=\"name\"/>   4 beds   \n",
       "freq                                             118455   710726   \n",
       "\n",
       "              Location                     Price  Reviews  \\\n",
       "count          2369084                   2369084  2369084   \n",
       "unique              20                        20       19   \n",
       "top     Home in Camber  $915 night$915 per night      New   \n",
       "freq            118455                    118455   236908   \n",
       "\n",
       "                                                     Host  \n",
       "count                                             1302997  \n",
       "unique                                                  1  \n",
       "top     <div class=\"t1mwk1n0 dir dir-ltr\">Superhost</div>  \n",
       "freq                                              1302997  "
      ]
     },
     "execution_count": 5,
     "metadata": {},
     "output_type": "execute_result"
    }
   ],
   "source": [
    "#Descriptive statistics of the data\n",
    "df.describe()"
   ]
  },
  {
   "cell_type": "code",
   "execution_count": 6,
   "metadata": {},
   "outputs": [
    {
     "data": {
      "text/html": [
       "<div>\n",
       "<style scoped>\n",
       "    .dataframe tbody tr th:only-of-type {\n",
       "        vertical-align: middle;\n",
       "    }\n",
       "\n",
       "    .dataframe tbody tr th {\n",
       "        vertical-align: top;\n",
       "    }\n",
       "\n",
       "    .dataframe thead th {\n",
       "        text-align: right;\n",
       "    }\n",
       "</style>\n",
       "<table border=\"1\" class=\"dataframe\">\n",
       "  <thead>\n",
       "    <tr style=\"text-align: right;\">\n",
       "      <th></th>\n",
       "      <th>Title</th>\n",
       "      <th>Beds</th>\n",
       "      <th>Location</th>\n",
       "      <th>Price</th>\n",
       "      <th>Reviews</th>\n",
       "      <th>Host</th>\n",
       "    </tr>\n",
       "  </thead>\n",
       "  <tbody>\n",
       "    <tr>\n",
       "      <th>0</th>\n",
       "      <td>&lt;meta content=\"The Blue House on the Beach in ...</td>\n",
       "      <td>4 beds</td>\n",
       "      <td>Home in Camber</td>\n",
       "      <td>$915 night$915 per night</td>\n",
       "      <td>4.97 (35)</td>\n",
       "      <td>&lt;div class=\"t1mwk1n0 dir dir-ltr\"&gt;Superhost&lt;/div&gt;</td>\n",
       "    </tr>\n",
       "    <tr>\n",
       "      <th>1</th>\n",
       "      <td>&lt;meta content=\"3 bed house with amazing sea vi...</td>\n",
       "      <td>5 beds</td>\n",
       "      <td>Home in Mullion</td>\n",
       "      <td>$228 night$228 per night</td>\n",
       "      <td>4.87 (61)</td>\n",
       "      <td>&lt;div class=\"t1mwk1n0 dir dir-ltr\"&gt;Superhost&lt;/div&gt;</td>\n",
       "    </tr>\n",
       "    <tr>\n",
       "      <th>2</th>\n",
       "      <td>&lt;meta content=\"Snope Cottage\" itemprop=\"name\"/&gt;</td>\n",
       "      <td>4 beds</td>\n",
       "      <td>Cottage in Alston</td>\n",
       "      <td>$142 night$142 per night</td>\n",
       "      <td>4.8 (296)</td>\n",
       "      <td>NaN</td>\n",
       "    </tr>\n",
       "    <tr>\n",
       "      <th>3</th>\n",
       "      <td>&lt;meta content=\"Lochside Cottage\" itemprop=\"nam...</td>\n",
       "      <td>7 beds</td>\n",
       "      <td>Cottage in Stronachlachar</td>\n",
       "      <td>$191 night$191 per night</td>\n",
       "      <td>4.86 (106)</td>\n",
       "      <td>&lt;div class=\"t1mwk1n0 dir dir-ltr\"&gt;Superhost&lt;/div&gt;</td>\n",
       "    </tr>\n",
       "    <tr>\n",
       "      <th>4</th>\n",
       "      <td>&lt;meta content=\"Charingworth House @Charingwort...</td>\n",
       "      <td>22 beds</td>\n",
       "      <td>Home in Charingworth</td>\n",
       "      <td>$987 $766 night$766 per night, originally $987</td>\n",
       "      <td>5.0 (133)</td>\n",
       "      <td>&lt;div class=\"t1mwk1n0 dir dir-ltr\"&gt;Superhost&lt;/div&gt;</td>\n",
       "    </tr>\n",
       "  </tbody>\n",
       "</table>\n",
       "</div>"
      ],
      "text/plain": [
       "                                               Title     Beds  \\\n",
       "0  <meta content=\"The Blue House on the Beach in ...   4 beds   \n",
       "1  <meta content=\"3 bed house with amazing sea vi...   5 beds   \n",
       "2    <meta content=\"Snope Cottage\" itemprop=\"name\"/>   4 beds   \n",
       "3  <meta content=\"Lochside Cottage\" itemprop=\"nam...   7 beds   \n",
       "4  <meta content=\"Charingworth House @Charingwort...  22 beds   \n",
       "\n",
       "                    Location                                           Price  \\\n",
       "0             Home in Camber                        $915 night$915 per night   \n",
       "1            Home in Mullion                        $228 night$228 per night   \n",
       "2          Cottage in Alston                        $142 night$142 per night   \n",
       "3  Cottage in Stronachlachar                        $191 night$191 per night   \n",
       "4       Home in Charingworth  $987 $766 night$766 per night, originally $987   \n",
       "\n",
       "      Reviews                                               Host  \n",
       "0   4.97 (35)  <div class=\"t1mwk1n0 dir dir-ltr\">Superhost</div>  \n",
       "1   4.87 (61)  <div class=\"t1mwk1n0 dir dir-ltr\">Superhost</div>  \n",
       "2   4.8 (296)                                                NaN  \n",
       "3  4.86 (106)  <div class=\"t1mwk1n0 dir dir-ltr\">Superhost</div>  \n",
       "4   5.0 (133)  <div class=\"t1mwk1n0 dir dir-ltr\">Superhost</div>  "
      ]
     },
     "execution_count": 6,
     "metadata": {},
     "output_type": "execute_result"
    }
   ],
   "source": [
    "df.head()"
   ]
  },
  {
   "cell_type": "code",
   "execution_count": 7,
   "metadata": {},
   "outputs": [
    {
     "data": {
      "text/plain": [
       "Title             0\n",
       "Beds              0\n",
       "Location          0\n",
       "Price             0\n",
       "Reviews           0\n",
       "Host        1066087\n",
       "dtype: int64"
      ]
     },
     "execution_count": 7,
     "metadata": {},
     "output_type": "execute_result"
    }
   ],
   "source": [
    "#Null values in the dataset\n",
    "df.isnull().sum()"
   ]
  },
  {
   "cell_type": "markdown",
   "metadata": {},
   "source": [
    "## Strucure of the dataset\n",
    "- There are 2,369,084 listings in the dataset, all scraped from the Airbnb website, with 6 features(title, number of beds, location, price, reviews and category of the host). There are both numeric and categorical data types."
   ]
  },
  {
   "cell_type": "markdown",
   "metadata": {},
   "source": [
    "## Main features of interest\n",
    "- I'm mostly interested in finding out which specific locations will bring in more profit if an individual decides to list a space via the Airbnb site. Also, more information about that space, this includes size, reviews given on the specific lisings and also type of the listing example, a cabin, cottage or an entire home, will greatly assist in the decision making process."
   ]
  },
  {
   "cell_type": "markdown",
   "metadata": {},
   "source": [
    "# Cleaning Data"
   ]
  },
  {
   "cell_type": "code",
   "execution_count": 8,
   "metadata": {},
   "outputs": [],
   "source": [
    "# Copy of the originl dataset\n",
    "df_clean = df.copy()"
   ]
  },
  {
   "cell_type": "markdown",
   "metadata": {},
   "source": [
    "## Issue 1: Unnecessary data in the Titles"
   ]
  },
  {
   "cell_type": "markdown",
   "metadata": {},
   "source": [
    "### Define:\n",
    "- Perform slicing on the titles in order to remain with only the listing names"
   ]
  },
  {
   "cell_type": "markdown",
   "metadata": {},
   "source": [
    "### Code"
   ]
  },
  {
   "cell_type": "code",
   "execution_count": 9,
   "metadata": {},
   "outputs": [
    {
     "data": {
      "text/plain": [
       "'<meta content=\"3 bed house with amazing sea view and beach access\" itemprop=\"name\"/>'"
      ]
     },
     "execution_count": 9,
     "metadata": {},
     "output_type": "execute_result"
    }
   ],
   "source": [
    "df_clean['Title'][1]"
   ]
  },
  {
   "cell_type": "code",
   "execution_count": 34,
   "metadata": {},
   "outputs": [],
   "source": [
    "\n",
    "df_clean['Title'] = df_clean['Title'].str.strip('<meta content=\"')\n",
    "df_clean['Title'] = df_clean['Title'].str.strip('\" itemprop=\"name\"/>')\n",
    "    \n"
   ]
  },
  {
   "cell_type": "code",
   "execution_count": 35,
   "metadata": {},
   "outputs": [
    {
     "data": {
      "text/plain": [
       "'The Blue House on the Beach in Camb'"
      ]
     },
     "execution_count": 35,
     "metadata": {},
     "output_type": "execute_result"
    }
   ],
   "source": [
    "df_clean['Title'][0]"
   ]
  },
  {
   "cell_type": "code",
   "execution_count": null,
   "metadata": {},
   "outputs": [],
   "source": []
  }
 ],
 "metadata": {
  "kernelspec": {
   "display_name": "Python 3",
   "language": "python",
   "name": "python3"
  },
  "language_info": {
   "codemirror_mode": {
    "name": "ipython",
    "version": 3
   },
   "file_extension": ".py",
   "mimetype": "text/x-python",
   "name": "python",
   "nbconvert_exporter": "python",
   "pygments_lexer": "ipython3",
   "version": "3.8.3"
  }
 },
 "nbformat": 4,
 "nbformat_minor": 4
}
