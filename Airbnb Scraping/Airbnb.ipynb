{
 "cells": [
  {
   "cell_type": "markdown",
   "metadata": {},
   "source": [
    "## Introduction\n",
    "- This document explores the AirBnB dataset containing listings and attributes for approximately 300 listings."
   ]
  },
  {
   "cell_type": "code",
   "execution_count": 1,
   "metadata": {},
   "outputs": [],
   "source": [
    "#import all the needed packages and set plots to be embedded inline\n",
    "import pandas as pd\n",
    "import numpy as np\n",
    "import matplotlib.pyplot as plt\n",
    "import seaborn as sb\n",
    "import re #Regex\n",
    "from geopy.geocoders import Nominatim\n",
    "import reverse_geocoder as rg \n",
    "from geopy.point import Point\n",
    "from geopy.extra.rate_limiter import RateLimiter\n",
    "\n",
    "%matplotlib inline"
   ]
  },
  {
   "cell_type": "code",
   "execution_count": 2,
   "metadata": {},
   "outputs": [],
   "source": [
    "#Load the dataset into a panda dataframe\n",
    "df = pd.read_csv('Bookings UK(1-3).csv')\n",
    "df2 = pd.read_csv('Bookings UK(23-27).csv')\n",
    "df3 = pd.read_csv('Bookings US(1-3).csv')\n",
    "df4 = pd.read_csv('Bookings US(23-27).csv')"
   ]
  },
  {
   "cell_type": "code",
   "execution_count": 3,
   "metadata": {},
   "outputs": [
    {
     "data": {
      "text/plain": [
       "(300, 6)"
      ]
     },
     "execution_count": 3,
     "metadata": {},
     "output_type": "execute_result"
    }
   ],
   "source": [
    "#Dimensions of the dataset\n",
    "df.shape"
   ]
  },
  {
   "cell_type": "code",
   "execution_count": 4,
   "metadata": {},
   "outputs": [
    {
     "data": {
      "text/plain": [
       "Title       292\n",
       "Beds         27\n",
       "Location    292\n",
       "Price       174\n",
       "Reviews     241\n",
       "Host          3\n",
       "dtype: int64"
      ]
     },
     "execution_count": 4,
     "metadata": {},
     "output_type": "execute_result"
    }
   ],
   "source": [
    "#Number of unique values in the dataset\n",
    "df.nunique()"
   ]
  },
  {
   "cell_type": "code",
   "execution_count": 5,
   "metadata": {},
   "outputs": [
    {
     "name": "stdout",
     "output_type": "stream",
     "text": [
      "<class 'pandas.core.frame.DataFrame'>\n",
      "RangeIndex: 300 entries, 0 to 299\n",
      "Data columns (total 6 columns):\n",
      " #   Column    Non-Null Count  Dtype \n",
      "---  ------    --------------  ----- \n",
      " 0   Title     300 non-null    object\n",
      " 1   Beds      294 non-null    object\n",
      " 2   Location  300 non-null    object\n",
      " 3   Price     300 non-null    object\n",
      " 4   Reviews   283 non-null    object\n",
      " 5   Host      213 non-null    object\n",
      "dtypes: object(6)\n",
      "memory usage: 14.2+ KB\n"
     ]
    }
   ],
   "source": [
    "#Summary of the dataframe\n",
    "df.info()"
   ]
  },
  {
   "cell_type": "code",
   "execution_count": 6,
   "metadata": {},
   "outputs": [
    {
     "data": {
      "text/html": [
       "<div>\n",
       "<style scoped>\n",
       "    .dataframe tbody tr th:only-of-type {\n",
       "        vertical-align: middle;\n",
       "    }\n",
       "\n",
       "    .dataframe tbody tr th {\n",
       "        vertical-align: top;\n",
       "    }\n",
       "\n",
       "    .dataframe thead th {\n",
       "        text-align: right;\n",
       "    }\n",
       "</style>\n",
       "<table border=\"1\" class=\"dataframe\">\n",
       "  <thead>\n",
       "    <tr style=\"text-align: right;\">\n",
       "      <th></th>\n",
       "      <th>Title</th>\n",
       "      <th>Beds</th>\n",
       "      <th>Location</th>\n",
       "      <th>Price</th>\n",
       "      <th>Reviews</th>\n",
       "      <th>Host</th>\n",
       "    </tr>\n",
       "  </thead>\n",
       "  <tbody>\n",
       "    <tr>\n",
       "      <th>count</th>\n",
       "      <td>300</td>\n",
       "      <td>294</td>\n",
       "      <td>300</td>\n",
       "      <td>300</td>\n",
       "      <td>283</td>\n",
       "      <td>213</td>\n",
       "    </tr>\n",
       "    <tr>\n",
       "      <th>unique</th>\n",
       "      <td>292</td>\n",
       "      <td>27</td>\n",
       "      <td>292</td>\n",
       "      <td>174</td>\n",
       "      <td>241</td>\n",
       "      <td>3</td>\n",
       "    </tr>\n",
       "    <tr>\n",
       "      <th>top</th>\n",
       "      <td>&lt;meta content=\"Private Shepherds Hut - Off gri...</td>\n",
       "      <td>&lt;span class=\"dir dir-ltr\"&gt;1 double bed&lt;/span&gt;</td>\n",
       "      <td>&lt;div class=\"t1jojoys dir dir-ltr\" id=\"title_24...</td>\n",
       "      <td>$165 per night</td>\n",
       "      <td>&lt;span aria-hidden=\"true\" class=\"r1dxllyb dir d...</td>\n",
       "      <td>&lt;div class=\"t1mwk1n0 dir dir-ltr\"&gt;Superhost&lt;/div&gt;</td>\n",
       "    </tr>\n",
       "    <tr>\n",
       "      <th>freq</th>\n",
       "      <td>2</td>\n",
       "      <td>56</td>\n",
       "      <td>2</td>\n",
       "      <td>9</td>\n",
       "      <td>14</td>\n",
       "      <td>152</td>\n",
       "    </tr>\n",
       "  </tbody>\n",
       "</table>\n",
       "</div>"
      ],
      "text/plain": [
       "                                                    Title  \\\n",
       "count                                                 300   \n",
       "unique                                                292   \n",
       "top     <meta content=\"Private Shepherds Hut - Off gri...   \n",
       "freq                                                    2   \n",
       "\n",
       "                                                 Beds  \\\n",
       "count                                             294   \n",
       "unique                                             27   \n",
       "top     <span class=\"dir dir-ltr\">1 double bed</span>   \n",
       "freq                                               56   \n",
       "\n",
       "                                                 Location           Price  \\\n",
       "count                                                 300             300   \n",
       "unique                                                292             174   \n",
       "top     <div class=\"t1jojoys dir dir-ltr\" id=\"title_24...  $165 per night   \n",
       "freq                                                    2               9   \n",
       "\n",
       "                                                  Reviews  \\\n",
       "count                                                 283   \n",
       "unique                                                241   \n",
       "top     <span aria-hidden=\"true\" class=\"r1dxllyb dir d...   \n",
       "freq                                                   14   \n",
       "\n",
       "                                                     Host  \n",
       "count                                                 213  \n",
       "unique                                                  3  \n",
       "top     <div class=\"t1mwk1n0 dir dir-ltr\">Superhost</div>  \n",
       "freq                                                  152  "
      ]
     },
     "execution_count": 6,
     "metadata": {},
     "output_type": "execute_result"
    }
   ],
   "source": [
    "#Descriptive statistics of the data\n",
    "df.describe()"
   ]
  },
  {
   "cell_type": "code",
   "execution_count": 7,
   "metadata": {},
   "outputs": [
    {
     "data": {
      "text/html": [
       "<div>\n",
       "<style scoped>\n",
       "    .dataframe tbody tr th:only-of-type {\n",
       "        vertical-align: middle;\n",
       "    }\n",
       "\n",
       "    .dataframe tbody tr th {\n",
       "        vertical-align: top;\n",
       "    }\n",
       "\n",
       "    .dataframe thead th {\n",
       "        text-align: right;\n",
       "    }\n",
       "</style>\n",
       "<table border=\"1\" class=\"dataframe\">\n",
       "  <thead>\n",
       "    <tr style=\"text-align: right;\">\n",
       "      <th></th>\n",
       "      <th>Title</th>\n",
       "      <th>Beds</th>\n",
       "      <th>Location</th>\n",
       "      <th>Price</th>\n",
       "      <th>Reviews</th>\n",
       "      <th>Host</th>\n",
       "    </tr>\n",
       "  </thead>\n",
       "  <tbody>\n",
       "    <tr>\n",
       "      <th>0</th>\n",
       "      <td>&lt;meta content=\"David Emanuel Suite, Grade 11* ...</td>\n",
       "      <td>&lt;span class=\"dir dir-ltr\"&gt;1 bed&lt;/span&gt;</td>\n",
       "      <td>&lt;div class=\"t1jojoys dir dir-ltr\" id=\"title_71...</td>\n",
       "      <td>$623 per night</td>\n",
       "      <td>NaN</td>\n",
       "      <td>NaN</td>\n",
       "    </tr>\n",
       "    <tr>\n",
       "      <th>1</th>\n",
       "      <td>&lt;meta content=\"Berney - converted railway carr...</td>\n",
       "      <td>&lt;span class=\"dir dir-ltr\"&gt;2 double beds&lt;/span&gt;</td>\n",
       "      <td>&lt;div class=\"t1jojoys dir dir-ltr\" id=\"title_71...</td>\n",
       "      <td>$179 per night</td>\n",
       "      <td>&lt;span aria-hidden=\"true\" class=\"r1dxllyb dir d...</td>\n",
       "      <td>NaN</td>\n",
       "    </tr>\n",
       "    <tr>\n",
       "      <th>2</th>\n",
       "      <td>&lt;meta content=\"Superking Room- Proper B&amp;amp;B ...</td>\n",
       "      <td>&lt;span class=\"dir dir-ltr\"&gt;1 king bed&lt;/span&gt;</td>\n",
       "      <td>&lt;div class=\"t1jojoys dir dir-ltr\" id=\"title_42...</td>\n",
       "      <td>$199 per night</td>\n",
       "      <td>&lt;span aria-hidden=\"true\" class=\"r1dxllyb dir d...</td>\n",
       "      <td>&lt;div class=\"t1mwk1n0 dir dir-ltr\"&gt;Superhost&lt;/div&gt;</td>\n",
       "    </tr>\n",
       "    <tr>\n",
       "      <th>3</th>\n",
       "      <td>&lt;meta content=\"Kidwelly Farmhouse B&amp;amp;B -The...</td>\n",
       "      <td>&lt;span class=\"dir dir-ltr\"&gt;2 beds&lt;/span&gt;</td>\n",
       "      <td>&lt;div class=\"t1jojoys dir dir-ltr\" id=\"title_38...</td>\n",
       "      <td>$115 per night</td>\n",
       "      <td>&lt;span aria-hidden=\"true\" class=\"r1dxllyb dir d...</td>\n",
       "      <td>&lt;div class=\"t1mwk1n0 dir dir-ltr\"&gt;Superhost&lt;/div&gt;</td>\n",
       "    </tr>\n",
       "    <tr>\n",
       "      <th>4</th>\n",
       "      <td>&lt;meta content=\"The Lake  Lodge (Windermere)\" i...</td>\n",
       "      <td>&lt;span class=\"dir dir-ltr\"&gt;4 beds&lt;/span&gt;</td>\n",
       "      <td>&lt;div class=\"t1jojoys dir dir-ltr\" id=\"title_26...</td>\n",
       "      <td>$670 per night</td>\n",
       "      <td>&lt;span aria-hidden=\"true\" class=\"r1dxllyb dir d...</td>\n",
       "      <td>&lt;div class=\"t1mwk1n0 dir dir-ltr\"&gt;Superhost&lt;/div&gt;</td>\n",
       "    </tr>\n",
       "  </tbody>\n",
       "</table>\n",
       "</div>"
      ],
      "text/plain": [
       "                                               Title  \\\n",
       "0  <meta content=\"David Emanuel Suite, Grade 11* ...   \n",
       "1  <meta content=\"Berney - converted railway carr...   \n",
       "2  <meta content=\"Superking Room- Proper B&amp;B ...   \n",
       "3  <meta content=\"Kidwelly Farmhouse B&amp;B -The...   \n",
       "4  <meta content=\"The Lake  Lodge (Windermere)\" i...   \n",
       "\n",
       "                                             Beds  \\\n",
       "0          <span class=\"dir dir-ltr\">1 bed</span>   \n",
       "1  <span class=\"dir dir-ltr\">2 double beds</span>   \n",
       "2     <span class=\"dir dir-ltr\">1 king bed</span>   \n",
       "3         <span class=\"dir dir-ltr\">2 beds</span>   \n",
       "4         <span class=\"dir dir-ltr\">4 beds</span>   \n",
       "\n",
       "                                            Location           Price  \\\n",
       "0  <div class=\"t1jojoys dir dir-ltr\" id=\"title_71...  $623 per night   \n",
       "1  <div class=\"t1jojoys dir dir-ltr\" id=\"title_71...  $179 per night   \n",
       "2  <div class=\"t1jojoys dir dir-ltr\" id=\"title_42...  $199 per night   \n",
       "3  <div class=\"t1jojoys dir dir-ltr\" id=\"title_38...  $115 per night   \n",
       "4  <div class=\"t1jojoys dir dir-ltr\" id=\"title_26...  $670 per night   \n",
       "\n",
       "                                             Reviews  \\\n",
       "0                                                NaN   \n",
       "1  <span aria-hidden=\"true\" class=\"r1dxllyb dir d...   \n",
       "2  <span aria-hidden=\"true\" class=\"r1dxllyb dir d...   \n",
       "3  <span aria-hidden=\"true\" class=\"r1dxllyb dir d...   \n",
       "4  <span aria-hidden=\"true\" class=\"r1dxllyb dir d...   \n",
       "\n",
       "                                                Host  \n",
       "0                                                NaN  \n",
       "1                                                NaN  \n",
       "2  <div class=\"t1mwk1n0 dir dir-ltr\">Superhost</div>  \n",
       "3  <div class=\"t1mwk1n0 dir dir-ltr\">Superhost</div>  \n",
       "4  <div class=\"t1mwk1n0 dir dir-ltr\">Superhost</div>  "
      ]
     },
     "execution_count": 7,
     "metadata": {},
     "output_type": "execute_result"
    }
   ],
   "source": [
    "df.head()"
   ]
  },
  {
   "cell_type": "code",
   "execution_count": 8,
   "metadata": {},
   "outputs": [
    {
     "data": {
      "text/plain": [
       "Title        0\n",
       "Beds         6\n",
       "Location     0\n",
       "Price        0\n",
       "Reviews     17\n",
       "Host        87\n",
       "dtype: int64"
      ]
     },
     "execution_count": 8,
     "metadata": {},
     "output_type": "execute_result"
    }
   ],
   "source": [
    "#Null values in the dataset\n",
    "df.isnull().sum()"
   ]
  },
  {
   "cell_type": "markdown",
   "metadata": {},
   "source": [
    "## Strucure of the dataset\n",
    "- There are not more than 300 listings in the datasets, all scraped from the Airbnb website, with 6 features(title, number of beds, location, price, reviews and category of the host). There are both numeric and categorical data types. \n",
    "- The four different datasets are of listings from two region; US and UK with dates from 1-3 December and 23-27 December. The data will mostly help show how the prices of the listings vary from the two sets of dates and also the availability of listings in the two regions.\n"
   ]
  },
  {
   "cell_type": "markdown",
   "metadata": {},
   "source": [
    "## Main features of interest\n",
    "- I'm mostly interested in finding out which specific locations will bring in more profit if an individual decides to list a space via the Airbnb site. Also, more information about that space, number of beds, reviews given on the specific lisings and also type of the listing example, a cabin, cottage or an entire home, will greatly assist in the decision making process."
   ]
  },
  {
   "cell_type": "markdown",
   "metadata": {},
   "source": [
    "# Cleaning Data"
   ]
  },
  {
   "cell_type": "code",
   "execution_count": 9,
   "metadata": {},
   "outputs": [],
   "source": [
    "# Copy of the originl datasets\n",
    "df_clean = df.copy()\n",
    "df2_clean = df2.copy()\n",
    "df3_clean = df3.copy()\n",
    "df4_clean = df4.copy()"
   ]
  },
  {
   "cell_type": "markdown",
   "metadata": {},
   "source": [
    "## Issue 1: Unnecessary data in the Dataset(HTML Tags)"
   ]
  },
  {
   "cell_type": "markdown",
   "metadata": {},
   "source": [
    "### Define:\n",
    "- Use the lstrip and rstrip functions to get rid of the unwanted characters of the strings in the dataset.\n"
   ]
  },
  {
   "cell_type": "markdown",
   "metadata": {},
   "source": [
    "### Code"
   ]
  },
  {
   "cell_type": "code",
   "execution_count": 10,
   "metadata": {},
   "outputs": [
    {
     "data": {
      "text/plain": [
       "'<meta content=\"NEW Luxury Romantic Cottage - Idyllic Rural Bliss\" itemprop=\"name\"/>'"
      ]
     },
     "execution_count": 10,
     "metadata": {},
     "output_type": "execute_result"
    }
   ],
   "source": [
    "df2_clean['Title'][1]"
   ]
  },
  {
   "cell_type": "markdown",
   "metadata": {},
   "source": [
    "### Titles"
   ]
  },
  {
   "cell_type": "code",
   "execution_count": 11,
   "metadata": {},
   "outputs": [],
   "source": [
    "#Strip the html tags from Listings titles\n",
    "df_clean['Title'] = df_clean['Title'].map(lambda x: x.lstrip('<meta content=\"').rstrip(' itemprop=\"name\"/>'))"
   ]
  },
  {
   "cell_type": "code",
   "execution_count": 12,
   "metadata": {},
   "outputs": [],
   "source": [
    "df2_clean['Title'] = df2_clean['Title'].map(lambda x: x.lstrip('<meta content=\"').rstrip(' itemprop=\"name\"/>'))"
   ]
  },
  {
   "cell_type": "code",
   "execution_count": 13,
   "metadata": {},
   "outputs": [],
   "source": [
    "df3_clean['Title'] = df3_clean['Title'].map(lambda x: x.lstrip('<meta content=\"').rstrip(' itemprop=\"name\"/>'))"
   ]
  },
  {
   "cell_type": "code",
   "execution_count": 14,
   "metadata": {},
   "outputs": [],
   "source": [
    "df4_clean['Title'] = df3_clean['Title'].map(lambda x: x.lstrip('<meta content=\"').rstrip(' itemprop=\"name\"/>'))"
   ]
  },
  {
   "cell_type": "markdown",
   "metadata": {},
   "source": [
    "## Beds"
   ]
  },
  {
   "cell_type": "code",
   "execution_count": 15,
   "metadata": {},
   "outputs": [
    {
     "data": {
      "text/plain": [
       "'<span class=\"dir dir-ltr\">1 bed</span>'"
      ]
     },
     "execution_count": 15,
     "metadata": {},
     "output_type": "execute_result"
    }
   ],
   "source": [
    "df_clean['Beds'][0]"
   ]
  },
  {
   "cell_type": "code",
   "execution_count": 16,
   "metadata": {},
   "outputs": [],
   "source": [
    "##Strip the html tags from Listings number of beds\n",
    "df_clean['Beds'] = df_clean['Beds'].astype(str).str.lstrip('<span class=\"dir dir-ltr\">').str.rstrip('</span>')"
   ]
  },
  {
   "cell_type": "code",
   "execution_count": 17,
   "metadata": {},
   "outputs": [],
   "source": [
    "df2_clean['Beds'] = df2_clean['Beds'].astype(str).str.lstrip('<span class=\"dir dir-ltr\">').str.rstrip('</span>')"
   ]
  },
  {
   "cell_type": "code",
   "execution_count": 18,
   "metadata": {},
   "outputs": [],
   "source": [
    "df3_clean['Beds'] = df3_clean['Beds'].astype(str).str.lstrip('<span class=\"dir dir-ltr\">').str.rstrip('</span>')"
   ]
  },
  {
   "cell_type": "code",
   "execution_count": 19,
   "metadata": {},
   "outputs": [],
   "source": [
    "df4_clean['Beds'] = df4_clean['Beds'].astype(str).str.lstrip('<span class=\"dir dir-ltr\">').str.rstrip('</span>')"
   ]
  },
  {
   "cell_type": "markdown",
   "metadata": {},
   "source": [
    "## Location"
   ]
  },
  {
   "cell_type": "code",
   "execution_count": 20,
   "metadata": {},
   "outputs": [
    {
     "data": {
      "text/plain": [
       "'<div class=\"t1jojoys dir dir-ltr\" id=\"title_717228152145251237\">Private room in Gileston</div>'"
      ]
     },
     "execution_count": 20,
     "metadata": {},
     "output_type": "execute_result"
    }
   ],
   "source": [
    "df_clean['Location'][0]"
   ]
  },
  {
   "cell_type": "code",
   "execution_count": 21,
   "metadata": {},
   "outputs": [],
   "source": [
    "##Strip the html tags from Listings locations\n",
    "df_clean['Location'] = df_clean['Location'].map(lambda x: x.lstrip('<div class=\"t1jojoys dir dir-ltr\" id=\"title_717228152145251237\">').rstrip('</div>'))"
   ]
  },
  {
   "cell_type": "code",
   "execution_count": 22,
   "metadata": {},
   "outputs": [],
   "source": [
    "df2_clean['Location'] = df2_clean['Location'].map(lambda x: x.lstrip('<div class=\"t1jojoys dir dir-ltr\" id=\"title_717228152145251237\">').rstrip('</div>'))"
   ]
  },
  {
   "cell_type": "code",
   "execution_count": 23,
   "metadata": {},
   "outputs": [],
   "source": [
    "df3_clean['Location'] = df3_clean['Location'].map(lambda x: x.lstrip('<div class=\"t1jojoys dir dir-ltr\" id=\"title_717228152145251237\">').rstrip('</div>'))"
   ]
  },
  {
   "cell_type": "code",
   "execution_count": 24,
   "metadata": {},
   "outputs": [],
   "source": [
    "df4_clean['Location'] = df4_clean['Location'].map(lambda x: x.lstrip('<div class=\"t1jojoys dir dir-ltr\" id=\"title_717228152145251237\">').rstrip('</div>'))"
   ]
  },
  {
   "cell_type": "code",
   "execution_count": 25,
   "metadata": {},
   "outputs": [],
   "source": [
    "#Some title tags info from the Locations were not removed using the previous strip function, the split function will get rid of those\n",
    "df_clean['Location'] = df_clean['Location'].astype(str).str.split('\\>', n=1, expand=True)[1]"
   ]
  },
  {
   "cell_type": "code",
   "execution_count": 26,
   "metadata": {},
   "outputs": [],
   "source": [
    "df2_clean['Location'] = df2_clean['Location'].astype(str).str.split('\\>', n=1, expand=True)[1]"
   ]
  },
  {
   "cell_type": "code",
   "execution_count": 27,
   "metadata": {},
   "outputs": [],
   "source": [
    "df3_clean['Location'] = df3_clean['Location'].astype(str).str.split('\\>', n=1, expand=True)[1]"
   ]
  },
  {
   "cell_type": "code",
   "execution_count": 28,
   "metadata": {},
   "outputs": [],
   "source": [
    "df4_clean['Location'] = df4_clean['Location'].astype(str).str.split('\\>', n=1, expand=True)[1]"
   ]
  },
  {
   "cell_type": "markdown",
   "metadata": {},
   "source": [
    "## Reviews"
   ]
  },
  {
   "cell_type": "code",
   "execution_count": 29,
   "metadata": {},
   "outputs": [
    {
     "data": {
      "text/plain": [
       "'<span aria-hidden=\"true\" class=\"r1dxllyb dir dir-ltr\">4.93 (164)</span>'"
      ]
     },
     "execution_count": 29,
     "metadata": {},
     "output_type": "execute_result"
    }
   ],
   "source": [
    "df_clean['Reviews'][4]"
   ]
  },
  {
   "cell_type": "code",
   "execution_count": 30,
   "metadata": {},
   "outputs": [],
   "source": [
    "##Strip the html tags from Listings reviews\n",
    "df_clean['Reviews'] = df_clean['Reviews'].astype(str).str.lstrip('<span aria-hidden=\"true\" class=\"r1dxllyb dir dir-ltr\">').str.rstrip('</span>')"
   ]
  },
  {
   "cell_type": "code",
   "execution_count": 31,
   "metadata": {},
   "outputs": [],
   "source": [
    "df2_clean['Reviews'] = df2_clean['Reviews'].astype(str).str.lstrip('<span aria-hidden=\"true\" class=\"r1dxllyb dir dir-ltr\">').str.rstrip('</span>')"
   ]
  },
  {
   "cell_type": "code",
   "execution_count": 32,
   "metadata": {},
   "outputs": [],
   "source": [
    "df3_clean['Reviews'] = df3_clean['Reviews'].astype(str).str.lstrip('<span aria-hidden=\"true\" class=\"r1dxllyb dir dir-ltr\">').str.rstrip('</span>')"
   ]
  },
  {
   "cell_type": "code",
   "execution_count": 33,
   "metadata": {},
   "outputs": [],
   "source": [
    "df4_clean['Reviews'] = df4_clean['Reviews'].astype(str).str.lstrip('<span aria-hidden=\"true\" class=\"r1dxllyb dir dir-ltr\">').str.rstrip('</span>')"
   ]
  },
  {
   "cell_type": "markdown",
   "metadata": {},
   "source": [
    "## Host Info"
   ]
  },
  {
   "cell_type": "code",
   "execution_count": 34,
   "metadata": {},
   "outputs": [
    {
     "data": {
      "text/plain": [
       "'<div class=\"t1mwk1n0 dir dir-ltr\">Superhost</div>'"
      ]
     },
     "execution_count": 34,
     "metadata": {},
     "output_type": "execute_result"
    }
   ],
   "source": [
    "df_clean['Host'][4]"
   ]
  },
  {
   "cell_type": "code",
   "execution_count": 35,
   "metadata": {},
   "outputs": [],
   "source": [
    "##Strip the html tags from Listings host info\n",
    "df_clean['Host'] = df_clean['Host'].astype(str).str.lstrip('<div class=\"t1mwk1n0 dir dir-ltr\">').str.rstrip('</div>')\n"
   ]
  },
  {
   "cell_type": "code",
   "execution_count": 36,
   "metadata": {},
   "outputs": [],
   "source": [
    "df2_clean['Host'] = df2_clean['Host'].astype(str).str.lstrip('<div class=\"t1mwk1n0 dir dir-ltr\">').str.rstrip('</div>')\n"
   ]
  },
  {
   "cell_type": "code",
   "execution_count": 37,
   "metadata": {},
   "outputs": [],
   "source": [
    "df3_clean['Host'] = df3_clean['Host'].astype(str).str.lstrip('<div class=\"t1mwk1n0 dir dir-ltr\">').str.rstrip('</div>')\n"
   ]
  },
  {
   "cell_type": "code",
   "execution_count": 38,
   "metadata": {},
   "outputs": [],
   "source": [
    "df4_clean['Host'] = df4_clean['Host'].astype(str).str.lstrip('<div class=\"t1mwk1n0 dir dir-ltr\">').str.rstrip('</div>')\n"
   ]
  },
  {
   "cell_type": "markdown",
   "metadata": {},
   "source": [
    "### Test"
   ]
  },
  {
   "cell_type": "markdown",
   "metadata": {},
   "source": [
    "## T1"
   ]
  },
  {
   "cell_type": "code",
   "execution_count": 39,
   "metadata": {},
   "outputs": [
    {
     "data": {
      "text/plain": [
       "17      1 king bed\n",
       "142    1 queen bed\n",
       "278     1 king bed\n",
       "213               \n",
       "Name: Beds, dtype: object"
      ]
     },
     "execution_count": 39,
     "metadata": {},
     "output_type": "execute_result"
    }
   ],
   "source": [
    "df_clean['Beds'].sample(4)"
   ]
  },
  {
   "cell_type": "code",
   "execution_count": 40,
   "metadata": {},
   "outputs": [
    {
     "data": {
      "text/plain": [
       "181    4 bed\n",
       "92     3 bed\n",
       "Name: Beds, dtype: object"
      ]
     },
     "execution_count": 40,
     "metadata": {},
     "output_type": "execute_result"
    }
   ],
   "source": [
    "df2_clean['Beds'].sample(2)"
   ]
  },
  {
   "cell_type": "code",
   "execution_count": 41,
   "metadata": {},
   "outputs": [
    {
     "data": {
      "text/plain": [
       "287          6 bed\n",
       "272    2 queen bed\n",
       "Name: Beds, dtype: object"
      ]
     },
     "execution_count": 41,
     "metadata": {},
     "output_type": "execute_result"
    }
   ],
   "source": [
    "df3_clean['Beds'].sample(2)"
   ]
  },
  {
   "cell_type": "code",
   "execution_count": 42,
   "metadata": {},
   "outputs": [
    {
     "data": {
      "text/plain": [
       "41         2 bed\n",
       "37    1 king bed\n",
       "Name: Beds, dtype: object"
      ]
     },
     "execution_count": 42,
     "metadata": {},
     "output_type": "execute_result"
    }
   ],
   "source": [
    "df4_clean['Beds'].sample(2)"
   ]
  },
  {
   "cell_type": "markdown",
   "metadata": {},
   "source": [
    "## T2"
   ]
  },
  {
   "cell_type": "code",
   "execution_count": 43,
   "metadata": {},
   "outputs": [
    {
     "data": {
      "text/plain": [
       "52     Treetop Tent in Dark Skies Park - Red Dragon's...\n",
       "275    Hound Tor Annexe, everything you need in one plac\n",
       "145                                        The Vale  Cab\n",
       "92                         The Chamber at White Rose Tow\n",
       "Name: Title, dtype: object"
      ]
     },
     "execution_count": 43,
     "metadata": {},
     "output_type": "execute_result"
    }
   ],
   "source": [
    "df_clean['Title'].sample(4)"
   ]
  },
  {
   "cell_type": "code",
   "execution_count": 44,
   "metadata": {},
   "outputs": [
    {
     "data": {
      "text/plain": [
       "165          Coastal Village.  Manorbier. NrTenby. Doubl\n",
       "256    CORRIEHALL STOPOVER-hut3of4 CHARTREUS 2 single...\n",
       "172    5 Star, 2 Bedroom Scandinavian Lodge with Hot Tub\n",
       "29                                 The place to bee... 🐝\n",
       "Name: Title, dtype: object"
      ]
     },
     "execution_count": 44,
     "metadata": {},
     "output_type": "execute_result"
    }
   ],
   "source": [
    "df2_clean['Title'].sample(4)"
   ]
  },
  {
   "cell_type": "code",
   "execution_count": 45,
   "metadata": {},
   "outputs": [
    {
     "data": {
      "text/plain": [
       "169                        Cozy Farmhouse - Pet friendly\n",
       "217        The Dude's Abode A-Frame Private Ocean Access\n",
       "215                 'Cozy Cabin 9 Mi fr. Glacier \"Deer\"'\n",
       "288    Charming Cabin near Hood Canal, Lake Cushman &...\n",
       "Name: Title, dtype: object"
      ]
     },
     "execution_count": 45,
     "metadata": {},
     "output_type": "execute_result"
    }
   ],
   "source": [
    "df3_clean['Title'].sample(4)"
   ]
  },
  {
   "cell_type": "code",
   "execution_count": 46,
   "metadata": {},
   "outputs": [
    {
     "data": {
      "text/plain": [
       "62                                       Off-grid itHous\n",
       "211                                           Birdsong R\n",
       "257       WAVERLY’S WHITE BUNGALOW OVER THE WATER~~~~~~~\n",
       "299    SA Beach Suite #1 - Beachfront Apartment on Ca...\n",
       "Name: Title, dtype: object"
      ]
     },
     "execution_count": 46,
     "metadata": {},
     "output_type": "execute_result"
    }
   ],
   "source": [
    "df4_clean['Title'].sample(4)"
   ]
  },
  {
   "cell_type": "markdown",
   "metadata": {},
   "source": [
    "## T3"
   ]
  },
  {
   "cell_type": "code",
   "execution_count": 47,
   "metadata": {},
   "outputs": [
    {
     "data": {
      "text/plain": [
       "201                            None\n",
       "151    Private room in East Farndon\n",
       "214                            None\n",
       "183                Cabin in Cumbria\n",
       "100           Home in Tyne and Wear\n",
       "Name: Location, dtype: object"
      ]
     },
     "execution_count": 47,
     "metadata": {},
     "output_type": "execute_result"
    }
   ],
   "source": [
    "df_clean['Location'].sample(5)"
   ]
  },
  {
   "cell_type": "code",
   "execution_count": 48,
   "metadata": {},
   "outputs": [
    {
     "data": {
      "text/plain": [
       "88          Cabin in North Yorkshire\n",
       "216          Shepherd’s hut in Conwy\n",
       "162              Farm stay in Beulah\n",
       "287                             None\n",
       "298    Home in Bowness on Windermere\n",
       "Name: Location, dtype: object"
      ]
     },
     "execution_count": 48,
     "metadata": {},
     "output_type": "execute_result"
    }
   ],
   "source": [
    "df2_clean['Location'].sample(5)"
   ]
  },
  {
   "cell_type": "code",
   "execution_count": 49,
   "metadata": {},
   "outputs": [
    {
     "data": {
      "text/plain": [
       "88     Private room in Phenix City\n",
       "209                           None\n",
       "158        Bungalow in Nevada City\n",
       "198         Townhouse in Surf City\n",
       "234             Home in Scottsdale\n",
       "Name: Location, dtype: object"
      ]
     },
     "execution_count": 49,
     "metadata": {},
     "output_type": "execute_result"
    }
   ],
   "source": [
    "df3_clean['Location'].sample(5)"
   ]
  },
  {
   "cell_type": "code",
   "execution_count": 50,
   "metadata": {},
   "outputs": [
    {
     "data": {
      "text/plain": [
       "156    Home in Jacksonville Beach\n",
       "223          Cabin in Sevierville\n",
       "188           Cabin in Broken Bow\n",
       "248               Cabin in Athens\n",
       "126           Tiny home in Marion\n",
       "Name: Location, dtype: object"
      ]
     },
     "execution_count": 50,
     "metadata": {},
     "output_type": "execute_result"
    }
   ],
   "source": [
    "df4_clean['Location'].sample(5)"
   ]
  },
  {
   "cell_type": "markdown",
   "metadata": {},
   "source": [
    "## T4"
   ]
  },
  {
   "cell_type": "code",
   "execution_count": 51,
   "metadata": {},
   "outputs": [
    {
     "data": {
      "text/plain": [
       "147    4.87 (45)\n",
       "96     4.79 (58)\n",
       "145    4.67 (70)\n",
       "72      4.9 (21)\n",
       "140    4.59 (58)\n",
       "Name: Reviews, dtype: object"
      ]
     },
     "execution_count": 51,
     "metadata": {},
     "output_type": "execute_result"
    }
   ],
   "source": [
    "df_clean['Reviews'].sample(5)"
   ]
  },
  {
   "cell_type": "code",
   "execution_count": 52,
   "metadata": {},
   "outputs": [
    {
     "data": {
      "text/plain": [
       "103      4.8 (50)\n",
       "245    4.98 (110)\n",
       "57      4.9 (241)\n",
       "133     4.88 (16)\n",
       "197     4.91 (22)\n",
       "Name: Reviews, dtype: object"
      ]
     },
     "execution_count": 52,
     "metadata": {},
     "output_type": "execute_result"
    }
   ],
   "source": [
    "df2_clean['Reviews'].sample(5)"
   ]
  },
  {
   "cell_type": "code",
   "execution_count": 53,
   "metadata": {},
   "outputs": [
    {
     "data": {
      "text/plain": [
       "43            New\n",
       "270    4.99 (113)\n",
       "81       5.0 (17)\n",
       "137      4.9 (49)\n",
       "259     4.8 (213)\n",
       "Name: Reviews, dtype: object"
      ]
     },
     "execution_count": 53,
     "metadata": {},
     "output_type": "execute_result"
    }
   ],
   "source": [
    "df3_clean['Reviews'].sample(5)"
   ]
  },
  {
   "cell_type": "code",
   "execution_count": 54,
   "metadata": {},
   "outputs": [
    {
     "data": {
      "text/plain": [
       "297     4.94 (54)\n",
       "112     4.9 (347)\n",
       "172    4.84 (126)\n",
       "252    4.96 (328)\n",
       "115     4.8 (254)\n",
       "Name: Reviews, dtype: object"
      ]
     },
     "execution_count": 54,
     "metadata": {},
     "output_type": "execute_result"
    }
   ],
   "source": [
    "df4_clean['Reviews'].sample(5)"
   ]
  },
  {
   "cell_type": "markdown",
   "metadata": {},
   "source": [
    "## T5"
   ]
  },
  {
   "cell_type": "code",
   "execution_count": 55,
   "metadata": {},
   "outputs": [
    {
     "data": {
      "text/plain": [
       "256    Superhost\n",
       "159    Superhost\n",
       "71     Superhost\n",
       "47     Superhost\n",
       "266     Rare fin\n",
       "Name: Host, dtype: object"
      ]
     },
     "execution_count": 55,
     "metadata": {},
     "output_type": "execute_result"
    }
   ],
   "source": [
    "df_clean['Host'].sample(5)"
   ]
  },
  {
   "cell_type": "code",
   "execution_count": 56,
   "metadata": {},
   "outputs": [
    {
     "data": {
      "text/plain": [
       "85              \n",
       "280    Superhost\n",
       "293     Rare fin\n",
       "259     Rare fin\n",
       "134             \n",
       "Name: Host, dtype: object"
      ]
     },
     "execution_count": 56,
     "metadata": {},
     "output_type": "execute_result"
    }
   ],
   "source": [
    "df2_clean['Host'].sample(5)"
   ]
  },
  {
   "cell_type": "code",
   "execution_count": 57,
   "metadata": {},
   "outputs": [
    {
     "data": {
      "text/plain": [
       "232    Superhost\n",
       "227     Rare fin\n",
       "167     Rare fin\n",
       "37          Plus\n",
       "189     Rare fin\n",
       "Name: Host, dtype: object"
      ]
     },
     "execution_count": 57,
     "metadata": {},
     "output_type": "execute_result"
    }
   ],
   "source": [
    "df3_clean['Host'].sample(5)"
   ]
  },
  {
   "cell_type": "code",
   "execution_count": 58,
   "metadata": {},
   "outputs": [
    {
     "data": {
      "text/plain": [
       "229    Superhost\n",
       "244    Superhost\n",
       "230             \n",
       "196    Superhost\n",
       "80     Superhost\n",
       "Name: Host, dtype: object"
      ]
     },
     "execution_count": 58,
     "metadata": {},
     "output_type": "execute_result"
    }
   ],
   "source": [
    "df4_clean['Host'].sample(5)"
   ]
  },
  {
   "cell_type": "code",
   "execution_count": 59,
   "metadata": {},
   "outputs": [
    {
     "data": {
      "text/html": [
       "<div>\n",
       "<style scoped>\n",
       "    .dataframe tbody tr th:only-of-type {\n",
       "        vertical-align: middle;\n",
       "    }\n",
       "\n",
       "    .dataframe tbody tr th {\n",
       "        vertical-align: top;\n",
       "    }\n",
       "\n",
       "    .dataframe thead th {\n",
       "        text-align: right;\n",
       "    }\n",
       "</style>\n",
       "<table border=\"1\" class=\"dataframe\">\n",
       "  <thead>\n",
       "    <tr style=\"text-align: right;\">\n",
       "      <th></th>\n",
       "      <th>Title</th>\n",
       "      <th>Beds</th>\n",
       "      <th>Location</th>\n",
       "      <th>Price</th>\n",
       "      <th>Reviews</th>\n",
       "      <th>Host</th>\n",
       "    </tr>\n",
       "  </thead>\n",
       "  <tbody>\n",
       "    <tr>\n",
       "      <th>81</th>\n",
       "      <td>Eden Hideaway</td>\n",
       "      <td>3 bed</td>\n",
       "      <td>Farm stay in Scottish Borders</td>\n",
       "      <td>$355 per night</td>\n",
       "      <td>5.0 (48)</td>\n",
       "      <td></td>\n",
       "    </tr>\n",
       "    <tr>\n",
       "      <th>237</th>\n",
       "      <td>The Hive @ Braeside Retreats</td>\n",
       "      <td>1 bed</td>\n",
       "      <td>Tiny home in Thurso</td>\n",
       "      <td>$157 per night</td>\n",
       "      <td></td>\n",
       "      <td></td>\n",
       "    </tr>\n",
       "    <tr>\n",
       "      <th>46</th>\n",
       "      <td>Hobbit House @ Sychpwll</td>\n",
       "      <td>2 double bed</td>\n",
       "      <td>Earthen home in Llandrinio</td>\n",
       "      <td>$172 per night</td>\n",
       "      <td>4.92 (77)</td>\n",
       "      <td>Superhost</td>\n",
       "    </tr>\n",
       "    <tr>\n",
       "      <th>120</th>\n",
       "      <td>Tiny Home A frame cabin SILVA</td>\n",
       "      <td>1 queen bed</td>\n",
       "      <td>Tiny home in Cowes</td>\n",
       "      <td>$151 per night</td>\n",
       "      <td>4.87 (68)</td>\n",
       "      <td>Superhost</td>\n",
       "    </tr>\n",
       "    <tr>\n",
       "      <th>105</th>\n",
       "      <td>Under The Waves  Unique Apartment Filey Sea F</td>\n",
       "      <td>1 bed</td>\n",
       "      <td>Vacation home in North Yorkshire</td>\n",
       "      <td>$361 per night</td>\n",
       "      <td></td>\n",
       "      <td></td>\n",
       "    </tr>\n",
       "  </tbody>\n",
       "</table>\n",
       "</div>"
      ],
      "text/plain": [
       "                                             Title          Beds  \\\n",
       "81                                   Eden Hideaway         3 bed   \n",
       "237                   The Hive @ Braeside Retreats         1 bed   \n",
       "46                         Hobbit House @ Sychpwll  2 double bed   \n",
       "120                  Tiny Home A frame cabin SILVA   1 queen bed   \n",
       "105  Under The Waves  Unique Apartment Filey Sea F         1 bed   \n",
       "\n",
       "                             Location           Price    Reviews       Host  \n",
       "81      Farm stay in Scottish Borders  $355 per night   5.0 (48)             \n",
       "237               Tiny home in Thurso  $157 per night                        \n",
       "46         Earthen home in Llandrinio  $172 per night  4.92 (77)  Superhost  \n",
       "120                Tiny home in Cowes  $151 per night  4.87 (68)  Superhost  \n",
       "105  Vacation home in North Yorkshire  $361 per night                        "
      ]
     },
     "execution_count": 59,
     "metadata": {},
     "output_type": "execute_result"
    }
   ],
   "source": [
    "df_clean.sample(5)"
   ]
  },
  {
   "cell_type": "code",
   "execution_count": 60,
   "metadata": {},
   "outputs": [
    {
     "data": {
      "text/html": [
       "<div>\n",
       "<style scoped>\n",
       "    .dataframe tbody tr th:only-of-type {\n",
       "        vertical-align: middle;\n",
       "    }\n",
       "\n",
       "    .dataframe tbody tr th {\n",
       "        vertical-align: top;\n",
       "    }\n",
       "\n",
       "    .dataframe thead th {\n",
       "        text-align: right;\n",
       "    }\n",
       "</style>\n",
       "<table border=\"1\" class=\"dataframe\">\n",
       "  <thead>\n",
       "    <tr style=\"text-align: right;\">\n",
       "      <th></th>\n",
       "      <th>Title</th>\n",
       "      <th>Beds</th>\n",
       "      <th>Location</th>\n",
       "      <th>Price</th>\n",
       "      <th>Reviews</th>\n",
       "      <th>Host</th>\n",
       "    </tr>\n",
       "  </thead>\n",
       "  <tbody>\n",
       "    <tr>\n",
       "      <th>12</th>\n",
       "      <td>Oak-UK36258 (UK36258)</td>\n",
       "      <td>1 double bed</td>\n",
       "      <td>Home in Llanfair Caereinion</td>\n",
       "      <td>$189 per night</td>\n",
       "      <td>New</td>\n",
       "      <td></td>\n",
       "    </tr>\n",
       "    <tr>\n",
       "      <th>187</th>\n",
       "      <td>Ardlea cottage, 2 en-suite bedroomed cottage,</td>\n",
       "      <td>3 bed</td>\n",
       "      <td>Cottage in Fionnphort</td>\n",
       "      <td>$247 per night</td>\n",
       "      <td>New</td>\n",
       "      <td>Superhost</td>\n",
       "    </tr>\n",
       "    <tr>\n",
       "      <th>197</th>\n",
       "      <td>Peak House Farm (Hereford Double Ensuite)</td>\n",
       "      <td>1 bed</td>\n",
       "      <td>None</td>\n",
       "      <td>$102 per night</td>\n",
       "      <td>4.91 (22)</td>\n",
       "      <td></td>\n",
       "    </tr>\n",
       "    <tr>\n",
       "      <th>202</th>\n",
       "      <td>The Hazel Hide - Luxury Eco A-Frame Cab</td>\n",
       "      <td>4 bed</td>\n",
       "      <td>Cabin in Ashington</td>\n",
       "      <td>$253 per night</td>\n",
       "      <td>New</td>\n",
       "      <td></td>\n",
       "    </tr>\n",
       "    <tr>\n",
       "      <th>146</th>\n",
       "      <td>Longwood farm. white cabin. Peace and tranquility</td>\n",
       "      <td>3 bed</td>\n",
       "      <td>Cabin in North Yorkshire</td>\n",
       "      <td>$241 per night</td>\n",
       "      <td>5.0 (22)</td>\n",
       "      <td></td>\n",
       "    </tr>\n",
       "  </tbody>\n",
       "</table>\n",
       "</div>"
      ],
      "text/plain": [
       "                                                 Title          Beds  \\\n",
       "12                               Oak-UK36258 (UK36258)  1 double bed   \n",
       "187      Ardlea cottage, 2 en-suite bedroomed cottage,         3 bed   \n",
       "197          Peak House Farm (Hereford Double Ensuite)         1 bed   \n",
       "202            The Hazel Hide - Luxury Eco A-Frame Cab         4 bed   \n",
       "146  Longwood farm. white cabin. Peace and tranquility         3 bed   \n",
       "\n",
       "                        Location           Price    Reviews       Host  \n",
       "12   Home in Llanfair Caereinion  $189 per night        New             \n",
       "187        Cottage in Fionnphort  $247 per night        New  Superhost  \n",
       "197                         None  $102 per night  4.91 (22)             \n",
       "202           Cabin in Ashington  $253 per night        New             \n",
       "146     Cabin in North Yorkshire  $241 per night   5.0 (22)             "
      ]
     },
     "execution_count": 60,
     "metadata": {},
     "output_type": "execute_result"
    }
   ],
   "source": [
    "df2_clean.sample(5)"
   ]
  },
  {
   "cell_type": "code",
   "execution_count": 61,
   "metadata": {},
   "outputs": [
    {
     "data": {
      "text/html": [
       "<div>\n",
       "<style scoped>\n",
       "    .dataframe tbody tr th:only-of-type {\n",
       "        vertical-align: middle;\n",
       "    }\n",
       "\n",
       "    .dataframe tbody tr th {\n",
       "        vertical-align: top;\n",
       "    }\n",
       "\n",
       "    .dataframe thead th {\n",
       "        text-align: right;\n",
       "    }\n",
       "</style>\n",
       "<table border=\"1\" class=\"dataframe\">\n",
       "  <thead>\n",
       "    <tr style=\"text-align: right;\">\n",
       "      <th></th>\n",
       "      <th>Title</th>\n",
       "      <th>Beds</th>\n",
       "      <th>Location</th>\n",
       "      <th>Price</th>\n",
       "      <th>Reviews</th>\n",
       "      <th>Host</th>\n",
       "    </tr>\n",
       "  </thead>\n",
       "  <tbody>\n",
       "    <tr>\n",
       "      <th>66</th>\n",
       "      <td>Private Cabin/Hot Tub, Next to Purgatory Resort!</td>\n",
       "      <td>1 queen bed</td>\n",
       "      <td>Cabin in Durango</td>\n",
       "      <td>$274 per night</td>\n",
       "      <td>4.81 (187)</td>\n",
       "      <td>Superhost</td>\n",
       "    </tr>\n",
       "    <tr>\n",
       "      <th>259</th>\n",
       "      <td>Yosemite's Stoneoaks Cab</td>\n",
       "      <td>2 queen bed</td>\n",
       "      <td>Cabin in Yosemite National Park</td>\n",
       "      <td>$405 per night</td>\n",
       "      <td>4.8 (213)</td>\n",
       "      <td></td>\n",
       "    </tr>\n",
       "    <tr>\n",
       "      <th>82</th>\n",
       "      <td>NEW~rate discount~ Private Country Retreat w/P...</td>\n",
       "      <td>7 bed</td>\n",
       "      <td>Home in Apopka</td>\n",
       "      <td>$560 per night</td>\n",
       "      <td>5.0 (21)</td>\n",
       "      <td>Superhost</td>\n",
       "    </tr>\n",
       "    <tr>\n",
       "      <th>28</th>\n",
       "      <td>Luxury Resort Home - New Pool/Hot Tub &amp;amp; Gr...</td>\n",
       "      <td>6 bed</td>\n",
       "      <td>Home in Scottsdale</td>\n",
       "      <td>$334 per night, originally $373</td>\n",
       "      <td>4.99 (119)</td>\n",
       "      <td>Superhost</td>\n",
       "    </tr>\n",
       "    <tr>\n",
       "      <th>143</th>\n",
       "      <td>JUNIPER HILL cab</td>\n",
       "      <td>3 bed</td>\n",
       "      <td>Cabin in Wilmington</td>\n",
       "      <td>$263 per night</td>\n",
       "      <td>4.99 (165)</td>\n",
       "      <td>Rare fin</td>\n",
       "    </tr>\n",
       "  </tbody>\n",
       "</table>\n",
       "</div>"
      ],
      "text/plain": [
       "                                                 Title         Beds  \\\n",
       "66    Private Cabin/Hot Tub, Next to Purgatory Resort!  1 queen bed   \n",
       "259                           Yosemite's Stoneoaks Cab  2 queen bed   \n",
       "82   NEW~rate discount~ Private Country Retreat w/P...        7 bed   \n",
       "28   Luxury Resort Home - New Pool/Hot Tub &amp; Gr...        6 bed   \n",
       "143                                   JUNIPER HILL cab        3 bed   \n",
       "\n",
       "                            Location                            Price  \\\n",
       "66                  Cabin in Durango                   $274 per night   \n",
       "259  Cabin in Yosemite National Park                   $405 per night   \n",
       "82                    Home in Apopka                   $560 per night   \n",
       "28                Home in Scottsdale  $334 per night, originally $373   \n",
       "143             Cabin in Wilmington                    $263 per night   \n",
       "\n",
       "        Reviews       Host  \n",
       "66   4.81 (187)  Superhost  \n",
       "259   4.8 (213)             \n",
       "82     5.0 (21)  Superhost  \n",
       "28   4.99 (119)  Superhost  \n",
       "143  4.99 (165)   Rare fin  "
      ]
     },
     "execution_count": 61,
     "metadata": {},
     "output_type": "execute_result"
    }
   ],
   "source": [
    "df3_clean.sample(5)"
   ]
  },
  {
   "cell_type": "code",
   "execution_count": 62,
   "metadata": {},
   "outputs": [
    {
     "data": {
      "text/html": [
       "<div>\n",
       "<style scoped>\n",
       "    .dataframe tbody tr th:only-of-type {\n",
       "        vertical-align: middle;\n",
       "    }\n",
       "\n",
       "    .dataframe tbody tr th {\n",
       "        vertical-align: top;\n",
       "    }\n",
       "\n",
       "    .dataframe thead th {\n",
       "        text-align: right;\n",
       "    }\n",
       "</style>\n",
       "<table border=\"1\" class=\"dataframe\">\n",
       "  <thead>\n",
       "    <tr style=\"text-align: right;\">\n",
       "      <th></th>\n",
       "      <th>Title</th>\n",
       "      <th>Beds</th>\n",
       "      <th>Location</th>\n",
       "      <th>Price</th>\n",
       "      <th>Reviews</th>\n",
       "      <th>Host</th>\n",
       "    </tr>\n",
       "  </thead>\n",
       "  <tbody>\n",
       "    <tr>\n",
       "      <th>141</th>\n",
       "      <td>Cozy Winters in Blue Ridge, Pets Welcome!</td>\n",
       "      <td>3 bed</td>\n",
       "      <td>Cabin in Estes Park</td>\n",
       "      <td>$394 per night, originally $640</td>\n",
       "      <td>4.9 (315)</td>\n",
       "      <td>Rare fin</td>\n",
       "    </tr>\n",
       "    <tr>\n",
       "      <th>278</th>\n",
       "      <td>AFrame Featured in Dwell &amp;amp; Sunset mags 4mi...</td>\n",
       "      <td>2 king bed</td>\n",
       "      <td>Home in Fountain Hills</td>\n",
       "      <td>$481 per night, originally $588</td>\n",
       "      <td>4.94 (54)</td>\n",
       "      <td>Rare fin</td>\n",
       "    </tr>\n",
       "    <tr>\n",
       "      <th>91</th>\n",
       "      <td>Vintage Airstream w/shelter. Stay dry in the w...</td>\n",
       "      <td>3 bed</td>\n",
       "      <td>Tower in Easton</td>\n",
       "      <td>$670 per night</td>\n",
       "      <td>4.97 (59)</td>\n",
       "      <td>Superhost</td>\n",
       "    </tr>\n",
       "    <tr>\n",
       "      <th>56</th>\n",
       "      <td>☆Lakefront ☆ Resort Style Pool☆ Private Beach☆</td>\n",
       "      <td>1 queen bed</td>\n",
       "      <td>Cabin in Vilas</td>\n",
       "      <td>$451 per night</td>\n",
       "      <td>5.0 (4)</td>\n",
       "      <td></td>\n",
       "    </tr>\n",
       "    <tr>\n",
       "      <th>123</th>\n",
       "      <td>Lux Estate near Park w. Chef Kitchen &amp;amp; Wat...</td>\n",
       "      <td>1 king bed</td>\n",
       "      <td>None</td>\n",
       "      <td>$314 per night, originally $348</td>\n",
       "      <td>4.97 (152)</td>\n",
       "      <td>Superhost</td>\n",
       "    </tr>\n",
       "  </tbody>\n",
       "</table>\n",
       "</div>"
      ],
      "text/plain": [
       "                                                 Title         Beds  \\\n",
       "141          Cozy Winters in Blue Ridge, Pets Welcome!        3 bed   \n",
       "278  AFrame Featured in Dwell &amp; Sunset mags 4mi...   2 king bed   \n",
       "91   Vintage Airstream w/shelter. Stay dry in the w...        3 bed   \n",
       "56      ☆Lakefront ☆ Resort Style Pool☆ Private Beach☆  1 queen bed   \n",
       "123  Lux Estate near Park w. Chef Kitchen &amp; Wat...   1 king bed   \n",
       "\n",
       "                   Location                            Price     Reviews  \\\n",
       "141     Cabin in Estes Park  $394 per night, originally $640   4.9 (315)   \n",
       "278  Home in Fountain Hills  $481 per night, originally $588   4.94 (54)   \n",
       "91          Tower in Easton                   $670 per night   4.97 (59)   \n",
       "56           Cabin in Vilas                   $451 per night     5.0 (4)   \n",
       "123                    None  $314 per night, originally $348  4.97 (152)   \n",
       "\n",
       "          Host  \n",
       "141   Rare fin  \n",
       "278   Rare fin  \n",
       "91   Superhost  \n",
       "56              \n",
       "123  Superhost  "
      ]
     },
     "execution_count": 62,
     "metadata": {},
     "output_type": "execute_result"
    }
   ],
   "source": [
    "df4_clean.sample(5)"
   ]
  },
  {
   "cell_type": "markdown",
   "metadata": {},
   "source": [
    "## Issue 2: Duplicates in the datasets"
   ]
  },
  {
   "cell_type": "markdown",
   "metadata": {},
   "source": [
    "### Define\n",
    "- Use the drop_duplicates function to get rid of the duplcate values"
   ]
  },
  {
   "cell_type": "markdown",
   "metadata": {},
   "source": [
    "### Code"
   ]
  },
  {
   "cell_type": "code",
   "execution_count": 63,
   "metadata": {},
   "outputs": [
    {
     "data": {
      "text/plain": [
       "8"
      ]
     },
     "execution_count": 63,
     "metadata": {},
     "output_type": "execute_result"
    }
   ],
   "source": [
    "df_clean.duplicated().sum()"
   ]
  },
  {
   "cell_type": "code",
   "execution_count": 64,
   "metadata": {},
   "outputs": [],
   "source": [
    "df_clean.drop_duplicates(inplace=True)"
   ]
  },
  {
   "cell_type": "code",
   "execution_count": 65,
   "metadata": {},
   "outputs": [
    {
     "data": {
      "text/plain": [
       "13"
      ]
     },
     "execution_count": 65,
     "metadata": {},
     "output_type": "execute_result"
    }
   ],
   "source": [
    "df2_clean.duplicated().sum()"
   ]
  },
  {
   "cell_type": "code",
   "execution_count": 66,
   "metadata": {},
   "outputs": [],
   "source": [
    "df2_clean.drop_duplicates(inplace=True)"
   ]
  },
  {
   "cell_type": "code",
   "execution_count": 67,
   "metadata": {},
   "outputs": [
    {
     "data": {
      "text/plain": [
       "52"
      ]
     },
     "execution_count": 67,
     "metadata": {},
     "output_type": "execute_result"
    }
   ],
   "source": [
    "df3_clean.duplicated().sum()"
   ]
  },
  {
   "cell_type": "code",
   "execution_count": 68,
   "metadata": {},
   "outputs": [],
   "source": [
    "df3_clean.drop_duplicates(inplace=True)"
   ]
  },
  {
   "cell_type": "markdown",
   "metadata": {},
   "source": [
    "### Test"
   ]
  },
  {
   "cell_type": "code",
   "execution_count": 69,
   "metadata": {},
   "outputs": [
    {
     "data": {
      "text/plain": [
       "0"
      ]
     },
     "execution_count": 69,
     "metadata": {},
     "output_type": "execute_result"
    }
   ],
   "source": [
    "df2_clean.duplicated().sum()"
   ]
  },
  {
   "cell_type": "code",
   "execution_count": 70,
   "metadata": {},
   "outputs": [
    {
     "data": {
      "text/plain": [
       "0"
      ]
     },
     "execution_count": 70,
     "metadata": {},
     "output_type": "execute_result"
    }
   ],
   "source": [
    "df_clean.duplicated().sum()"
   ]
  },
  {
   "cell_type": "markdown",
   "metadata": {},
   "source": [
    "## Issue 3: More than one variable in the Location column"
   ]
  },
  {
   "cell_type": "markdown",
   "metadata": {},
   "source": [
    "## Define \n",
    "- The location columns consists of both the location and type of the listing eg Home, Cabin\n",
    "- Use the split function to separate the different variables"
   ]
  },
  {
   "cell_type": "markdown",
   "metadata": {},
   "source": [
    "## Code"
   ]
  },
  {
   "cell_type": "code",
   "execution_count": 71,
   "metadata": {},
   "outputs": [
    {
     "data": {
      "text/plain": [
       "0                      None\n",
       "1                      None\n",
       "2    Tiny home in Mickleton\n",
       "3      Tiny home in Idrigil\n",
       "4    Private room in London\n",
       "Name: Location, dtype: object"
      ]
     },
     "execution_count": 71,
     "metadata": {},
     "output_type": "execute_result"
    }
   ],
   "source": [
    "df2_clean['Location'].head()"
   ]
  },
  {
   "cell_type": "code",
   "execution_count": 72,
   "metadata": {},
   "outputs": [],
   "source": [
    "#The split function will separate the varlues at 'in'\n",
    "new = df_clean['Location'].str.split(\" in \", n=1, expand=True)"
   ]
  },
  {
   "cell_type": "code",
   "execution_count": 73,
   "metadata": {},
   "outputs": [],
   "source": [
    "new2 = df2_clean['Location'].str.split(\" in \", n=1, expand=True)"
   ]
  },
  {
   "cell_type": "code",
   "execution_count": 74,
   "metadata": {},
   "outputs": [],
   "source": [
    "new3 = df3_clean['Location'].str.split(\" in \", n=1, expand=True)"
   ]
  },
  {
   "cell_type": "code",
   "execution_count": 75,
   "metadata": {},
   "outputs": [],
   "source": [
    "new4 = df4_clean['Location'].str.split(\" in \", n=1, expand=True)"
   ]
  },
  {
   "cell_type": "code",
   "execution_count": 76,
   "metadata": {},
   "outputs": [],
   "source": [
    "#Each variable will be assigned a different column\n",
    "df_clean['Type'] = new[0]\n",
    "df_clean['Locate'] = new[1]"
   ]
  },
  {
   "cell_type": "code",
   "execution_count": 77,
   "metadata": {},
   "outputs": [],
   "source": [
    "df2_clean['Type'] = new2[0]\n",
    "df2_clean['Locate'] = new2[1]"
   ]
  },
  {
   "cell_type": "code",
   "execution_count": 78,
   "metadata": {},
   "outputs": [],
   "source": [
    "df3_clean['Type'] = new3[0]\n",
    "df3_clean['Locate'] = new3[1]"
   ]
  },
  {
   "cell_type": "code",
   "execution_count": 79,
   "metadata": {},
   "outputs": [],
   "source": [
    "df4_clean['Type'] = new4[0]\n",
    "df4_clean['Locate'] = new4[1]"
   ]
  },
  {
   "cell_type": "code",
   "execution_count": 80,
   "metadata": {},
   "outputs": [],
   "source": [
    "#Drop the Location column since it's no longer needed\n",
    "df_clean.drop(columns=['Location'], inplace=True)"
   ]
  },
  {
   "cell_type": "code",
   "execution_count": 81,
   "metadata": {},
   "outputs": [],
   "source": [
    "df2_clean.drop(columns=['Location'], inplace=True)"
   ]
  },
  {
   "cell_type": "code",
   "execution_count": 82,
   "metadata": {},
   "outputs": [],
   "source": [
    "df3_clean.drop(columns=['Location'], inplace=True)"
   ]
  },
  {
   "cell_type": "code",
   "execution_count": 83,
   "metadata": {},
   "outputs": [],
   "source": [
    "df4_clean.drop(columns=['Location'], inplace=True)"
   ]
  },
  {
   "cell_type": "code",
   "execution_count": 84,
   "metadata": {},
   "outputs": [],
   "source": [
    "df_clean.rename(columns={'Locate':'Location'}, inplace=True)"
   ]
  },
  {
   "cell_type": "code",
   "execution_count": 85,
   "metadata": {},
   "outputs": [],
   "source": [
    "df2_clean.rename(columns={'Locate':'Location'}, inplace=True)\n",
    "df3_clean.rename(columns={'Locate':'Location'}, inplace=True)\n",
    "df4_clean.rename(columns={'Locate':'Location'}, inplace=True)"
   ]
  },
  {
   "cell_type": "markdown",
   "metadata": {},
   "source": [
    "## Test"
   ]
  },
  {
   "cell_type": "code",
   "execution_count": 86,
   "metadata": {},
   "outputs": [
    {
     "data": {
      "text/html": [
       "<div>\n",
       "<style scoped>\n",
       "    .dataframe tbody tr th:only-of-type {\n",
       "        vertical-align: middle;\n",
       "    }\n",
       "\n",
       "    .dataframe tbody tr th {\n",
       "        vertical-align: top;\n",
       "    }\n",
       "\n",
       "    .dataframe thead th {\n",
       "        text-align: right;\n",
       "    }\n",
       "</style>\n",
       "<table border=\"1\" class=\"dataframe\">\n",
       "  <thead>\n",
       "    <tr style=\"text-align: right;\">\n",
       "      <th></th>\n",
       "      <th>Title</th>\n",
       "      <th>Beds</th>\n",
       "      <th>Price</th>\n",
       "      <th>Reviews</th>\n",
       "      <th>Host</th>\n",
       "      <th>Type</th>\n",
       "      <th>Location</th>\n",
       "    </tr>\n",
       "  </thead>\n",
       "  <tbody>\n",
       "    <tr>\n",
       "      <th>157</th>\n",
       "      <td>Regency townhous</td>\n",
       "      <td>5 bed</td>\n",
       "      <td>$543 per night, originally $1,673</td>\n",
       "      <td></td>\n",
       "      <td>Superhost</td>\n",
       "      <td>Townhouse</td>\n",
       "      <td>London</td>\n",
       "    </tr>\n",
       "    <tr>\n",
       "      <th>53</th>\n",
       "      <td>Secluded Picture Postcard Cottage with Pool</td>\n",
       "      <td>5 bed</td>\n",
       "      <td>$351 per night</td>\n",
       "      <td>4.96 (157)</td>\n",
       "      <td>Rare fin</td>\n",
       "      <td>Home</td>\n",
       "      <td>Swaffham</td>\n",
       "    </tr>\n",
       "    <tr>\n",
       "      <th>57</th>\n",
       "      <td>Idyllic, one-of-a-kind 17th century rural</td>\n",
       "      <td>6 bed</td>\n",
       "      <td>$106 per night</td>\n",
       "      <td>4.95 (187)</td>\n",
       "      <td>Superhost</td>\n",
       "      <td>None</td>\n",
       "      <td>None</td>\n",
       "    </tr>\n",
       "    <tr>\n",
       "      <th>145</th>\n",
       "      <td>The Vale  Cab</td>\n",
       "      <td>1 double bed</td>\n",
       "      <td>$92 per night</td>\n",
       "      <td>4.67 (70)</td>\n",
       "      <td></td>\n",
       "      <td>Cabin</td>\n",
       "      <td>Woodhall spa, lincolnshire</td>\n",
       "    </tr>\n",
       "    <tr>\n",
       "      <th>227</th>\n",
       "      <td>MegaPod 2 at Lee Wick Farm Cottages &amp;amp; Glam...</td>\n",
       "      <td></td>\n",
       "      <td>$137 per night</td>\n",
       "      <td>4.75 (8)</td>\n",
       "      <td>Superhost</td>\n",
       "      <td>Private room</td>\n",
       "      <td>St. Osyth</td>\n",
       "    </tr>\n",
       "    <tr>\n",
       "      <th>177</th>\n",
       "      <td>Wigwam Lodge (Wheelchair Friendly)</td>\n",
       "      <td>3 bed</td>\n",
       "      <td>$165 per night</td>\n",
       "      <td>4.88 (16)</td>\n",
       "      <td>Superhost</td>\n",
       "      <td>Cabin</td>\n",
       "      <td>Storwoo</td>\n",
       "    </tr>\n",
       "    <tr>\n",
       "      <th>196</th>\n",
       "      <td>Dingle den caravan h</td>\n",
       "      <td>4 bed</td>\n",
       "      <td>$82 per night</td>\n",
       "      <td>4.41 (78)</td>\n",
       "      <td>Rare fin</td>\n",
       "      <td>Campsite</td>\n",
       "      <td>Wales</td>\n",
       "    </tr>\n",
       "    <tr>\n",
       "      <th>5</th>\n",
       "      <td>Swallows Loft, The Old Vicarag</td>\n",
       "      <td>2 bed</td>\n",
       "      <td>$180 per night, originally $206</td>\n",
       "      <td>4.98 (109)</td>\n",
       "      <td>Rare fin</td>\n",
       "      <td>Condo</td>\n",
       "      <td>Far Sawrey</td>\n",
       "    </tr>\n",
       "    <tr>\n",
       "      <th>129</th>\n",
       "      <td>The Shepherd’s Hut at Hafoty Boeth</td>\n",
       "      <td>1 double bed</td>\n",
       "      <td>$101 per night, originally $114</td>\n",
       "      <td>5.0 (40)</td>\n",
       "      <td>Superhost</td>\n",
       "      <td>Shepherd’s hut</td>\n",
       "      <td>Denbighshire</td>\n",
       "    </tr>\n",
       "    <tr>\n",
       "      <th>217</th>\n",
       "      <td>Harry's Stable - 4* NITB approved country esc</td>\n",
       "      <td>1 double bed</td>\n",
       "      <td>$122 per night</td>\n",
       "      <td>5.0 (13)</td>\n",
       "      <td></td>\n",
       "      <td>Farm stay</td>\n",
       "      <td>Comber</td>\n",
       "    </tr>\n",
       "  </tbody>\n",
       "</table>\n",
       "</div>"
      ],
      "text/plain": [
       "                                                 Title          Beds  \\\n",
       "157                                   Regency townhous         5 bed   \n",
       "53         Secluded Picture Postcard Cottage with Pool         5 bed   \n",
       "57           Idyllic, one-of-a-kind 17th century rural         6 bed   \n",
       "145                                      The Vale  Cab  1 double bed   \n",
       "227  MegaPod 2 at Lee Wick Farm Cottages &amp; Glam...                 \n",
       "177                 Wigwam Lodge (Wheelchair Friendly)         3 bed   \n",
       "196                               Dingle den caravan h         4 bed   \n",
       "5                       Swallows Loft, The Old Vicarag         2 bed   \n",
       "129                 The Shepherd’s Hut at Hafoty Boeth  1 double bed   \n",
       "217      Harry's Stable - 4* NITB approved country esc  1 double bed   \n",
       "\n",
       "                                 Price     Reviews       Host            Type  \\\n",
       "157  $543 per night, originally $1,673              Superhost       Townhouse   \n",
       "53                      $351 per night  4.96 (157)   Rare fin            Home   \n",
       "57                      $106 per night  4.95 (187)  Superhost            None   \n",
       "145                      $92 per night   4.67 (70)                      Cabin   \n",
       "227                     $137 per night    4.75 (8)  Superhost    Private room   \n",
       "177                     $165 per night   4.88 (16)  Superhost           Cabin   \n",
       "196                      $82 per night   4.41 (78)   Rare fin        Campsite   \n",
       "5      $180 per night, originally $206  4.98 (109)   Rare fin           Condo   \n",
       "129    $101 per night, originally $114    5.0 (40)  Superhost  Shepherd’s hut   \n",
       "217                     $122 per night    5.0 (13)                  Farm stay   \n",
       "\n",
       "                       Location  \n",
       "157                      London  \n",
       "53                     Swaffham  \n",
       "57                         None  \n",
       "145  Woodhall spa, lincolnshire  \n",
       "227                   St. Osyth  \n",
       "177                     Storwoo  \n",
       "196                       Wales  \n",
       "5                    Far Sawrey  \n",
       "129                Denbighshire  \n",
       "217                      Comber  "
      ]
     },
     "execution_count": 86,
     "metadata": {},
     "output_type": "execute_result"
    }
   ],
   "source": [
    "df_clean.sample(10)"
   ]
  },
  {
   "cell_type": "code",
   "execution_count": 87,
   "metadata": {},
   "outputs": [
    {
     "data": {
      "text/html": [
       "<div>\n",
       "<style scoped>\n",
       "    .dataframe tbody tr th:only-of-type {\n",
       "        vertical-align: middle;\n",
       "    }\n",
       "\n",
       "    .dataframe tbody tr th {\n",
       "        vertical-align: top;\n",
       "    }\n",
       "\n",
       "    .dataframe thead th {\n",
       "        text-align: right;\n",
       "    }\n",
       "</style>\n",
       "<table border=\"1\" class=\"dataframe\">\n",
       "  <thead>\n",
       "    <tr style=\"text-align: right;\">\n",
       "      <th></th>\n",
       "      <th>Title</th>\n",
       "      <th>Beds</th>\n",
       "      <th>Price</th>\n",
       "      <th>Reviews</th>\n",
       "      <th>Host</th>\n",
       "      <th>Type</th>\n",
       "      <th>Location</th>\n",
       "    </tr>\n",
       "  </thead>\n",
       "  <tbody>\n",
       "    <tr>\n",
       "      <th>261</th>\n",
       "      <td>Harney Peak (UK40074)</td>\n",
       "      <td>2 double bed</td>\n",
       "      <td>$195 per night</td>\n",
       "      <td></td>\n",
       "      <td></td>\n",
       "      <td>Home</td>\n",
       "      <td>Portinscale</td>\n",
       "    </tr>\n",
       "    <tr>\n",
       "      <th>237</th>\n",
       "      <td>Cosy 1 bedroom Shepherd's hut with indoor f</td>\n",
       "      <td>3 bed</td>\n",
       "      <td>$137 per night</td>\n",
       "      <td>4.72 (18)</td>\n",
       "      <td></td>\n",
       "      <td>Shepherd’s hut</td>\n",
       "      <td>Llandegla</td>\n",
       "    </tr>\n",
       "    <tr>\n",
       "      <th>47</th>\n",
       "      <td>Serenity Lodge Otterburn with Hot Tub</td>\n",
       "      <td>6 bed</td>\n",
       "      <td>$485 per night</td>\n",
       "      <td>4.97 (37)</td>\n",
       "      <td>Rare fin</td>\n",
       "      <td>Cabin</td>\n",
       "      <td>Old Town Farm</td>\n",
       "    </tr>\n",
       "    <tr>\n",
       "      <th>8</th>\n",
       "      <td>Berney - converted railway carriag</td>\n",
       "      <td>2 double bed</td>\n",
       "      <td>$179 per night</td>\n",
       "      <td>New</td>\n",
       "      <td></td>\n",
       "      <td>Train</td>\n",
       "      <td>Trowse Newton</td>\n",
       "    </tr>\n",
       "    <tr>\n",
       "      <th>140</th>\n",
       "      <td>'Sea Breeze' sleeps 4 Selsey caravan 2 bathrooms</td>\n",
       "      <td>2 bed</td>\n",
       "      <td>$105 per night</td>\n",
       "      <td>4.81 (47)</td>\n",
       "      <td>Rare fin</td>\n",
       "      <td>Cabin</td>\n",
       "      <td>Selsey</td>\n",
       "    </tr>\n",
       "    <tr>\n",
       "      <th>216</th>\n",
       "      <td>5* Shepherds Hut in Snowdonia with mountain views</td>\n",
       "      <td>1 double bed</td>\n",
       "      <td>$144 per night, originally $163</td>\n",
       "      <td>4.99 (297)</td>\n",
       "      <td>Superhost</td>\n",
       "      <td>Shepherd’s hut</td>\n",
       "      <td>Conwy</td>\n",
       "    </tr>\n",
       "    <tr>\n",
       "      <th>166</th>\n",
       "      <td>Geodesic D</td>\n",
       "      <td>1 double bed</td>\n",
       "      <td>$192 per night</td>\n",
       "      <td></td>\n",
       "      <td>Superhost</td>\n",
       "      <td>None</td>\n",
       "      <td>None</td>\n",
       "    </tr>\n",
       "    <tr>\n",
       "      <th>152</th>\n",
       "      <td>Morven View Lodge NC500</td>\n",
       "      <td>6 single bed</td>\n",
       "      <td>$186 per night</td>\n",
       "      <td>4.83 (6)</td>\n",
       "      <td></td>\n",
       "      <td>Cabin</td>\n",
       "      <td>Highlan</td>\n",
       "    </tr>\n",
       "    <tr>\n",
       "      <th>59</th>\n",
       "      <td>Little Trenant Barn on Helford River Near Cons</td>\n",
       "      <td>3 bed</td>\n",
       "      <td>$198 per night</td>\n",
       "      <td>4.95 (108)</td>\n",
       "      <td>Plus</td>\n",
       "      <td>Barn</td>\n",
       "      <td>Constantine</td>\n",
       "    </tr>\n",
       "    <tr>\n",
       "      <th>102</th>\n",
       "      <td>Stunning Apartment in Victorian Villa with Gard</td>\n",
       "      <td>2 bed</td>\n",
       "      <td>$275 per night</td>\n",
       "      <td>4.95 (22)</td>\n",
       "      <td>Rare fin</td>\n",
       "      <td>Condo</td>\n",
       "      <td>Torbay</td>\n",
       "    </tr>\n",
       "  </tbody>\n",
       "</table>\n",
       "</div>"
      ],
      "text/plain": [
       "                                                 Title          Beds  \\\n",
       "261                              Harney Peak (UK40074)  2 double bed   \n",
       "237        Cosy 1 bedroom Shepherd's hut with indoor f         3 bed   \n",
       "47               Serenity Lodge Otterburn with Hot Tub         6 bed   \n",
       "8                   Berney - converted railway carriag  2 double bed   \n",
       "140   'Sea Breeze' sleeps 4 Selsey caravan 2 bathrooms         2 bed   \n",
       "216  5* Shepherds Hut in Snowdonia with mountain views  1 double bed   \n",
       "166                                         Geodesic D  1 double bed   \n",
       "152                            Morven View Lodge NC500  6 single bed   \n",
       "59      Little Trenant Barn on Helford River Near Cons         3 bed   \n",
       "102    Stunning Apartment in Victorian Villa with Gard         2 bed   \n",
       "\n",
       "                               Price     Reviews       Host            Type  \\\n",
       "261                   $195 per night                                   Home   \n",
       "237                   $137 per night   4.72 (18)             Shepherd’s hut   \n",
       "47                    $485 per night   4.97 (37)   Rare fin           Cabin   \n",
       "8                     $179 per night         New                      Train   \n",
       "140                   $105 per night   4.81 (47)   Rare fin           Cabin   \n",
       "216  $144 per night, originally $163  4.99 (297)  Superhost  Shepherd’s hut   \n",
       "166                   $192 per night              Superhost            None   \n",
       "152                   $186 per night    4.83 (6)                      Cabin   \n",
       "59                    $198 per night  4.95 (108)       Plus            Barn   \n",
       "102                   $275 per night   4.95 (22)   Rare fin           Condo   \n",
       "\n",
       "          Location  \n",
       "261    Portinscale  \n",
       "237      Llandegla  \n",
       "47   Old Town Farm  \n",
       "8    Trowse Newton  \n",
       "140         Selsey  \n",
       "216          Conwy  \n",
       "166           None  \n",
       "152        Highlan  \n",
       "59    Constantine   \n",
       "102         Torbay  "
      ]
     },
     "execution_count": 87,
     "metadata": {},
     "output_type": "execute_result"
    }
   ],
   "source": [
    "df2_clean.sample(10)"
   ]
  },
  {
   "cell_type": "code",
   "execution_count": 88,
   "metadata": {},
   "outputs": [
    {
     "data": {
      "text/html": [
       "<div>\n",
       "<style scoped>\n",
       "    .dataframe tbody tr th:only-of-type {\n",
       "        vertical-align: middle;\n",
       "    }\n",
       "\n",
       "    .dataframe tbody tr th {\n",
       "        vertical-align: top;\n",
       "    }\n",
       "\n",
       "    .dataframe thead th {\n",
       "        text-align: right;\n",
       "    }\n",
       "</style>\n",
       "<table border=\"1\" class=\"dataframe\">\n",
       "  <thead>\n",
       "    <tr style=\"text-align: right;\">\n",
       "      <th></th>\n",
       "      <th>Title</th>\n",
       "      <th>Beds</th>\n",
       "      <th>Price</th>\n",
       "      <th>Reviews</th>\n",
       "      <th>Host</th>\n",
       "      <th>Type</th>\n",
       "      <th>Location</th>\n",
       "    </tr>\n",
       "  </thead>\n",
       "  <tbody>\n",
       "    <tr>\n",
       "      <th>219</th>\n",
       "      <td>Modern Cabin, Private Fishing Lake, Near Sequoias</td>\n",
       "      <td>3 bed</td>\n",
       "      <td>$215 per night, originally $331</td>\n",
       "      <td>4.99 (163)</td>\n",
       "      <td>Superhost</td>\n",
       "      <td>Home</td>\n",
       "      <td>Springville</td>\n",
       "    </tr>\n",
       "    <tr>\n",
       "      <th>262</th>\n",
       "      <td>The Cove Cab</td>\n",
       "      <td>2 bed</td>\n",
       "      <td>$429 per night, originally $477</td>\n",
       "      <td>4.98 (209)</td>\n",
       "      <td>Rare fin</td>\n",
       "      <td>Cabin</td>\n",
       "      <td>Sherman</td>\n",
       "    </tr>\n",
       "    <tr>\n",
       "      <th>75</th>\n",
       "      <td>Romantic 1 bedroom cabin close to Smugglers Notch</td>\n",
       "      <td>1 king bed</td>\n",
       "      <td>$206 per night</td>\n",
       "      <td>4.93 (355)</td>\n",
       "      <td>Superhost</td>\n",
       "      <td>Cabin</td>\n",
       "      <td>Cambridge</td>\n",
       "    </tr>\n",
       "    <tr>\n",
       "      <th>77</th>\n",
       "      <td>Awesome Lakefront A-Frame Cabin! Unique Interi...</td>\n",
       "      <td>5 bed</td>\n",
       "      <td>$265 per night, originally $338</td>\n",
       "      <td>5.0 (47)</td>\n",
       "      <td>Superhost</td>\n",
       "      <td>Home</td>\n",
       "      <td>Lake Ozark</td>\n",
       "    </tr>\n",
       "    <tr>\n",
       "      <th>206</th>\n",
       "      <td>Lincoln Log Lodge (Lakefront, Kayaks, Arcade g...</td>\n",
       "      <td>2 queen bed</td>\n",
       "      <td>$144 per night</td>\n",
       "      <td>4.92 (96)</td>\n",
       "      <td>Rare fin</td>\n",
       "      <td>Cabin</td>\n",
       "      <td>Bitely</td>\n",
       "    </tr>\n",
       "    <tr>\n",
       "      <th>5</th>\n",
       "      <td>Panoramic Views &amp;amp; Dog Heaven at The Silo!</td>\n",
       "      <td>2 bed</td>\n",
       "      <td>$234 per night</td>\n",
       "      <td>5.0 (77)</td>\n",
       "      <td>Rare fin</td>\n",
       "      <td>Barn</td>\n",
       "      <td>Corvallis</td>\n",
       "    </tr>\n",
       "    <tr>\n",
       "      <th>148</th>\n",
       "      <td>Lost Elk Cabin: NEW Listing! Relaxing &amp;amp; pe...</td>\n",
       "      <td>5 bed</td>\n",
       "      <td>$204 per night, originally $269</td>\n",
       "      <td>5.0 (43)</td>\n",
       "      <td></td>\n",
       "      <td>Cabin</td>\n",
       "      <td>Packwoo</td>\n",
       "    </tr>\n",
       "    <tr>\n",
       "      <th>64</th>\n",
       "      <td>Kilo Cabin  ★TVD★ Lakeside Hideou</td>\n",
       "      <td>4 bed</td>\n",
       "      <td>$179 per night, originally $229</td>\n",
       "      <td>4.94 (297)</td>\n",
       "      <td>Superhost</td>\n",
       "      <td>Cabin</td>\n",
       "      <td>Covington</td>\n",
       "    </tr>\n",
       "    <tr>\n",
       "      <th>177</th>\n",
       "      <td>Belle â</td>\n",
       "      <td>1 bed</td>\n",
       "      <td>$301 per night</td>\n",
       "      <td>4.96 (165)</td>\n",
       "      <td>Superhost</td>\n",
       "      <td>Cabin</td>\n",
       "      <td>Smithville</td>\n",
       "    </tr>\n",
       "    <tr>\n",
       "      <th>282</th>\n",
       "      <td>Snowbird-friendly oceanfront condo with ocean ...</td>\n",
       "      <td>2 bed</td>\n",
       "      <td>$91 per night, originally $162</td>\n",
       "      <td>4.33 (57)</td>\n",
       "      <td></td>\n",
       "      <td>Apartment</td>\n",
       "      <td>Fort Walton Beach</td>\n",
       "    </tr>\n",
       "  </tbody>\n",
       "</table>\n",
       "</div>"
      ],
      "text/plain": [
       "                                                 Title         Beds  \\\n",
       "219  Modern Cabin, Private Fishing Lake, Near Sequoias        3 bed   \n",
       "262                                       The Cove Cab        2 bed   \n",
       "75   Romantic 1 bedroom cabin close to Smugglers Notch   1 king bed   \n",
       "77   Awesome Lakefront A-Frame Cabin! Unique Interi...        5 bed   \n",
       "206  Lincoln Log Lodge (Lakefront, Kayaks, Arcade g...  2 queen bed   \n",
       "5        Panoramic Views &amp; Dog Heaven at The Silo!        2 bed   \n",
       "148  Lost Elk Cabin: NEW Listing! Relaxing &amp; pe...        5 bed   \n",
       "64                   Kilo Cabin  ★TVD★ Lakeside Hideou        4 bed   \n",
       "177                                            Belle â        1 bed   \n",
       "282  Snowbird-friendly oceanfront condo with ocean ...        2 bed   \n",
       "\n",
       "                               Price     Reviews       Host       Type  \\\n",
       "219  $215 per night, originally $331  4.99 (163)  Superhost       Home   \n",
       "262  $429 per night, originally $477  4.98 (209)   Rare fin      Cabin   \n",
       "75                    $206 per night  4.93 (355)  Superhost      Cabin   \n",
       "77   $265 per night, originally $338    5.0 (47)  Superhost       Home   \n",
       "206                   $144 per night   4.92 (96)   Rare fin      Cabin   \n",
       "5                     $234 per night    5.0 (77)   Rare fin       Barn   \n",
       "148  $204 per night, originally $269    5.0 (43)                 Cabin   \n",
       "64   $179 per night, originally $229  4.94 (297)  Superhost      Cabin   \n",
       "177                   $301 per night  4.96 (165)  Superhost      Cabin   \n",
       "282   $91 per night, originally $162   4.33 (57)             Apartment   \n",
       "\n",
       "              Location  \n",
       "219        Springville  \n",
       "262            Sherman  \n",
       "75           Cambridge  \n",
       "77          Lake Ozark  \n",
       "206             Bitely  \n",
       "5            Corvallis  \n",
       "148            Packwoo  \n",
       "64           Covington  \n",
       "177         Smithville  \n",
       "282  Fort Walton Beach  "
      ]
     },
     "execution_count": 88,
     "metadata": {},
     "output_type": "execute_result"
    }
   ],
   "source": [
    "df3_clean.sample(10)"
   ]
  },
  {
   "cell_type": "code",
   "execution_count": 89,
   "metadata": {},
   "outputs": [
    {
     "data": {
      "text/html": [
       "<div>\n",
       "<style scoped>\n",
       "    .dataframe tbody tr th:only-of-type {\n",
       "        vertical-align: middle;\n",
       "    }\n",
       "\n",
       "    .dataframe tbody tr th {\n",
       "        vertical-align: top;\n",
       "    }\n",
       "\n",
       "    .dataframe thead th {\n",
       "        text-align: right;\n",
       "    }\n",
       "</style>\n",
       "<table border=\"1\" class=\"dataframe\">\n",
       "  <thead>\n",
       "    <tr style=\"text-align: right;\">\n",
       "      <th></th>\n",
       "      <th>Title</th>\n",
       "      <th>Beds</th>\n",
       "      <th>Price</th>\n",
       "      <th>Reviews</th>\n",
       "      <th>Host</th>\n",
       "      <th>Type</th>\n",
       "      <th>Location</th>\n",
       "    </tr>\n",
       "  </thead>\n",
       "  <tbody>\n",
       "    <tr>\n",
       "      <th>204</th>\n",
       "      <td>Freshly Remodeled Cabin with Brand New Hot Tub!</td>\n",
       "      <td>6 bed</td>\n",
       "      <td>$417 per night</td>\n",
       "      <td>4.96 (165)</td>\n",
       "      <td>Rare fin</td>\n",
       "      <td>Cabin</td>\n",
       "      <td>Prineville</td>\n",
       "    </tr>\n",
       "    <tr>\n",
       "      <th>186</th>\n",
       "      <td>Beautiful Log Cabin on The Bay</td>\n",
       "      <td>1 king bed</td>\n",
       "      <td>$443 per night</td>\n",
       "      <td>4.59 (138)</td>\n",
       "      <td></td>\n",
       "      <td>Cabin</td>\n",
       "      <td>Broken Bow</td>\n",
       "    </tr>\n",
       "    <tr>\n",
       "      <th>159</th>\n",
       "      <td>Vintage Forest Service Log Cabin 9 mi fr Glac</td>\n",
       "      <td>2 sofa bed</td>\n",
       "      <td>$75 per night, originally $92</td>\n",
       "      <td>4.94 (255)</td>\n",
       "      <td>Superhost</td>\n",
       "      <td>Tiny home</td>\n",
       "      <td>Marble Falls</td>\n",
       "    </tr>\n",
       "    <tr>\n",
       "      <th>100</th>\n",
       "      <td>Luxury 5 BR Cabin, Pool, Lake, 40 min from Atl</td>\n",
       "      <td>3 bed</td>\n",
       "      <td>$304 per night</td>\n",
       "      <td>4.97 (271)</td>\n",
       "      <td>Superhost</td>\n",
       "      <td>None</td>\n",
       "      <td>None</td>\n",
       "    </tr>\n",
       "    <tr>\n",
       "      <th>149</th>\n",
       "      <td>The Martingale at Max Patch</td>\n",
       "      <td>1 queen bed</td>\n",
       "      <td>$110 per night</td>\n",
       "      <td>4.94 (66)</td>\n",
       "      <td>Superhost</td>\n",
       "      <td>Tiny home</td>\n",
       "      <td>Clyde</td>\n",
       "    </tr>\n",
       "    <tr>\n",
       "      <th>121</th>\n",
       "      <td>NEW! Oceanfront Retreat w/ Pool Access &amp;amp; B...</td>\n",
       "      <td>2 bed</td>\n",
       "      <td>$126 per night, originally $201</td>\n",
       "      <td>4.92 (201)</td>\n",
       "      <td>Superhost</td>\n",
       "      <td>Cabin</td>\n",
       "      <td>Martin City</td>\n",
       "    </tr>\n",
       "    <tr>\n",
       "      <th>289</th>\n",
       "      <td>Back Roads Cabin R</td>\n",
       "      <td>2 bed</td>\n",
       "      <td>$163 per night</td>\n",
       "      <td>4.9 (91)</td>\n",
       "      <td>Superhost</td>\n",
       "      <td>Tiny home</td>\n",
       "      <td>Mills River</td>\n",
       "    </tr>\n",
       "    <tr>\n",
       "      <th>160</th>\n",
       "      <td>FREE Breakfast - The Tiny - 192 SQ FT Tiny Hous</td>\n",
       "      <td>2 single bed</td>\n",
       "      <td>$64 per night</td>\n",
       "      <td>4.75 (28)</td>\n",
       "      <td>Superhost</td>\n",
       "      <td>Houseboat</td>\n",
       "      <td>Colfax</td>\n",
       "    </tr>\n",
       "    <tr>\n",
       "      <th>66</th>\n",
       "      <td>Private Cabin/Hot Tub, Next to Purgatory Resort!</td>\n",
       "      <td>1 queen bed</td>\n",
       "      <td>$188 per night</td>\n",
       "      <td>4.98 (123)</td>\n",
       "      <td>Superhost</td>\n",
       "      <td>Dome</td>\n",
       "      <td>Kalispell</td>\n",
       "    </tr>\n",
       "    <tr>\n",
       "      <th>143</th>\n",
       "      <td>JUNIPER HILL cab</td>\n",
       "      <td>3 bed</td>\n",
       "      <td>$289 per night, originally $334</td>\n",
       "      <td>4.99 (386)</td>\n",
       "      <td>Superhost</td>\n",
       "      <td>Cabin</td>\n",
       "      <td>Fredonia</td>\n",
       "    </tr>\n",
       "  </tbody>\n",
       "</table>\n",
       "</div>"
      ],
      "text/plain": [
       "                                                 Title          Beds  \\\n",
       "204    Freshly Remodeled Cabin with Brand New Hot Tub!         6 bed   \n",
       "186                     Beautiful Log Cabin on The Bay    1 king bed   \n",
       "159      Vintage Forest Service Log Cabin 9 mi fr Glac    2 sofa bed   \n",
       "100     Luxury 5 BR Cabin, Pool, Lake, 40 min from Atl         3 bed   \n",
       "149                        The Martingale at Max Patch   1 queen bed   \n",
       "121  NEW! Oceanfront Retreat w/ Pool Access &amp; B...         2 bed   \n",
       "289                                 Back Roads Cabin R         2 bed   \n",
       "160    FREE Breakfast - The Tiny - 192 SQ FT Tiny Hous  2 single bed   \n",
       "66    Private Cabin/Hot Tub, Next to Purgatory Resort!   1 queen bed   \n",
       "143                                   JUNIPER HILL cab         3 bed   \n",
       "\n",
       "                               Price     Reviews       Host       Type  \\\n",
       "204                   $417 per night  4.96 (165)   Rare fin      Cabin   \n",
       "186                   $443 per night  4.59 (138)                 Cabin   \n",
       "159    $75 per night, originally $92  4.94 (255)  Superhost  Tiny home   \n",
       "100                   $304 per night  4.97 (271)  Superhost       None   \n",
       "149                   $110 per night   4.94 (66)  Superhost  Tiny home   \n",
       "121  $126 per night, originally $201  4.92 (201)  Superhost      Cabin   \n",
       "289                   $163 per night    4.9 (91)  Superhost  Tiny home   \n",
       "160                    $64 per night   4.75 (28)  Superhost  Houseboat   \n",
       "66                    $188 per night  4.98 (123)  Superhost       Dome   \n",
       "143  $289 per night, originally $334  4.99 (386)  Superhost      Cabin   \n",
       "\n",
       "         Location  \n",
       "204    Prineville  \n",
       "186    Broken Bow  \n",
       "159  Marble Falls  \n",
       "100          None  \n",
       "149         Clyde  \n",
       "121   Martin City  \n",
       "289   Mills River  \n",
       "160        Colfax  \n",
       "66      Kalispell  \n",
       "143      Fredonia  "
      ]
     },
     "execution_count": 89,
     "metadata": {},
     "output_type": "execute_result"
    }
   ],
   "source": [
    "df4_clean.sample(10)"
   ]
  },
  {
   "cell_type": "markdown",
   "metadata": {},
   "source": [
    "## Issue 4: The Price column contains both Original Price and Discounted Prices"
   ]
  },
  {
   "cell_type": "markdown",
   "metadata": {},
   "source": [
    "## Define\n",
    "- Separate the Price column into Original and Actual price"
   ]
  },
  {
   "cell_type": "markdown",
   "metadata": {},
   "source": [
    "## Code"
   ]
  },
  {
   "cell_type": "code",
   "execution_count": 90,
   "metadata": {},
   "outputs": [
    {
     "data": {
      "text/plain": [
       "95     $275 per night\n",
       "17     $165 per night\n",
       "111    $272 per night\n",
       "261    $199 per night\n",
       "68     $183 per night\n",
       "178    $148 per night\n",
       "13      $92 per night\n",
       "220     $69 per night\n",
       "236    $173 per night\n",
       "73     $175 per night\n",
       "Name: Price, dtype: object"
      ]
     },
     "execution_count": 90,
     "metadata": {},
     "output_type": "execute_result"
    }
   ],
   "source": [
    "df_clean['Price'].sample(10)"
   ]
  },
  {
   "cell_type": "code",
   "execution_count": 91,
   "metadata": {},
   "outputs": [],
   "source": [
    "#Use the split function to separate the different Prices columns\n",
    "prices = df_clean['Price'].str.split(\"originally\", n=1, expand=True)"
   ]
  },
  {
   "cell_type": "code",
   "execution_count": 92,
   "metadata": {},
   "outputs": [],
   "source": [
    "prices2 = df2_clean['Price'].str.split(\"originally\", n=1, expand=True)"
   ]
  },
  {
   "cell_type": "code",
   "execution_count": 93,
   "metadata": {},
   "outputs": [],
   "source": [
    "prices3 = df3_clean['Price'].str.split(\"originally\", n=1, expand=True)"
   ]
  },
  {
   "cell_type": "code",
   "execution_count": 94,
   "metadata": {},
   "outputs": [],
   "source": [
    "prices4 = df4_clean['Price'].str.split(\"originally\", n=1, expand=True)"
   ]
  },
  {
   "cell_type": "code",
   "execution_count": 95,
   "metadata": {},
   "outputs": [],
   "source": [
    "#Assign the different variables to columns\n",
    "df_clean['Current Price'] = prices[0]\n",
    "df_clean['Original Price'] = prices[1]"
   ]
  },
  {
   "cell_type": "code",
   "execution_count": 96,
   "metadata": {},
   "outputs": [],
   "source": [
    "df2_clean['Current Price'] = prices2[0]\n",
    "df2_clean['Original Price'] = prices2[1]"
   ]
  },
  {
   "cell_type": "code",
   "execution_count": 97,
   "metadata": {},
   "outputs": [],
   "source": [
    "df3_clean['Current Price'] = prices3[0]\n",
    "df3_clean['Original Price'] = prices3[1]"
   ]
  },
  {
   "cell_type": "code",
   "execution_count": 98,
   "metadata": {},
   "outputs": [],
   "source": [
    "df4_clean['Current Price'] = prices4[0]\n",
    "df4_clean['Original Price'] = prices4[1]"
   ]
  },
  {
   "cell_type": "code",
   "execution_count": 99,
   "metadata": {},
   "outputs": [],
   "source": [
    "df_clean.drop(columns=['Price'], inplace=True)\n",
    "df2_clean.drop(columns=['Price'], inplace=True)\n",
    "df3_clean.drop(columns=['Price'], inplace=True)\n",
    "df4_clean.drop(columns=['Price'], inplace=True)"
   ]
  },
  {
   "cell_type": "code",
   "execution_count": 100,
   "metadata": {},
   "outputs": [
    {
     "data": {
      "text/html": [
       "<div>\n",
       "<style scoped>\n",
       "    .dataframe tbody tr th:only-of-type {\n",
       "        vertical-align: middle;\n",
       "    }\n",
       "\n",
       "    .dataframe tbody tr th {\n",
       "        vertical-align: top;\n",
       "    }\n",
       "\n",
       "    .dataframe thead th {\n",
       "        text-align: right;\n",
       "    }\n",
       "</style>\n",
       "<table border=\"1\" class=\"dataframe\">\n",
       "  <thead>\n",
       "    <tr style=\"text-align: right;\">\n",
       "      <th></th>\n",
       "      <th>Title</th>\n",
       "      <th>Beds</th>\n",
       "      <th>Reviews</th>\n",
       "      <th>Host</th>\n",
       "      <th>Type</th>\n",
       "      <th>Location</th>\n",
       "      <th>Current Price</th>\n",
       "      <th>Original Price</th>\n",
       "    </tr>\n",
       "  </thead>\n",
       "  <tbody>\n",
       "    <tr>\n",
       "      <th>195</th>\n",
       "      <td>Fantastic  two double bedroom  annex with park...</td>\n",
       "      <td>2 bed</td>\n",
       "      <td>4.85 (150)</td>\n",
       "      <td>Superhost</td>\n",
       "      <td>Guesthouse</td>\n",
       "      <td>Falmouth</td>\n",
       "      <td>$206 per night</td>\n",
       "      <td>None</td>\n",
       "    </tr>\n",
       "    <tr>\n",
       "      <th>107</th>\n",
       "      <td>New Barn, Sedgeford, North Norfolk</td>\n",
       "      <td>3 double bed</td>\n",
       "      <td>4.77 (215)</td>\n",
       "      <td>Rare fin</td>\n",
       "      <td>None</td>\n",
       "      <td>None</td>\n",
       "      <td>$187 per night</td>\n",
       "      <td>None</td>\n",
       "    </tr>\n",
       "    <tr>\n",
       "      <th>221</th>\n",
       "      <td>Standard King Ensuite 'Ruthin room' at Maenan ...</td>\n",
       "      <td>2 single bed</td>\n",
       "      <td></td>\n",
       "      <td></td>\n",
       "      <td>Hotel room</td>\n",
       "      <td>Conwy Principal Area</td>\n",
       "      <td>$157 per night</td>\n",
       "      <td>None</td>\n",
       "    </tr>\n",
       "    <tr>\n",
       "      <th>5</th>\n",
       "      <td>Swallows Loft, The Old Vicarag</td>\n",
       "      <td>2 bed</td>\n",
       "      <td>4.98 (109)</td>\n",
       "      <td>Rare fin</td>\n",
       "      <td>Condo</td>\n",
       "      <td>Far Sawrey</td>\n",
       "      <td>$180 per night,</td>\n",
       "      <td>$206</td>\n",
       "    </tr>\n",
       "    <tr>\n",
       "      <th>130</th>\n",
       "      <td>Fell Head glamping pod at Howgills Hideaway</td>\n",
       "      <td>2 bed</td>\n",
       "      <td>4.96 (219)</td>\n",
       "      <td>Superhost</td>\n",
       "      <td>Tiny home</td>\n",
       "      <td>Cumbria</td>\n",
       "      <td>$97 per night</td>\n",
       "      <td>None</td>\n",
       "    </tr>\n",
       "    <tr>\n",
       "      <th>240</th>\n",
       "      <td>The Byre @ Braeside Retreats</td>\n",
       "      <td>1 bed</td>\n",
       "      <td></td>\n",
       "      <td></td>\n",
       "      <td>Tiny home</td>\n",
       "      <td>Murkle</td>\n",
       "      <td>$157 per night</td>\n",
       "      <td>None</td>\n",
       "    </tr>\n",
       "    <tr>\n",
       "      <th>257</th>\n",
       "      <td>No.6 on the bay</td>\n",
       "      <td>4 bed</td>\n",
       "      <td>4.86 (160)</td>\n",
       "      <td>Superhost</td>\n",
       "      <td>Condo</td>\n",
       "      <td>Porthcawl</td>\n",
       "      <td>$206 per night</td>\n",
       "      <td>None</td>\n",
       "    </tr>\n",
       "    <tr>\n",
       "      <th>297</th>\n",
       "      <td>1 Craiglinnhe Court...sleeps 2-4 guests.</td>\n",
       "      <td>3 bed</td>\n",
       "      <td>4.97 (220)</td>\n",
       "      <td>Rare fin</td>\n",
       "      <td>Home</td>\n",
       "      <td>Highland Council</td>\n",
       "      <td>$179 per night</td>\n",
       "      <td>None</td>\n",
       "    </tr>\n",
       "    <tr>\n",
       "      <th>50</th>\n",
       "      <td>Serendipity</td>\n",
       "      <td>1 king bed</td>\n",
       "      <td>4.99 (537)</td>\n",
       "      <td>Rare fin</td>\n",
       "      <td>Farm stay</td>\n",
       "      <td>Scarborough</td>\n",
       "      <td>$114 per night</td>\n",
       "      <td>None</td>\n",
       "    </tr>\n",
       "    <tr>\n",
       "      <th>47</th>\n",
       "      <td>Camping Pod 2 on Loch Shore - Dalavich</td>\n",
       "      <td>1 single bed</td>\n",
       "      <td>4.77 (66)</td>\n",
       "      <td>Superhost</td>\n",
       "      <td>Hut</td>\n",
       "      <td>Dalavich</td>\n",
       "      <td>$82 per night,</td>\n",
       "      <td>$89</td>\n",
       "    </tr>\n",
       "  </tbody>\n",
       "</table>\n",
       "</div>"
      ],
      "text/plain": [
       "                                                 Title          Beds  \\\n",
       "195  Fantastic  two double bedroom  annex with park...         2 bed   \n",
       "107                 New Barn, Sedgeford, North Norfolk  3 double bed   \n",
       "221  Standard King Ensuite 'Ruthin room' at Maenan ...  2 single bed   \n",
       "5                       Swallows Loft, The Old Vicarag         2 bed   \n",
       "130        Fell Head glamping pod at Howgills Hideaway         2 bed   \n",
       "240                       The Byre @ Braeside Retreats         1 bed   \n",
       "257                                    No.6 on the bay         4 bed   \n",
       "297           1 Craiglinnhe Court...sleeps 2-4 guests.         3 bed   \n",
       "50                                         Serendipity    1 king bed   \n",
       "47              Camping Pod 2 on Loch Shore - Dalavich  1 single bed   \n",
       "\n",
       "        Reviews       Host        Type              Location  \\\n",
       "195  4.85 (150)  Superhost  Guesthouse              Falmouth   \n",
       "107  4.77 (215)   Rare fin        None                  None   \n",
       "221                         Hotel room  Conwy Principal Area   \n",
       "5    4.98 (109)   Rare fin       Condo            Far Sawrey   \n",
       "130  4.96 (219)  Superhost   Tiny home               Cumbria   \n",
       "240                          Tiny home                Murkle   \n",
       "257  4.86 (160)  Superhost       Condo             Porthcawl   \n",
       "297  4.97 (220)   Rare fin        Home      Highland Council   \n",
       "50   4.99 (537)   Rare fin   Farm stay          Scarborough    \n",
       "47    4.77 (66)  Superhost         Hut              Dalavich   \n",
       "\n",
       "        Current Price Original Price  \n",
       "195    $206 per night           None  \n",
       "107    $187 per night           None  \n",
       "221    $157 per night           None  \n",
       "5    $180 per night,            $206  \n",
       "130     $97 per night           None  \n",
       "240    $157 per night           None  \n",
       "257    $206 per night           None  \n",
       "297    $179 per night           None  \n",
       "50     $114 per night           None  \n",
       "47    $82 per night,             $89  "
      ]
     },
     "execution_count": 100,
     "metadata": {},
     "output_type": "execute_result"
    }
   ],
   "source": [
    "df_clean.sample(10)"
   ]
  },
  {
   "cell_type": "code",
   "execution_count": 101,
   "metadata": {},
   "outputs": [
    {
     "data": {
      "text/html": [
       "<div>\n",
       "<style scoped>\n",
       "    .dataframe tbody tr th:only-of-type {\n",
       "        vertical-align: middle;\n",
       "    }\n",
       "\n",
       "    .dataframe tbody tr th {\n",
       "        vertical-align: top;\n",
       "    }\n",
       "\n",
       "    .dataframe thead th {\n",
       "        text-align: right;\n",
       "    }\n",
       "</style>\n",
       "<table border=\"1\" class=\"dataframe\">\n",
       "  <thead>\n",
       "    <tr style=\"text-align: right;\">\n",
       "      <th></th>\n",
       "      <th>Title</th>\n",
       "      <th>Beds</th>\n",
       "      <th>Reviews</th>\n",
       "      <th>Host</th>\n",
       "      <th>Type</th>\n",
       "      <th>Location</th>\n",
       "      <th>Current Price</th>\n",
       "      <th>Original Price</th>\n",
       "    </tr>\n",
       "  </thead>\n",
       "  <tbody>\n",
       "    <tr>\n",
       "      <th>235</th>\n",
       "      <td>The Glasshouse (luxury 2 bed with private hot ...</td>\n",
       "      <td>2 king bed</td>\n",
       "      <td>4.91 (11)</td>\n",
       "      <td></td>\n",
       "      <td>Farm stay</td>\n",
       "      <td>Newburgh</td>\n",
       "      <td>$687 per night</td>\n",
       "      <td>None</td>\n",
       "    </tr>\n",
       "    <tr>\n",
       "      <th>201</th>\n",
       "      <td>Spacious room with king size bed and en-su</td>\n",
       "      <td>1 bed</td>\n",
       "      <td>New</td>\n",
       "      <td></td>\n",
       "      <td>Private room</td>\n",
       "      <td>Cornwall</td>\n",
       "      <td>$144 per night</td>\n",
       "      <td>None</td>\n",
       "    </tr>\n",
       "    <tr>\n",
       "      <th>226</th>\n",
       "      <td>Mermaid’s Hut \\nBrightlings</td>\n",
       "      <td></td>\n",
       "      <td>5.0 (14)</td>\n",
       "      <td>Superhost</td>\n",
       "      <td>Hut</td>\n",
       "      <td>Brightlingsea</td>\n",
       "      <td>$55 per night</td>\n",
       "      <td>None</td>\n",
       "    </tr>\n",
       "    <tr>\n",
       "      <th>13</th>\n",
       "      <td>Cow Shed: Daisy at Easton Farm Park</td>\n",
       "      <td>2 bed</td>\n",
       "      <td>4.78 (32)</td>\n",
       "      <td></td>\n",
       "      <td>Farm stay</td>\n",
       "      <td>Woodbridge</td>\n",
       "      <td>$149 per night</td>\n",
       "      <td>None</td>\n",
       "    </tr>\n",
       "    <tr>\n",
       "      <th>122</th>\n",
       "      <td>Cottage on Private Estate near Ch</td>\n",
       "      <td>3 bed</td>\n",
       "      <td>4.79 (99)</td>\n",
       "      <td>Rare fin</td>\n",
       "      <td>Cottage</td>\n",
       "      <td>Northumberlan</td>\n",
       "      <td>$202 per night</td>\n",
       "      <td>None</td>\n",
       "    </tr>\n",
       "    <tr>\n",
       "      <th>156</th>\n",
       "      <td>Self contained garden studio ( The Snug)</td>\n",
       "      <td>1 bed</td>\n",
       "      <td>5.0 (6)</td>\n",
       "      <td></td>\n",
       "      <td>Tiny home</td>\n",
       "      <td>Saint Merryn</td>\n",
       "      <td>$139 per night</td>\n",
       "      <td>None</td>\n",
       "    </tr>\n",
       "    <tr>\n",
       "      <th>206</th>\n",
       "      <td>Inviting 4 Berth caravan in Hebden Bridg</td>\n",
       "      <td>2 double bed</td>\n",
       "      <td>5.0 (10)</td>\n",
       "      <td></td>\n",
       "      <td>Chalet</td>\n",
       "      <td>West Yorkshire</td>\n",
       "      <td>$157 per night</td>\n",
       "      <td>None</td>\n",
       "    </tr>\n",
       "    <tr>\n",
       "      <th>179</th>\n",
       "      <td>Beach front, private garden, seaside.</td>\n",
       "      <td>4 bed</td>\n",
       "      <td>4.65 (17)</td>\n",
       "      <td></td>\n",
       "      <td>Chalet</td>\n",
       "      <td>Abersoch</td>\n",
       "      <td>$125 per night</td>\n",
       "      <td>None</td>\n",
       "    </tr>\n",
       "    <tr>\n",
       "      <th>202</th>\n",
       "      <td>The Hazel Hide - Luxury Eco A-Frame Cab</td>\n",
       "      <td>4 bed</td>\n",
       "      <td>New</td>\n",
       "      <td></td>\n",
       "      <td>Cabin</td>\n",
       "      <td>Ashington</td>\n",
       "      <td>$253 per night</td>\n",
       "      <td>None</td>\n",
       "    </tr>\n",
       "    <tr>\n",
       "      <th>210</th>\n",
       "      <td>Cala Fearnadh Off-Grid cabin, Bunessan, Mull</td>\n",
       "      <td>3 bed</td>\n",
       "      <td>4.93 (149)</td>\n",
       "      <td>Rare fin</td>\n",
       "      <td>Cabin</td>\n",
       "      <td>Bunessan</td>\n",
       "      <td>$219 per night</td>\n",
       "      <td>None</td>\n",
       "    </tr>\n",
       "  </tbody>\n",
       "</table>\n",
       "</div>"
      ],
      "text/plain": [
       "                                                 Title          Beds  \\\n",
       "235  The Glasshouse (luxury 2 bed with private hot ...    2 king bed   \n",
       "201         Spacious room with king size bed and en-su         1 bed   \n",
       "226                        Mermaid’s Hut \\nBrightlings                 \n",
       "13                 Cow Shed: Daisy at Easton Farm Park         2 bed   \n",
       "122                  Cottage on Private Estate near Ch         3 bed   \n",
       "156           Self contained garden studio ( The Snug)         1 bed   \n",
       "206           Inviting 4 Berth caravan in Hebden Bridg  2 double bed   \n",
       "179              Beach front, private garden, seaside.         4 bed   \n",
       "202            The Hazel Hide - Luxury Eco A-Frame Cab         4 bed   \n",
       "210       Cala Fearnadh Off-Grid cabin, Bunessan, Mull         3 bed   \n",
       "\n",
       "        Reviews       Host          Type        Location   Current Price  \\\n",
       "235   4.91 (11)                Farm stay        Newburgh  $687 per night   \n",
       "201         New             Private room        Cornwall  $144 per night   \n",
       "226    5.0 (14)  Superhost           Hut   Brightlingsea   $55 per night   \n",
       "13    4.78 (32)                Farm stay      Woodbridge  $149 per night   \n",
       "122   4.79 (99)   Rare fin       Cottage   Northumberlan  $202 per night   \n",
       "156     5.0 (6)                Tiny home    Saint Merryn  $139 per night   \n",
       "206    5.0 (10)                   Chalet  West Yorkshire  $157 per night   \n",
       "179   4.65 (17)                   Chalet        Abersoch  $125 per night   \n",
       "202         New                    Cabin       Ashington  $253 per night   \n",
       "210  4.93 (149)   Rare fin         Cabin        Bunessan  $219 per night   \n",
       "\n",
       "    Original Price  \n",
       "235           None  \n",
       "201           None  \n",
       "226           None  \n",
       "13            None  \n",
       "122           None  \n",
       "156           None  \n",
       "206           None  \n",
       "179           None  \n",
       "202           None  \n",
       "210           None  "
      ]
     },
     "execution_count": 101,
     "metadata": {},
     "output_type": "execute_result"
    }
   ],
   "source": [
    "df2_clean.sample(10)"
   ]
  },
  {
   "cell_type": "code",
   "execution_count": 102,
   "metadata": {},
   "outputs": [
    {
     "data": {
      "text/html": [
       "<div>\n",
       "<style scoped>\n",
       "    .dataframe tbody tr th:only-of-type {\n",
       "        vertical-align: middle;\n",
       "    }\n",
       "\n",
       "    .dataframe tbody tr th {\n",
       "        vertical-align: top;\n",
       "    }\n",
       "\n",
       "    .dataframe thead th {\n",
       "        text-align: right;\n",
       "    }\n",
       "</style>\n",
       "<table border=\"1\" class=\"dataframe\">\n",
       "  <thead>\n",
       "    <tr style=\"text-align: right;\">\n",
       "      <th></th>\n",
       "      <th>Title</th>\n",
       "      <th>Beds</th>\n",
       "      <th>Reviews</th>\n",
       "      <th>Host</th>\n",
       "      <th>Type</th>\n",
       "      <th>Location</th>\n",
       "      <th>Current Price</th>\n",
       "      <th>Original Price</th>\n",
       "    </tr>\n",
       "  </thead>\n",
       "  <tbody>\n",
       "    <tr>\n",
       "      <th>108</th>\n",
       "      <td>Modern Getaway w/ POOL &amp;amp; HOT TUB and AMAZI...</td>\n",
       "      <td>6 bed</td>\n",
       "      <td>4.88 (48)</td>\n",
       "      <td>Superhost</td>\n",
       "      <td>Home</td>\n",
       "      <td>Dalton</td>\n",
       "      <td>$535 per night,</td>\n",
       "      <td>$727</td>\n",
       "    </tr>\n",
       "    <tr>\n",
       "      <th>178</th>\n",
       "      <td>Claimjumper Creekside Cabin R</td>\n",
       "      <td>1 queen bed</td>\n",
       "      <td>4.89 (542)</td>\n",
       "      <td>Superhost</td>\n",
       "      <td>None</td>\n",
       "      <td>None</td>\n",
       "      <td>$292 per night,</td>\n",
       "      <td>$391</td>\n",
       "    </tr>\n",
       "    <tr>\n",
       "      <th>193</th>\n",
       "      <td>Mountains To Deserts, You'll find it all here!</td>\n",
       "      <td>4 bed</td>\n",
       "      <td>4.94 (156)</td>\n",
       "      <td>Superhost</td>\n",
       "      <td>Cabin</td>\n",
       "      <td>Teasdale</td>\n",
       "      <td>$218 per night</td>\n",
       "      <td>None</td>\n",
       "    </tr>\n",
       "    <tr>\n",
       "      <th>262</th>\n",
       "      <td>The Cove Cab</td>\n",
       "      <td>2 bed</td>\n",
       "      <td>4.98 (209)</td>\n",
       "      <td>Rare fin</td>\n",
       "      <td>Cabin</td>\n",
       "      <td>Sherman</td>\n",
       "      <td>$429 per night,</td>\n",
       "      <td>$477</td>\n",
       "    </tr>\n",
       "    <tr>\n",
       "      <th>37</th>\n",
       "      <td>Malibu, Carbon Beach- Bungalow Twelv</td>\n",
       "      <td>2 bed</td>\n",
       "      <td>4.85 (315)</td>\n",
       "      <td>Plus</td>\n",
       "      <td>Bungalow</td>\n",
       "      <td>Malibu</td>\n",
       "      <td>$539 per night</td>\n",
       "      <td>None</td>\n",
       "    </tr>\n",
       "    <tr>\n",
       "      <th>30</th>\n",
       "      <td>Joshua Tree Casita, Amazing National Park Views</td>\n",
       "      <td>1 queen bed</td>\n",
       "      <td>4.98 (337)</td>\n",
       "      <td>Superhost</td>\n",
       "      <td>Guesthouse</td>\n",
       "      <td>Joshua Tree</td>\n",
       "      <td>$175 per night</td>\n",
       "      <td>None</td>\n",
       "    </tr>\n",
       "    <tr>\n",
       "      <th>66</th>\n",
       "      <td>Private Cabin/Hot Tub, Next to Purgatory Resort!</td>\n",
       "      <td>1 queen bed</td>\n",
       "      <td>4.81 (187)</td>\n",
       "      <td>Superhost</td>\n",
       "      <td>Cabin</td>\n",
       "      <td>Durango</td>\n",
       "      <td>$274 per night</td>\n",
       "      <td>None</td>\n",
       "    </tr>\n",
       "    <tr>\n",
       "      <th>183</th>\n",
       "      <td>Black Barn Ranch, Catskills. Enjoy the fall fo...</td>\n",
       "      <td>3 bed</td>\n",
       "      <td>4.88 (89)</td>\n",
       "      <td>Superhost</td>\n",
       "      <td>Home</td>\n",
       "      <td>Kerhonkson</td>\n",
       "      <td>$592 per night</td>\n",
       "      <td>None</td>\n",
       "    </tr>\n",
       "    <tr>\n",
       "      <th>73</th>\n",
       "      <td>Dove Haven | Find Your Peac</td>\n",
       "      <td>5 bed</td>\n",
       "      <td>New</td>\n",
       "      <td>Superhost</td>\n",
       "      <td>Villa</td>\n",
       "      <td>New Haven</td>\n",
       "      <td>$332 per night</td>\n",
       "      <td>None</td>\n",
       "    </tr>\n",
       "    <tr>\n",
       "      <th>169</th>\n",
       "      <td>Cozy Farmhouse - Pet friendly</td>\n",
       "      <td>1 bed</td>\n",
       "      <td>New</td>\n",
       "      <td></td>\n",
       "      <td>Home</td>\n",
       "      <td>Denver</td>\n",
       "      <td>$166 per night</td>\n",
       "      <td>None</td>\n",
       "    </tr>\n",
       "  </tbody>\n",
       "</table>\n",
       "</div>"
      ],
      "text/plain": [
       "                                                 Title         Beds  \\\n",
       "108  Modern Getaway w/ POOL &amp; HOT TUB and AMAZI...        6 bed   \n",
       "178                      Claimjumper Creekside Cabin R  1 queen bed   \n",
       "193     Mountains To Deserts, You'll find it all here!        4 bed   \n",
       "262                                       The Cove Cab        2 bed   \n",
       "37                Malibu, Carbon Beach- Bungalow Twelv        2 bed   \n",
       "30     Joshua Tree Casita, Amazing National Park Views  1 queen bed   \n",
       "66    Private Cabin/Hot Tub, Next to Purgatory Resort!  1 queen bed   \n",
       "183  Black Barn Ranch, Catskills. Enjoy the fall fo...        3 bed   \n",
       "73                         Dove Haven | Find Your Peac        5 bed   \n",
       "169                      Cozy Farmhouse - Pet friendly        1 bed   \n",
       "\n",
       "        Reviews       Host        Type     Location     Current Price  \\\n",
       "108   4.88 (48)  Superhost        Home       Dalton  $535 per night,    \n",
       "178  4.89 (542)  Superhost        None         None  $292 per night,    \n",
       "193  4.94 (156)  Superhost       Cabin     Teasdale    $218 per night   \n",
       "262  4.98 (209)   Rare fin       Cabin      Sherman  $429 per night,    \n",
       "37   4.85 (315)       Plus    Bungalow       Malibu    $539 per night   \n",
       "30   4.98 (337)  Superhost  Guesthouse  Joshua Tree    $175 per night   \n",
       "66   4.81 (187)  Superhost       Cabin      Durango    $274 per night   \n",
       "183   4.88 (89)  Superhost        Home   Kerhonkson    $592 per night   \n",
       "73          New  Superhost       Villa    New Haven    $332 per night   \n",
       "169         New                   Home       Denver    $166 per night   \n",
       "\n",
       "    Original Price  \n",
       "108           $727  \n",
       "178           $391  \n",
       "193           None  \n",
       "262           $477  \n",
       "37            None  \n",
       "30            None  \n",
       "66            None  \n",
       "183           None  \n",
       "73            None  \n",
       "169           None  "
      ]
     },
     "execution_count": 102,
     "metadata": {},
     "output_type": "execute_result"
    }
   ],
   "source": [
    "df3_clean.sample(10)"
   ]
  },
  {
   "cell_type": "code",
   "execution_count": 103,
   "metadata": {},
   "outputs": [
    {
     "data": {
      "text/html": [
       "<div>\n",
       "<style scoped>\n",
       "    .dataframe tbody tr th:only-of-type {\n",
       "        vertical-align: middle;\n",
       "    }\n",
       "\n",
       "    .dataframe tbody tr th {\n",
       "        vertical-align: top;\n",
       "    }\n",
       "\n",
       "    .dataframe thead th {\n",
       "        text-align: right;\n",
       "    }\n",
       "</style>\n",
       "<table border=\"1\" class=\"dataframe\">\n",
       "  <thead>\n",
       "    <tr style=\"text-align: right;\">\n",
       "      <th></th>\n",
       "      <th>Title</th>\n",
       "      <th>Beds</th>\n",
       "      <th>Reviews</th>\n",
       "      <th>Host</th>\n",
       "      <th>Type</th>\n",
       "      <th>Location</th>\n",
       "      <th>Current Price</th>\n",
       "      <th>Original Price</th>\n",
       "    </tr>\n",
       "  </thead>\n",
       "  <tbody>\n",
       "    <tr>\n",
       "      <th>184</th>\n",
       "      <td>The Wandering Star Cabin Joshua Tree - Epic Vi...</td>\n",
       "      <td>5 bed</td>\n",
       "      <td>4.85 (137)</td>\n",
       "      <td>Superhost</td>\n",
       "      <td>Tiny home</td>\n",
       "      <td>Mentone</td>\n",
       "      <td>$207 per night</td>\n",
       "      <td>None</td>\n",
       "    </tr>\n",
       "    <tr>\n",
       "      <th>42</th>\n",
       "      <td>True Cold War Relic Atlas F Missile Silo / Bunk</td>\n",
       "      <td>2 queen bed</td>\n",
       "      <td>4.95 (55)</td>\n",
       "      <td></td>\n",
       "      <td>None</td>\n",
       "      <td>None</td>\n",
       "      <td>$375 per night,</td>\n",
       "      <td>$424</td>\n",
       "    </tr>\n",
       "    <tr>\n",
       "      <th>72</th>\n",
       "      <td>The Alpine A Frame - Cozy Cabin with Barrel Sau</td>\n",
       "      <td>2 bed</td>\n",
       "      <td>4.88 (374)</td>\n",
       "      <td>Rare fin</td>\n",
       "      <td>Condo</td>\n",
       "      <td>Las Vegas</td>\n",
       "      <td>$215 per night,</td>\n",
       "      <td>$262</td>\n",
       "    </tr>\n",
       "    <tr>\n",
       "      <th>130</th>\n",
       "      <td>Beautiful Luxury Yurt bordering on Flathead Lak</td>\n",
       "      <td>1 king bed</td>\n",
       "      <td>4.55 (205)</td>\n",
       "      <td></td>\n",
       "      <td>Cabin</td>\n",
       "      <td>Broken Bow</td>\n",
       "      <td>$289 per night</td>\n",
       "      <td>None</td>\n",
       "    </tr>\n",
       "    <tr>\n",
       "      <th>266</th>\n",
       "      <td>NEW! Sunny Forest Hideaway w/ Hot Tub &amp;amp; Ga...</td>\n",
       "      <td>1 queen bed</td>\n",
       "      <td>4.95 (274)</td>\n",
       "      <td>Superhost</td>\n",
       "      <td>Home</td>\n",
       "      <td>Waco</td>\n",
       "      <td>$160 per night</td>\n",
       "      <td>None</td>\n",
       "    </tr>\n",
       "    <tr>\n",
       "      <th>224</th>\n",
       "      <td>The Barn at Slick Rock</td>\n",
       "      <td>4 bed</td>\n",
       "      <td>4.92 (288)</td>\n",
       "      <td>Rare fin</td>\n",
       "      <td>Home</td>\n",
       "      <td>Joshua Tree</td>\n",
       "      <td>$763 per night,</td>\n",
       "      <td>$1,217</td>\n",
       "    </tr>\n",
       "    <tr>\n",
       "      <th>264</th>\n",
       "      <td>The Local Chapter Big Bend Luxury Yurt 2 NEW</td>\n",
       "      <td>2 king bed</td>\n",
       "      <td>4.99 (80)</td>\n",
       "      <td>Superhost</td>\n",
       "      <td>Home</td>\n",
       "      <td>Joshua Tree</td>\n",
       "      <td>$832 per night,</td>\n",
       "      <td>$1,639</td>\n",
       "    </tr>\n",
       "    <tr>\n",
       "      <th>112</th>\n",
       "      <td>NEW~rate discount~ Private Country Retreat w/P...</td>\n",
       "      <td>1 king bed</td>\n",
       "      <td>4.9 (347)</td>\n",
       "      <td>Rare fin</td>\n",
       "      <td>Home</td>\n",
       "      <td>Wapato</td>\n",
       "      <td>$185 per night</td>\n",
       "      <td>None</td>\n",
       "    </tr>\n",
       "    <tr>\n",
       "      <th>41</th>\n",
       "      <td>Young Wild &amp;amp; TREE(HOUSE) private hot tub</td>\n",
       "      <td>2 bed</td>\n",
       "      <td>4.88 (26)</td>\n",
       "      <td>Superhost</td>\n",
       "      <td>Tiny home</td>\n",
       "      <td>Quincy</td>\n",
       "      <td>$316 per night</td>\n",
       "      <td>None</td>\n",
       "    </tr>\n",
       "    <tr>\n",
       "      <th>183</th>\n",
       "      <td>Black Barn Ranch, Catskills. Enjoy the fall fo...</td>\n",
       "      <td>8 bed</td>\n",
       "      <td>4.91 (206)</td>\n",
       "      <td>Superhost</td>\n",
       "      <td>Home</td>\n",
       "      <td>Atlanta</td>\n",
       "      <td>$654 per night,</td>\n",
       "      <td>$912</td>\n",
       "    </tr>\n",
       "  </tbody>\n",
       "</table>\n",
       "</div>"
      ],
      "text/plain": [
       "                                                 Title         Beds  \\\n",
       "184  The Wandering Star Cabin Joshua Tree - Epic Vi...        5 bed   \n",
       "42     True Cold War Relic Atlas F Missile Silo / Bunk  2 queen bed   \n",
       "72     The Alpine A Frame - Cozy Cabin with Barrel Sau        2 bed   \n",
       "130    Beautiful Luxury Yurt bordering on Flathead Lak   1 king bed   \n",
       "266  NEW! Sunny Forest Hideaway w/ Hot Tub &amp; Ga...  1 queen bed   \n",
       "224                             The Barn at Slick Rock        4 bed   \n",
       "264       The Local Chapter Big Bend Luxury Yurt 2 NEW   2 king bed   \n",
       "112  NEW~rate discount~ Private Country Retreat w/P...   1 king bed   \n",
       "41        Young Wild &amp; TREE(HOUSE) private hot tub        2 bed   \n",
       "183  Black Barn Ranch, Catskills. Enjoy the fall fo...        8 bed   \n",
       "\n",
       "        Reviews       Host       Type     Location     Current Price  \\\n",
       "184  4.85 (137)  Superhost  Tiny home      Mentone    $207 per night   \n",
       "42    4.95 (55)                  None         None  $375 per night,    \n",
       "72   4.88 (374)   Rare fin      Condo    Las Vegas  $215 per night,    \n",
       "130  4.55 (205)                 Cabin   Broken Bow    $289 per night   \n",
       "266  4.95 (274)  Superhost       Home         Waco    $160 per night   \n",
       "224  4.92 (288)   Rare fin       Home  Joshua Tree  $763 per night,    \n",
       "264   4.99 (80)  Superhost       Home  Joshua Tree  $832 per night,    \n",
       "112   4.9 (347)   Rare fin       Home       Wapato    $185 per night   \n",
       "41    4.88 (26)  Superhost  Tiny home       Quincy    $316 per night   \n",
       "183  4.91 (206)  Superhost       Home      Atlanta  $654 per night,    \n",
       "\n",
       "    Original Price  \n",
       "184           None  \n",
       "42            $424  \n",
       "72            $262  \n",
       "130           None  \n",
       "266           None  \n",
       "224         $1,217  \n",
       "264         $1,639  \n",
       "112           None  \n",
       "41            None  \n",
       "183           $912  "
      ]
     },
     "execution_count": 103,
     "metadata": {},
     "output_type": "execute_result"
    }
   ],
   "source": [
    "df4_clean.sample(10)"
   ]
  },
  {
   "cell_type": "markdown",
   "metadata": {},
   "source": [
    "## Issue 5: Listings reviews has two variables in one column"
   ]
  },
  {
   "cell_type": "markdown",
   "metadata": {},
   "source": [
    "### Define\n",
    "- The reviews column should be split into two columns ie Ratings and the number of reviews a listing has"
   ]
  },
  {
   "cell_type": "markdown",
   "metadata": {},
   "source": [
    "### Code"
   ]
  },
  {
   "cell_type": "code",
   "execution_count": 104,
   "metadata": {},
   "outputs": [
    {
     "data": {
      "text/plain": [
       "298    4.98 (127)\n",
       "10      4.94 (33)\n",
       "212      4.8 (10)\n",
       "296     4.99 (74)\n",
       "104    4.91 (409)\n",
       "Name: Reviews, dtype: object"
      ]
     },
     "execution_count": 104,
     "metadata": {},
     "output_type": "execute_result"
    }
   ],
   "source": [
    "df_clean['Reviews'].sample(5)"
   ]
  },
  {
   "cell_type": "code",
   "execution_count": 105,
   "metadata": {},
   "outputs": [],
   "source": [
    "# Use the split function to separate the Reviews columns\n",
    "rates = df_clean['Reviews'].str.split(\" \", n=1, expand=True)"
   ]
  },
  {
   "cell_type": "code",
   "execution_count": 106,
   "metadata": {},
   "outputs": [],
   "source": [
    "rates2 = df2_clean['Reviews'].str.split(\" \", n=1, expand=True)"
   ]
  },
  {
   "cell_type": "code",
   "execution_count": 107,
   "metadata": {},
   "outputs": [],
   "source": [
    "rates3 = df3_clean['Reviews'].str.split(\" \", n=1, expand=True)"
   ]
  },
  {
   "cell_type": "code",
   "execution_count": 108,
   "metadata": {},
   "outputs": [],
   "source": [
    "rates4 = df4_clean['Reviews'].str.split(\" \", n=1, expand=True)"
   ]
  },
  {
   "cell_type": "code",
   "execution_count": 109,
   "metadata": {},
   "outputs": [],
   "source": [
    "df_clean['Rating'] = rates[0]\n",
    "df_clean['No.of reviews'] = rates[1]"
   ]
  },
  {
   "cell_type": "code",
   "execution_count": 110,
   "metadata": {},
   "outputs": [],
   "source": [
    "df2_clean['Rating'] = rates2[0]\n",
    "df2_clean['No.of reviews'] = rates2[1]"
   ]
  },
  {
   "cell_type": "code",
   "execution_count": 111,
   "metadata": {},
   "outputs": [],
   "source": [
    "df3_clean['Rating'] = rates3[0]\n",
    "df3_clean['No.of reviews'] = rates3[1]"
   ]
  },
  {
   "cell_type": "code",
   "execution_count": 112,
   "metadata": {},
   "outputs": [],
   "source": [
    "df4_clean['Rating'] = rates4[0]\n",
    "df4_clean['No.of reviews'] = rates4[1]"
   ]
  },
  {
   "cell_type": "code",
   "execution_count": 113,
   "metadata": {},
   "outputs": [],
   "source": [
    "#DRop the Reviews column since it's no longer needed\n",
    "df_clean.drop(columns=['Reviews'], inplace=True)\n",
    "df2_clean.drop(columns=['Reviews'], inplace=True)\n",
    "df3_clean.drop(columns=['Reviews'], inplace=True)\n",
    "df4_clean.drop(columns=['Reviews'], inplace=True)"
   ]
  },
  {
   "cell_type": "code",
   "execution_count": 114,
   "metadata": {},
   "outputs": [
    {
     "data": {
      "text/html": [
       "<div>\n",
       "<style scoped>\n",
       "    .dataframe tbody tr th:only-of-type {\n",
       "        vertical-align: middle;\n",
       "    }\n",
       "\n",
       "    .dataframe tbody tr th {\n",
       "        vertical-align: top;\n",
       "    }\n",
       "\n",
       "    .dataframe thead th {\n",
       "        text-align: right;\n",
       "    }\n",
       "</style>\n",
       "<table border=\"1\" class=\"dataframe\">\n",
       "  <thead>\n",
       "    <tr style=\"text-align: right;\">\n",
       "      <th></th>\n",
       "      <th>Title</th>\n",
       "      <th>Beds</th>\n",
       "      <th>Host</th>\n",
       "      <th>Type</th>\n",
       "      <th>Location</th>\n",
       "      <th>Current Price</th>\n",
       "      <th>Original Price</th>\n",
       "      <th>Rating</th>\n",
       "      <th>No.of reviews</th>\n",
       "    </tr>\n",
       "  </thead>\n",
       "  <tbody>\n",
       "    <tr>\n",
       "      <th>238</th>\n",
       "      <td>King / Family in a Characterful Georgian Mans</td>\n",
       "      <td>3 bed</td>\n",
       "      <td></td>\n",
       "      <td>Private room</td>\n",
       "      <td>Hampshire</td>\n",
       "      <td>$166 per night</td>\n",
       "      <td>None</td>\n",
       "      <td></td>\n",
       "      <td>None</td>\n",
       "    </tr>\n",
       "    <tr>\n",
       "      <th>233</th>\n",
       "      <td>Peak House Farm (Hereford Double Ensuite)</td>\n",
       "      <td>1 bed</td>\n",
       "      <td></td>\n",
       "      <td>None</td>\n",
       "      <td>None</td>\n",
       "      <td>$103 per night</td>\n",
       "      <td>None</td>\n",
       "      <td>4.91</td>\n",
       "      <td>(22)</td>\n",
       "    </tr>\n",
       "    <tr>\n",
       "      <th>249</th>\n",
       "      <td>New Forest Country Home with Hot Tub &amp;amp; Ope...</td>\n",
       "      <td>9 bed</td>\n",
       "      <td>Superhost</td>\n",
       "      <td>Guest suite</td>\n",
       "      <td>Hampshire</td>\n",
       "      <td>$764 per night</td>\n",
       "      <td>None</td>\n",
       "      <td>4.89</td>\n",
       "      <td>(97)</td>\n",
       "    </tr>\n",
       "    <tr>\n",
       "      <th>231</th>\n",
       "      <td>Double or twin with Ensuite, Kinguss</td>\n",
       "      <td>1 double bed</td>\n",
       "      <td></td>\n",
       "      <td>Hotel room</td>\n",
       "      <td>Kingussie</td>\n",
       "      <td>$133 per night</td>\n",
       "      <td>None</td>\n",
       "      <td>4.38</td>\n",
       "      <td>(41)</td>\n",
       "    </tr>\n",
       "    <tr>\n",
       "      <th>59</th>\n",
       "      <td>Beautifully Handcrafted cosy Log cab</td>\n",
       "      <td>4 bed</td>\n",
       "      <td>Superhost</td>\n",
       "      <td>Cabin</td>\n",
       "      <td>Broad Haven</td>\n",
       "      <td>$175 per night</td>\n",
       "      <td>None</td>\n",
       "      <td>4.97</td>\n",
       "      <td>(39)</td>\n",
       "    </tr>\n",
       "  </tbody>\n",
       "</table>\n",
       "</div>"
      ],
      "text/plain": [
       "                                                 Title          Beds  \\\n",
       "238      King / Family in a Characterful Georgian Mans         3 bed   \n",
       "233          Peak House Farm (Hereford Double Ensuite)         1 bed   \n",
       "249  New Forest Country Home with Hot Tub &amp; Ope...         9 bed   \n",
       "231               Double or twin with Ensuite, Kinguss  1 double bed   \n",
       "59                Beautifully Handcrafted cosy Log cab         4 bed   \n",
       "\n",
       "          Host          Type     Location   Current Price Original Price  \\\n",
       "238             Private room    Hampshire  $166 per night           None   \n",
       "233                     None         None  $103 per night           None   \n",
       "249  Superhost   Guest suite    Hampshire  $764 per night           None   \n",
       "231               Hotel room    Kingussie  $133 per night           None   \n",
       "59   Superhost         Cabin  Broad Haven  $175 per night           None   \n",
       "\n",
       "    Rating No.of reviews  \n",
       "238                 None  \n",
       "233   4.91          (22)  \n",
       "249   4.89          (97)  \n",
       "231   4.38          (41)  \n",
       "59    4.97          (39)  "
      ]
     },
     "execution_count": 114,
     "metadata": {},
     "output_type": "execute_result"
    }
   ],
   "source": [
    "df_clean.sample(5)"
   ]
  },
  {
   "cell_type": "code",
   "execution_count": 115,
   "metadata": {},
   "outputs": [
    {
     "data": {
      "text/html": [
       "<div>\n",
       "<style scoped>\n",
       "    .dataframe tbody tr th:only-of-type {\n",
       "        vertical-align: middle;\n",
       "    }\n",
       "\n",
       "    .dataframe tbody tr th {\n",
       "        vertical-align: top;\n",
       "    }\n",
       "\n",
       "    .dataframe thead th {\n",
       "        text-align: right;\n",
       "    }\n",
       "</style>\n",
       "<table border=\"1\" class=\"dataframe\">\n",
       "  <thead>\n",
       "    <tr style=\"text-align: right;\">\n",
       "      <th></th>\n",
       "      <th>Title</th>\n",
       "      <th>Beds</th>\n",
       "      <th>Host</th>\n",
       "      <th>Type</th>\n",
       "      <th>Location</th>\n",
       "      <th>Current Price</th>\n",
       "      <th>Original Price</th>\n",
       "      <th>Rating</th>\n",
       "      <th>No.of reviews</th>\n",
       "    </tr>\n",
       "  </thead>\n",
       "  <tbody>\n",
       "    <tr>\n",
       "      <th>87</th>\n",
       "      <td>Under The Waves  Unique Apartment Filey Sea F</td>\n",
       "      <td>1 bed</td>\n",
       "      <td></td>\n",
       "      <td>Vacation home</td>\n",
       "      <td>North Yorkshire</td>\n",
       "      <td>$481 per night</td>\n",
       "      <td>None</td>\n",
       "      <td></td>\n",
       "      <td>None</td>\n",
       "    </tr>\n",
       "    <tr>\n",
       "      <th>157</th>\n",
       "      <td>Friendly log cab</td>\n",
       "      <td></td>\n",
       "      <td>Superhost</td>\n",
       "      <td>Cabin</td>\n",
       "      <td>Llandrillo</td>\n",
       "      <td>$334 per night</td>\n",
       "      <td>None</td>\n",
       "      <td>4.71</td>\n",
       "      <td>(7)</td>\n",
       "    </tr>\n",
       "    <tr>\n",
       "      <th>155</th>\n",
       "      <td>Lodge 5 (Family Style) - Yorkshire Dales</td>\n",
       "      <td>3 king bed</td>\n",
       "      <td></td>\n",
       "      <td>Private room</td>\n",
       "      <td>North Yorkshire</td>\n",
       "      <td>$451 per night</td>\n",
       "      <td>None</td>\n",
       "      <td>4.33</td>\n",
       "      <td>(3)</td>\n",
       "    </tr>\n",
       "    <tr>\n",
       "      <th>47</th>\n",
       "      <td>Serenity Lodge Otterburn with Hot Tub</td>\n",
       "      <td>6 bed</td>\n",
       "      <td>Rare fin</td>\n",
       "      <td>Cabin</td>\n",
       "      <td>Old Town Farm</td>\n",
       "      <td>$485 per night</td>\n",
       "      <td>None</td>\n",
       "      <td>4.97</td>\n",
       "      <td>(37)</td>\n",
       "    </tr>\n",
       "    <tr>\n",
       "      <th>231</th>\n",
       "      <td>Railway Carriages Hinton Admiral</td>\n",
       "      <td>3 bed</td>\n",
       "      <td>Rare fin</td>\n",
       "      <td>Train</td>\n",
       "      <td>Hinton</td>\n",
       "      <td>$259 per night</td>\n",
       "      <td>None</td>\n",
       "      <td>4.5</td>\n",
       "      <td>(60)</td>\n",
       "    </tr>\n",
       "  </tbody>\n",
       "</table>\n",
       "</div>"
      ],
      "text/plain": [
       "                                             Title        Beds       Host  \\\n",
       "87   Under The Waves  Unique Apartment Filey Sea F       1 bed              \n",
       "157                               Friendly log cab              Superhost   \n",
       "155       Lodge 5 (Family Style) - Yorkshire Dales  3 king bed              \n",
       "47           Serenity Lodge Otterburn with Hot Tub       6 bed   Rare fin   \n",
       "231               Railway Carriages Hinton Admiral       3 bed   Rare fin   \n",
       "\n",
       "              Type         Location   Current Price Original Price Rating  \\\n",
       "87   Vacation home  North Yorkshire  $481 per night           None          \n",
       "157          Cabin       Llandrillo  $334 per night           None   4.71   \n",
       "155   Private room  North Yorkshire  $451 per night           None   4.33   \n",
       "47           Cabin    Old Town Farm  $485 per night           None   4.97   \n",
       "231          Train           Hinton  $259 per night           None    4.5   \n",
       "\n",
       "    No.of reviews  \n",
       "87           None  \n",
       "157           (7)  \n",
       "155           (3)  \n",
       "47           (37)  \n",
       "231          (60)  "
      ]
     },
     "execution_count": 115,
     "metadata": {},
     "output_type": "execute_result"
    }
   ],
   "source": [
    "df2_clean.sample(5)"
   ]
  },
  {
   "cell_type": "code",
   "execution_count": 116,
   "metadata": {},
   "outputs": [
    {
     "data": {
      "text/html": [
       "<div>\n",
       "<style scoped>\n",
       "    .dataframe tbody tr th:only-of-type {\n",
       "        vertical-align: middle;\n",
       "    }\n",
       "\n",
       "    .dataframe tbody tr th {\n",
       "        vertical-align: top;\n",
       "    }\n",
       "\n",
       "    .dataframe thead th {\n",
       "        text-align: right;\n",
       "    }\n",
       "</style>\n",
       "<table border=\"1\" class=\"dataframe\">\n",
       "  <thead>\n",
       "    <tr style=\"text-align: right;\">\n",
       "      <th></th>\n",
       "      <th>Title</th>\n",
       "      <th>Beds</th>\n",
       "      <th>Host</th>\n",
       "      <th>Type</th>\n",
       "      <th>Location</th>\n",
       "      <th>Current Price</th>\n",
       "      <th>Original Price</th>\n",
       "      <th>Rating</th>\n",
       "      <th>No.of reviews</th>\n",
       "    </tr>\n",
       "  </thead>\n",
       "  <tbody>\n",
       "    <tr>\n",
       "      <th>80</th>\n",
       "      <td>Mountain G</td>\n",
       "      <td>2 bed</td>\n",
       "      <td></td>\n",
       "      <td>Home</td>\n",
       "      <td>Fancy Gap</td>\n",
       "      <td>$149 per night</td>\n",
       "      <td>None</td>\n",
       "      <td>4.92</td>\n",
       "      <td>(97)</td>\n",
       "    </tr>\n",
       "    <tr>\n",
       "      <th>154</th>\n",
       "      <td>New modern lakefront cabin with stunning views!</td>\n",
       "      <td>5 bed</td>\n",
       "      <td>Superhost</td>\n",
       "      <td>Cabin</td>\n",
       "      <td>Anaconda</td>\n",
       "      <td>$697 per night</td>\n",
       "      <td>None</td>\n",
       "      <td>4.98</td>\n",
       "      <td>(127)</td>\n",
       "    </tr>\n",
       "    <tr>\n",
       "      <th>95</th>\n",
       "      <td>Adventure Cabin 74</td>\n",
       "      <td>3 bed</td>\n",
       "      <td></td>\n",
       "      <td>Tiny home</td>\n",
       "      <td>Truckee</td>\n",
       "      <td>$325 per night</td>\n",
       "      <td>None</td>\n",
       "      <td>4.71</td>\n",
       "      <td>(48)</td>\n",
       "    </tr>\n",
       "    <tr>\n",
       "      <th>280</th>\n",
       "      <td>NEW! Dog-Friendly ‘Sunset Cabin’ w/ Wood Fire ...</td>\n",
       "      <td>1 queen bed</td>\n",
       "      <td></td>\n",
       "      <td>Cabin</td>\n",
       "      <td>Thorndale</td>\n",
       "      <td>$131 per night</td>\n",
       "      <td>None</td>\n",
       "      <td>5.0</td>\n",
       "      <td>(5)</td>\n",
       "    </tr>\n",
       "    <tr>\n",
       "      <th>242</th>\n",
       "      <td>Award-Winning Forest Getaway: @thesearanchhous</td>\n",
       "      <td>2 bed</td>\n",
       "      <td>Rare fin</td>\n",
       "      <td>Home</td>\n",
       "      <td>The Sea Ranch</td>\n",
       "      <td>$464 per night,</td>\n",
       "      <td>$618</td>\n",
       "      <td>4.99</td>\n",
       "      <td>(160)</td>\n",
       "    </tr>\n",
       "  </tbody>\n",
       "</table>\n",
       "</div>"
      ],
      "text/plain": [
       "                                                 Title         Beds  \\\n",
       "80                                          Mountain G        2 bed   \n",
       "154    New modern lakefront cabin with stunning views!        5 bed   \n",
       "95                                  Adventure Cabin 74        3 bed   \n",
       "280  NEW! Dog-Friendly ‘Sunset Cabin’ w/ Wood Fire ...  1 queen bed   \n",
       "242     Award-Winning Forest Getaway: @thesearanchhous        2 bed   \n",
       "\n",
       "          Host       Type       Location     Current Price Original Price  \\\n",
       "80                   Home      Fancy Gap    $149 per night           None   \n",
       "154  Superhost      Cabin       Anaconda    $697 per night           None   \n",
       "95              Tiny home        Truckee    $325 per night           None   \n",
       "280                 Cabin      Thorndale    $131 per night           None   \n",
       "242   Rare fin       Home  The Sea Ranch  $464 per night,            $618   \n",
       "\n",
       "    Rating No.of reviews  \n",
       "80    4.92          (97)  \n",
       "154   4.98         (127)  \n",
       "95    4.71          (48)  \n",
       "280    5.0           (5)  \n",
       "242   4.99         (160)  "
      ]
     },
     "execution_count": 116,
     "metadata": {},
     "output_type": "execute_result"
    }
   ],
   "source": [
    "df3_clean.sample(5)"
   ]
  },
  {
   "cell_type": "code",
   "execution_count": 117,
   "metadata": {},
   "outputs": [
    {
     "data": {
      "text/html": [
       "<div>\n",
       "<style scoped>\n",
       "    .dataframe tbody tr th:only-of-type {\n",
       "        vertical-align: middle;\n",
       "    }\n",
       "\n",
       "    .dataframe tbody tr th {\n",
       "        vertical-align: top;\n",
       "    }\n",
       "\n",
       "    .dataframe thead th {\n",
       "        text-align: right;\n",
       "    }\n",
       "</style>\n",
       "<table border=\"1\" class=\"dataframe\">\n",
       "  <thead>\n",
       "    <tr style=\"text-align: right;\">\n",
       "      <th></th>\n",
       "      <th>Title</th>\n",
       "      <th>Beds</th>\n",
       "      <th>Host</th>\n",
       "      <th>Type</th>\n",
       "      <th>Location</th>\n",
       "      <th>Current Price</th>\n",
       "      <th>Original Price</th>\n",
       "      <th>Rating</th>\n",
       "      <th>No.of reviews</th>\n",
       "    </tr>\n",
       "  </thead>\n",
       "  <tbody>\n",
       "    <tr>\n",
       "      <th>203</th>\n",
       "      <td>Mountains To Deserts, You'll find it all here!</td>\n",
       "      <td>8 bed</td>\n",
       "      <td>Rare fin</td>\n",
       "      <td>Home</td>\n",
       "      <td>Joshua Tree</td>\n",
       "      <td>$860 per night,</td>\n",
       "      <td>$1,108</td>\n",
       "      <td>4.95</td>\n",
       "      <td>(298)</td>\n",
       "    </tr>\n",
       "    <tr>\n",
       "      <th>26</th>\n",
       "      <td>Tiny House Cozy Cabin by Zion, Grand Canyon, Bryc</td>\n",
       "      <td>3 queen bed</td>\n",
       "      <td></td>\n",
       "      <td>Home</td>\n",
       "      <td>Saint Helena Islan</td>\n",
       "      <td>$437 per night</td>\n",
       "      <td>None</td>\n",
       "      <td>4.63</td>\n",
       "      <td>(8)</td>\n",
       "    </tr>\n",
       "    <tr>\n",
       "      <th>295</th>\n",
       "      <td>NEW! Sunny Forest Hideaway w/ Hot Tub &amp;amp; Ga...</td>\n",
       "      <td>2 bed</td>\n",
       "      <td>Superhost</td>\n",
       "      <td>Tiny home</td>\n",
       "      <td>Liberty Hill</td>\n",
       "      <td>$157 per night</td>\n",
       "      <td>None</td>\n",
       "      <td>4.93</td>\n",
       "      <td>(76)</td>\n",
       "    </tr>\n",
       "    <tr>\n",
       "      <th>242</th>\n",
       "      <td>Award-Winning Forest Getaway: @thesearanchhous</td>\n",
       "      <td>1 queen bed</td>\n",
       "      <td>Superhost</td>\n",
       "      <td>Tiny home</td>\n",
       "      <td>Asheville</td>\n",
       "      <td>$145 per night</td>\n",
       "      <td>None</td>\n",
       "      <td>4.93</td>\n",
       "      <td>(276)</td>\n",
       "    </tr>\n",
       "    <tr>\n",
       "      <th>96</th>\n",
       "      <td>Santa Fe Super D</td>\n",
       "      <td>1 king bed</td>\n",
       "      <td>Superhost</td>\n",
       "      <td>Condo</td>\n",
       "      <td>Whitethorn</td>\n",
       "      <td>$694 per night</td>\n",
       "      <td>None</td>\n",
       "      <td>4.99</td>\n",
       "      <td>(80)</td>\n",
       "    </tr>\n",
       "  </tbody>\n",
       "</table>\n",
       "</div>"
      ],
      "text/plain": [
       "                                                 Title         Beds  \\\n",
       "203     Mountains To Deserts, You'll find it all here!        8 bed   \n",
       "26   Tiny House Cozy Cabin by Zion, Grand Canyon, Bryc  3 queen bed   \n",
       "295  NEW! Sunny Forest Hideaway w/ Hot Tub &amp; Ga...        2 bed   \n",
       "242     Award-Winning Forest Getaway: @thesearanchhous  1 queen bed   \n",
       "96                                    Santa Fe Super D   1 king bed   \n",
       "\n",
       "          Host       Type            Location     Current Price  \\\n",
       "203   Rare fin       Home         Joshua Tree  $860 per night,    \n",
       "26                   Home  Saint Helena Islan    $437 per night   \n",
       "295  Superhost  Tiny home        Liberty Hill    $157 per night   \n",
       "242  Superhost  Tiny home           Asheville    $145 per night   \n",
       "96   Superhost      Condo          Whitethorn    $694 per night   \n",
       "\n",
       "    Original Price Rating No.of reviews  \n",
       "203         $1,108   4.95         (298)  \n",
       "26            None   4.63           (8)  \n",
       "295           None   4.93          (76)  \n",
       "242           None   4.93         (276)  \n",
       "96            None   4.99          (80)  "
      ]
     },
     "execution_count": 117,
     "metadata": {},
     "output_type": "execute_result"
    }
   ],
   "source": [
    "df4_clean.sample(5)"
   ]
  },
  {
   "cell_type": "markdown",
   "metadata": {},
   "source": [
    "## Issue 6: Unecessary data in the dataset"
   ]
  },
  {
   "cell_type": "markdown",
   "metadata": {},
   "source": [
    "### Define\n",
    "- Get rid of the unecessary information in the dataset. Example; the word beds in the Beds column, the brackets in the No of reviews column"
   ]
  },
  {
   "cell_type": "markdown",
   "metadata": {},
   "source": [
    "### Code"
   ]
  },
  {
   "cell_type": "code",
   "execution_count": 118,
   "metadata": {},
   "outputs": [],
   "source": [
    "#Use the strip functions to get rid of the extra data that was scraped and is not needed in the analysis\n",
    "df_clean['No.of reviews'] = df_clean['No.of reviews'].astype(str).str.lstrip('(').str.rstrip(')')"
   ]
  },
  {
   "cell_type": "code",
   "execution_count": 119,
   "metadata": {},
   "outputs": [],
   "source": [
    "df2_clean['No.of reviews'] = df2_clean['No.of reviews'].astype(str).str.lstrip('(').str.rstrip(')')"
   ]
  },
  {
   "cell_type": "code",
   "execution_count": 120,
   "metadata": {},
   "outputs": [],
   "source": [
    "df3_clean['No.of reviews'] = df3_clean['No.of reviews'].astype(str).str.lstrip('(').str.rstrip(')')"
   ]
  },
  {
   "cell_type": "code",
   "execution_count": 121,
   "metadata": {},
   "outputs": [],
   "source": [
    "df4_clean['No.of reviews'] = df4_clean['No.of reviews'].astype(str).str.lstrip('(').str.rstrip(')')"
   ]
  },
  {
   "cell_type": "code",
   "execution_count": 122,
   "metadata": {},
   "outputs": [],
   "source": [
    "df4_clean['Beds'] = df4_clean['Beds'].str[0]\n"
   ]
  },
  {
   "cell_type": "code",
   "execution_count": 123,
   "metadata": {},
   "outputs": [],
   "source": [
    "df3_clean['Beds'] = df3_clean['Beds'].str[0]\n"
   ]
  },
  {
   "cell_type": "code",
   "execution_count": 124,
   "metadata": {},
   "outputs": [],
   "source": [
    "df2_clean['Beds'] = df2_clean['Beds'].str[0]\n"
   ]
  },
  {
   "cell_type": "code",
   "execution_count": 125,
   "metadata": {},
   "outputs": [],
   "source": [
    "df_clean['Beds'] = df_clean['Beds'].str[0]"
   ]
  },
  {
   "cell_type": "code",
   "execution_count": 126,
   "metadata": {},
   "outputs": [],
   "source": [
    "df_clean['Current Price'] = df_clean['Current Price'].astype(str).str.lstrip('$').str.rstrip('per night,')\n"
   ]
  },
  {
   "cell_type": "code",
   "execution_count": 127,
   "metadata": {},
   "outputs": [],
   "source": [
    "df2_clean['Current Price'] = df2_clean['Current Price'].astype(str).str.lstrip('$').str.rstrip('per night,')\n"
   ]
  },
  {
   "cell_type": "code",
   "execution_count": 128,
   "metadata": {},
   "outputs": [],
   "source": [
    "df3_clean['Current Price'] = df3_clean['Current Price'].astype(str).str.lstrip('$').str.rstrip('per night,')\n"
   ]
  },
  {
   "cell_type": "code",
   "execution_count": 129,
   "metadata": {},
   "outputs": [],
   "source": [
    "df4_clean['Current Price'] = df4_clean['Current Price'].astype(str).str.lstrip('$').str.rstrip('per night,')\n"
   ]
  },
  {
   "cell_type": "code",
   "execution_count": 130,
   "metadata": {},
   "outputs": [],
   "source": [
    "#Get rid of the dollar sign in the Original Price column using the replace function\n",
    "df_clean['Original Price'] = df_clean['Original Price'].str.replace(r'[^0-9]+', '')\n",
    "df2_clean['Original Price'] = df2_clean['Original Price'].str.replace(r'[^0-9]+', '')\n",
    "df3_clean['Original Price'] = df3_clean['Original Price'].str.replace(r'[^0-9]+', '')\n",
    "df4_clean['Original Price'] = df4_clean['Original Price'].str.replace(r'[^0-9]+', '')\n"
   ]
  },
  {
   "cell_type": "markdown",
   "metadata": {},
   "source": [
    "### Test"
   ]
  },
  {
   "cell_type": "code",
   "execution_count": 131,
   "metadata": {},
   "outputs": [
    {
     "data": {
      "text/html": [
       "<div>\n",
       "<style scoped>\n",
       "    .dataframe tbody tr th:only-of-type {\n",
       "        vertical-align: middle;\n",
       "    }\n",
       "\n",
       "    .dataframe tbody tr th {\n",
       "        vertical-align: top;\n",
       "    }\n",
       "\n",
       "    .dataframe thead th {\n",
       "        text-align: right;\n",
       "    }\n",
       "</style>\n",
       "<table border=\"1\" class=\"dataframe\">\n",
       "  <thead>\n",
       "    <tr style=\"text-align: right;\">\n",
       "      <th></th>\n",
       "      <th>Title</th>\n",
       "      <th>Beds</th>\n",
       "      <th>Host</th>\n",
       "      <th>Type</th>\n",
       "      <th>Location</th>\n",
       "      <th>Current Price</th>\n",
       "      <th>Original Price</th>\n",
       "      <th>Rating</th>\n",
       "      <th>No.of reviews</th>\n",
       "    </tr>\n",
       "  </thead>\n",
       "  <tbody>\n",
       "    <tr>\n",
       "      <th>170</th>\n",
       "      <td>Park of Drumquhassle Twin Room in Estate Mans</td>\n",
       "      <td>2</td>\n",
       "      <td></td>\n",
       "      <td>Private room</td>\n",
       "      <td>Drymen</td>\n",
       "      <td>206</td>\n",
       "      <td>None</td>\n",
       "      <td>4.6</td>\n",
       "      <td>5</td>\n",
       "    </tr>\n",
       "    <tr>\n",
       "      <th>197</th>\n",
       "      <td>Super King/Twin Luxury Apartment (Garbh-bheinn)</td>\n",
       "      <td>1</td>\n",
       "      <td>Superhost</td>\n",
       "      <td>Farm stay</td>\n",
       "      <td>Highland Council</td>\n",
       "      <td>118</td>\n",
       "      <td>182</td>\n",
       "      <td>5.0</td>\n",
       "      <td>8</td>\n",
       "    </tr>\n",
       "    <tr>\n",
       "      <th>237</th>\n",
       "      <td>The Hive @ Braeside Retreats</td>\n",
       "      <td>1</td>\n",
       "      <td></td>\n",
       "      <td>Tiny home</td>\n",
       "      <td>Thurso</td>\n",
       "      <td>157</td>\n",
       "      <td>None</td>\n",
       "      <td></td>\n",
       "      <td>None</td>\n",
       "    </tr>\n",
       "    <tr>\n",
       "      <th>92</th>\n",
       "      <td>The Chamber at White Rose Tow</td>\n",
       "      <td>1</td>\n",
       "      <td></td>\n",
       "      <td>Private room</td>\n",
       "      <td>Highland Council</td>\n",
       "      <td>240</td>\n",
       "      <td>None</td>\n",
       "      <td></td>\n",
       "      <td>None</td>\n",
       "    </tr>\n",
       "    <tr>\n",
       "      <th>137</th>\n",
       "      <td>Stylish Cosy Lodge in Grizedale Fores</td>\n",
       "      <td>4</td>\n",
       "      <td>Rare fin</td>\n",
       "      <td>Cabin</td>\n",
       "      <td>Satterthwaite</td>\n",
       "      <td>262</td>\n",
       "      <td>None</td>\n",
       "      <td>4.99</td>\n",
       "      <td>231</td>\n",
       "    </tr>\n",
       "  </tbody>\n",
       "</table>\n",
       "</div>"
      ],
      "text/plain": [
       "                                               Title Beds       Host  \\\n",
       "170    Park of Drumquhassle Twin Room in Estate Mans    2              \n",
       "197  Super King/Twin Luxury Apartment (Garbh-bheinn)    1  Superhost   \n",
       "237                     The Hive @ Braeside Retreats    1              \n",
       "92                     The Chamber at White Rose Tow    1              \n",
       "137            Stylish Cosy Lodge in Grizedale Fores    4   Rare fin   \n",
       "\n",
       "             Type          Location Current Price Original Price Rating  \\\n",
       "170  Private room            Drymen           206           None    4.6   \n",
       "197     Farm stay  Highland Council           118            182    5.0   \n",
       "237     Tiny home            Thurso           157           None          \n",
       "92   Private room  Highland Council           240           None          \n",
       "137         Cabin     Satterthwaite           262           None   4.99   \n",
       "\n",
       "    No.of reviews  \n",
       "170             5  \n",
       "197             8  \n",
       "237          None  \n",
       "92           None  \n",
       "137           231  "
      ]
     },
     "execution_count": 131,
     "metadata": {},
     "output_type": "execute_result"
    }
   ],
   "source": [
    "df_clean.sample(5)"
   ]
  },
  {
   "cell_type": "code",
   "execution_count": 132,
   "metadata": {},
   "outputs": [
    {
     "data": {
      "text/html": [
       "<div>\n",
       "<style scoped>\n",
       "    .dataframe tbody tr th:only-of-type {\n",
       "        vertical-align: middle;\n",
       "    }\n",
       "\n",
       "    .dataframe tbody tr th {\n",
       "        vertical-align: top;\n",
       "    }\n",
       "\n",
       "    .dataframe thead th {\n",
       "        text-align: right;\n",
       "    }\n",
       "</style>\n",
       "<table border=\"1\" class=\"dataframe\">\n",
       "  <thead>\n",
       "    <tr style=\"text-align: right;\">\n",
       "      <th></th>\n",
       "      <th>Title</th>\n",
       "      <th>Beds</th>\n",
       "      <th>Host</th>\n",
       "      <th>Type</th>\n",
       "      <th>Location</th>\n",
       "      <th>Current Price</th>\n",
       "      <th>Original Price</th>\n",
       "      <th>Rating</th>\n",
       "      <th>No.of reviews</th>\n",
       "    </tr>\n",
       "  </thead>\n",
       "  <tbody>\n",
       "    <tr>\n",
       "      <th>38</th>\n",
       "      <td>East Side Beehiv</td>\n",
       "      <td>1</td>\n",
       "      <td>Superhost</td>\n",
       "      <td>None</td>\n",
       "      <td>None</td>\n",
       "      <td>303</td>\n",
       "      <td>None</td>\n",
       "      <td>4.9</td>\n",
       "      <td>182</td>\n",
       "    </tr>\n",
       "    <tr>\n",
       "      <th>149</th>\n",
       "      <td>The Martingale at Max Patch</td>\n",
       "      <td>3</td>\n",
       "      <td>Superhost</td>\n",
       "      <td>Cabin</td>\n",
       "      <td>Hot Springs</td>\n",
       "      <td>161</td>\n",
       "      <td>205</td>\n",
       "      <td>4.97</td>\n",
       "      <td>88</td>\n",
       "    </tr>\n",
       "    <tr>\n",
       "      <th>27</th>\n",
       "      <td>Chic Desert Homestead near JoshuaTree🌵</td>\n",
       "      <td>1</td>\n",
       "      <td>Superhost</td>\n",
       "      <td>Cabin</td>\n",
       "      <td>Twentynine Palms</td>\n",
       "      <td>132</td>\n",
       "      <td>None</td>\n",
       "      <td>5.0</td>\n",
       "      <td>16</td>\n",
       "    </tr>\n",
       "    <tr>\n",
       "      <th>137</th>\n",
       "      <td>Mountain Retreat w/ Views of Lake Pend Oreill</td>\n",
       "      <td>4</td>\n",
       "      <td></td>\n",
       "      <td>Home</td>\n",
       "      <td>Sagle</td>\n",
       "      <td>345</td>\n",
       "      <td>None</td>\n",
       "      <td>4.9</td>\n",
       "      <td>49</td>\n",
       "    </tr>\n",
       "    <tr>\n",
       "      <th>89</th>\n",
       "      <td>🌅Gorgeous Oceanview, Shelter Cove, Oceanfront! 🌊</td>\n",
       "      <td>1</td>\n",
       "      <td>Superhost</td>\n",
       "      <td>Condo</td>\n",
       "      <td>Whitethorn</td>\n",
       "      <td>703</td>\n",
       "      <td>None</td>\n",
       "      <td>4.99</td>\n",
       "      <td>80</td>\n",
       "    </tr>\n",
       "  </tbody>\n",
       "</table>\n",
       "</div>"
      ],
      "text/plain": [
       "                                                Title Beds       Host   Type  \\\n",
       "38                                   East Side Beehiv    1  Superhost   None   \n",
       "149                       The Martingale at Max Patch    3  Superhost  Cabin   \n",
       "27             Chic Desert Homestead near JoshuaTree🌵    1  Superhost  Cabin   \n",
       "137     Mountain Retreat w/ Views of Lake Pend Oreill    4              Home   \n",
       "89   🌅Gorgeous Oceanview, Shelter Cove, Oceanfront! 🌊    1  Superhost  Condo   \n",
       "\n",
       "             Location Current Price Original Price Rating No.of reviews  \n",
       "38               None           303           None    4.9           182  \n",
       "149       Hot Springs           161            205   4.97            88  \n",
       "27   Twentynine Palms           132           None    5.0            16  \n",
       "137             Sagle           345           None    4.9            49  \n",
       "89         Whitethorn           703           None   4.99            80  "
      ]
     },
     "execution_count": 132,
     "metadata": {},
     "output_type": "execute_result"
    }
   ],
   "source": [
    "df3_clean.sample(5)"
   ]
  },
  {
   "cell_type": "code",
   "execution_count": 133,
   "metadata": {},
   "outputs": [
    {
     "data": {
      "text/html": [
       "<div>\n",
       "<style scoped>\n",
       "    .dataframe tbody tr th:only-of-type {\n",
       "        vertical-align: middle;\n",
       "    }\n",
       "\n",
       "    .dataframe tbody tr th {\n",
       "        vertical-align: top;\n",
       "    }\n",
       "\n",
       "    .dataframe thead th {\n",
       "        text-align: right;\n",
       "    }\n",
       "</style>\n",
       "<table border=\"1\" class=\"dataframe\">\n",
       "  <thead>\n",
       "    <tr style=\"text-align: right;\">\n",
       "      <th></th>\n",
       "      <th>Title</th>\n",
       "      <th>Beds</th>\n",
       "      <th>Host</th>\n",
       "      <th>Type</th>\n",
       "      <th>Location</th>\n",
       "      <th>Current Price</th>\n",
       "      <th>Original Price</th>\n",
       "      <th>Rating</th>\n",
       "      <th>No.of reviews</th>\n",
       "    </tr>\n",
       "  </thead>\n",
       "  <tbody>\n",
       "    <tr>\n",
       "      <th>123</th>\n",
       "      <td>Glorious Lotus Belle Tent, Bamburgh</td>\n",
       "      <td>NaN</td>\n",
       "      <td></td>\n",
       "      <td>None</td>\n",
       "      <td>None</td>\n",
       "      <td>172</td>\n",
       "      <td>None</td>\n",
       "      <td>4.8</td>\n",
       "      <td>5</td>\n",
       "    </tr>\n",
       "    <tr>\n",
       "      <th>226</th>\n",
       "      <td>Mermaid’s Hut \\nBrightlings</td>\n",
       "      <td>NaN</td>\n",
       "      <td>Superhost</td>\n",
       "      <td>Hut</td>\n",
       "      <td>Brightlingsea</td>\n",
       "      <td>55</td>\n",
       "      <td>None</td>\n",
       "      <td>5.0</td>\n",
       "      <td>14</td>\n",
       "    </tr>\n",
       "    <tr>\n",
       "      <th>240</th>\n",
       "      <td>Luxury Hut-Bedviews/Shower/LBurn/Wc/Stars/Dog/WiF</td>\n",
       "      <td>1</td>\n",
       "      <td>Superhost</td>\n",
       "      <td>Shepherd’s hut</td>\n",
       "      <td>Usk</td>\n",
       "      <td>135</td>\n",
       "      <td>None</td>\n",
       "      <td>5.0</td>\n",
       "      <td>72</td>\n",
       "    </tr>\n",
       "    <tr>\n",
       "      <th>38</th>\n",
       "      <td>Large luxury coastal glamping pod and outdoor ...</td>\n",
       "      <td>1</td>\n",
       "      <td></td>\n",
       "      <td>Farm stay</td>\n",
       "      <td>Weston</td>\n",
       "      <td>206</td>\n",
       "      <td>None</td>\n",
       "      <td>5.0</td>\n",
       "      <td>7</td>\n",
       "    </tr>\n",
       "    <tr>\n",
       "      <th>147</th>\n",
       "      <td>Oak Lodge at Avonvale Holiday Lodges</td>\n",
       "      <td>7</td>\n",
       "      <td></td>\n",
       "      <td>Cabin</td>\n",
       "      <td>Evesham</td>\n",
       "      <td>227</td>\n",
       "      <td>None</td>\n",
       "      <td>4.76</td>\n",
       "      <td>77</td>\n",
       "    </tr>\n",
       "  </tbody>\n",
       "</table>\n",
       "</div>"
      ],
      "text/plain": [
       "                                                 Title Beds       Host  \\\n",
       "123                Glorious Lotus Belle Tent, Bamburgh  NaN              \n",
       "226                        Mermaid’s Hut \\nBrightlings  NaN  Superhost   \n",
       "240  Luxury Hut-Bedviews/Shower/LBurn/Wc/Stars/Dog/WiF    1  Superhost   \n",
       "38   Large luxury coastal glamping pod and outdoor ...    1              \n",
       "147               Oak Lodge at Avonvale Holiday Lodges    7              \n",
       "\n",
       "               Type       Location Current Price Original Price Rating  \\\n",
       "123            None           None           172           None    4.8   \n",
       "226             Hut  Brightlingsea            55           None    5.0   \n",
       "240  Shepherd’s hut            Usk           135           None    5.0   \n",
       "38        Farm stay         Weston           206           None    5.0   \n",
       "147           Cabin        Evesham           227           None   4.76   \n",
       "\n",
       "    No.of reviews  \n",
       "123             5  \n",
       "226            14  \n",
       "240            72  \n",
       "38              7  \n",
       "147            77  "
      ]
     },
     "execution_count": 133,
     "metadata": {},
     "output_type": "execute_result"
    }
   ],
   "source": [
    "df2_clean.sample(5)"
   ]
  },
  {
   "cell_type": "code",
   "execution_count": 134,
   "metadata": {},
   "outputs": [
    {
     "data": {
      "text/html": [
       "<div>\n",
       "<style scoped>\n",
       "    .dataframe tbody tr th:only-of-type {\n",
       "        vertical-align: middle;\n",
       "    }\n",
       "\n",
       "    .dataframe tbody tr th {\n",
       "        vertical-align: top;\n",
       "    }\n",
       "\n",
       "    .dataframe thead th {\n",
       "        text-align: right;\n",
       "    }\n",
       "</style>\n",
       "<table border=\"1\" class=\"dataframe\">\n",
       "  <thead>\n",
       "    <tr style=\"text-align: right;\">\n",
       "      <th></th>\n",
       "      <th>Title</th>\n",
       "      <th>Beds</th>\n",
       "      <th>Host</th>\n",
       "      <th>Type</th>\n",
       "      <th>Location</th>\n",
       "      <th>Current Price</th>\n",
       "      <th>Original Price</th>\n",
       "      <th>Rating</th>\n",
       "      <th>No.of reviews</th>\n",
       "    </tr>\n",
       "  </thead>\n",
       "  <tbody>\n",
       "    <tr>\n",
       "      <th>219</th>\n",
       "      <td>The Old School House - Loft Apartment 8</td>\n",
       "      <td>4</td>\n",
       "      <td>Superhost</td>\n",
       "      <td>Apartment</td>\n",
       "      <td>Lytham St Annes</td>\n",
       "      <td>157</td>\n",
       "      <td>None</td>\n",
       "      <td>New</td>\n",
       "      <td>None</td>\n",
       "    </tr>\n",
       "    <tr>\n",
       "      <th>149</th>\n",
       "      <td>Royal Portrush,  accesible Flax Mill</td>\n",
       "      <td>1</td>\n",
       "      <td></td>\n",
       "      <td>Castle</td>\n",
       "      <td>Coleraine</td>\n",
       "      <td>710</td>\n",
       "      <td>None</td>\n",
       "      <td>5.0</td>\n",
       "      <td>4</td>\n",
       "    </tr>\n",
       "    <tr>\n",
       "      <th>242</th>\n",
       "      <td>Spacious room with king size bed and en-su</td>\n",
       "      <td>1</td>\n",
       "      <td></td>\n",
       "      <td>Private room</td>\n",
       "      <td>Cornwall</td>\n",
       "      <td>145</td>\n",
       "      <td>None</td>\n",
       "      <td>New</td>\n",
       "      <td>None</td>\n",
       "    </tr>\n",
       "    <tr>\n",
       "      <th>5</th>\n",
       "      <td>Swallows Loft, The Old Vicarag</td>\n",
       "      <td>2</td>\n",
       "      <td>Rare fin</td>\n",
       "      <td>Condo</td>\n",
       "      <td>Far Sawrey</td>\n",
       "      <td>180</td>\n",
       "      <td>206</td>\n",
       "      <td>4.98</td>\n",
       "      <td>109</td>\n",
       "    </tr>\n",
       "    <tr>\n",
       "      <th>180</th>\n",
       "      <td>Crookston House B&amp;amp;B Ballroom Bed</td>\n",
       "      <td>1</td>\n",
       "      <td>Superhost</td>\n",
       "      <td>Private room</td>\n",
       "      <td>Scottish Borders</td>\n",
       "      <td>157</td>\n",
       "      <td>None</td>\n",
       "      <td>5.0</td>\n",
       "      <td>12</td>\n",
       "    </tr>\n",
       "  </tbody>\n",
       "</table>\n",
       "</div>"
      ],
      "text/plain": [
       "                                          Title Beds       Host          Type  \\\n",
       "219     The Old School House - Loft Apartment 8    4  Superhost     Apartment   \n",
       "149        Royal Portrush,  accesible Flax Mill    1                   Castle   \n",
       "242  Spacious room with king size bed and en-su    1             Private room   \n",
       "5                Swallows Loft, The Old Vicarag    2   Rare fin         Condo   \n",
       "180        Crookston House B&amp;B Ballroom Bed    1  Superhost  Private room   \n",
       "\n",
       "             Location Current Price Original Price Rating No.of reviews  \n",
       "219   Lytham St Annes           157           None    New          None  \n",
       "149         Coleraine           710           None    5.0             4  \n",
       "242          Cornwall           145           None    New          None  \n",
       "5          Far Sawrey           180            206   4.98           109  \n",
       "180  Scottish Borders           157           None    5.0            12  "
      ]
     },
     "execution_count": 134,
     "metadata": {},
     "output_type": "execute_result"
    }
   ],
   "source": [
    "df_clean.sample(5)"
   ]
  },
  {
   "cell_type": "markdown",
   "metadata": {},
   "source": [
    "## Issue 7: None values in the datasets"
   ]
  },
  {
   "cell_type": "markdown",
   "metadata": {},
   "source": [
    "### Define\n",
    "- Use the replace function to get rid of 'None' in the dataset"
   ]
  },
  {
   "cell_type": "markdown",
   "metadata": {},
   "source": [
    "### Code"
   ]
  },
  {
   "cell_type": "code",
   "execution_count": 135,
   "metadata": {},
   "outputs": [],
   "source": [
    "#Using Numpy, fill in the empty values with np.nan\n",
    "df_clean = df_clean.fillna(value=np.nan)"
   ]
  },
  {
   "cell_type": "code",
   "execution_count": 136,
   "metadata": {},
   "outputs": [],
   "source": [
    "df2_clean = df2_clean.fillna(value=np.nan)"
   ]
  },
  {
   "cell_type": "code",
   "execution_count": 137,
   "metadata": {},
   "outputs": [],
   "source": [
    "df3_clean = df3_clean.fillna(value=np.nan)"
   ]
  },
  {
   "cell_type": "code",
   "execution_count": 138,
   "metadata": {},
   "outputs": [],
   "source": [
    "df4_clean = df4_clean.fillna(value=np.nan)"
   ]
  },
  {
   "cell_type": "code",
   "execution_count": 139,
   "metadata": {},
   "outputs": [],
   "source": [
    "df_clean = df_clean.replace('None', np.NaN)\n",
    "df2_clean = df2_clean.replace('None' ,np.NaN)\n",
    "df3_clean = df3_clean.replace('None' , np.NaN)\n",
    "df4_clean = df4_clean.replace('None' , np.NaN)"
   ]
  },
  {
   "cell_type": "code",
   "execution_count": 140,
   "metadata": {},
   "outputs": [
    {
     "data": {
      "text/html": [
       "<div>\n",
       "<style scoped>\n",
       "    .dataframe tbody tr th:only-of-type {\n",
       "        vertical-align: middle;\n",
       "    }\n",
       "\n",
       "    .dataframe tbody tr th {\n",
       "        vertical-align: top;\n",
       "    }\n",
       "\n",
       "    .dataframe thead th {\n",
       "        text-align: right;\n",
       "    }\n",
       "</style>\n",
       "<table border=\"1\" class=\"dataframe\">\n",
       "  <thead>\n",
       "    <tr style=\"text-align: right;\">\n",
       "      <th></th>\n",
       "      <th>Title</th>\n",
       "      <th>Beds</th>\n",
       "      <th>Host</th>\n",
       "      <th>Type</th>\n",
       "      <th>Location</th>\n",
       "      <th>Current Price</th>\n",
       "      <th>Original Price</th>\n",
       "      <th>Rating</th>\n",
       "      <th>No.of reviews</th>\n",
       "    </tr>\n",
       "  </thead>\n",
       "  <tbody>\n",
       "    <tr>\n",
       "      <th>0</th>\n",
       "      <td>David Emanuel Suite, Grade 11* Gileston M</td>\n",
       "      <td>1</td>\n",
       "      <td>NaN</td>\n",
       "      <td>NaN</td>\n",
       "      <td>NaN</td>\n",
       "      <td>623</td>\n",
       "      <td>NaN</td>\n",
       "      <td>NaN</td>\n",
       "      <td>NaN</td>\n",
       "    </tr>\n",
       "    <tr>\n",
       "      <th>1</th>\n",
       "      <td>Berney - converted railway carriag</td>\n",
       "      <td>2</td>\n",
       "      <td>NaN</td>\n",
       "      <td>Train</td>\n",
       "      <td>Trowse Newton</td>\n",
       "      <td>179</td>\n",
       "      <td>NaN</td>\n",
       "      <td>New</td>\n",
       "      <td>NaN</td>\n",
       "    </tr>\n",
       "    <tr>\n",
       "      <th>2</th>\n",
       "      <td>Superking Room- Proper B&amp;amp;B - Pool- No Book...</td>\n",
       "      <td>1</td>\n",
       "      <td>Superhost</td>\n",
       "      <td>Private room</td>\n",
       "      <td>Little Whelnetham, Bury St Edmunds</td>\n",
       "      <td>199</td>\n",
       "      <td>NaN</td>\n",
       "      <td>5.0</td>\n",
       "      <td>39</td>\n",
       "    </tr>\n",
       "    <tr>\n",
       "      <th>3</th>\n",
       "      <td>Kidwelly Farmhouse B&amp;amp;B -The Lof</td>\n",
       "      <td>2</td>\n",
       "      <td>Superhost</td>\n",
       "      <td>Private room</td>\n",
       "      <td>Kidwelly</td>\n",
       "      <td>115</td>\n",
       "      <td>NaN</td>\n",
       "      <td>5.0</td>\n",
       "      <td>23</td>\n",
       "    </tr>\n",
       "    <tr>\n",
       "      <th>4</th>\n",
       "      <td>The Lake  Lodge (Windermere)</td>\n",
       "      <td>4</td>\n",
       "      <td>Superhost</td>\n",
       "      <td>Home</td>\n",
       "      <td>Cumbria</td>\n",
       "      <td>670</td>\n",
       "      <td>NaN</td>\n",
       "      <td>4.93</td>\n",
       "      <td>164</td>\n",
       "    </tr>\n",
       "    <tr>\n",
       "      <th>...</th>\n",
       "      <td>...</td>\n",
       "      <td>...</td>\n",
       "      <td>...</td>\n",
       "      <td>...</td>\n",
       "      <td>...</td>\n",
       "      <td>...</td>\n",
       "      <td>...</td>\n",
       "      <td>...</td>\n",
       "      <td>...</td>\n",
       "    </tr>\n",
       "    <tr>\n",
       "      <th>295</th>\n",
       "      <td>Cosy 1 bedroom Shepherd's hut with indoor f</td>\n",
       "      <td>3</td>\n",
       "      <td>NaN</td>\n",
       "      <td>Shepherd’s hut</td>\n",
       "      <td>Llandegla</td>\n",
       "      <td>138</td>\n",
       "      <td>NaN</td>\n",
       "      <td>4.72</td>\n",
       "      <td>18</td>\n",
       "    </tr>\n",
       "    <tr>\n",
       "      <th>296</th>\n",
       "      <td>Apartment with stunning views across Fistral B...</td>\n",
       "      <td>4</td>\n",
       "      <td>Superhost</td>\n",
       "      <td>Apartment</td>\n",
       "      <td>Newquay</td>\n",
       "      <td>168</td>\n",
       "      <td>NaN</td>\n",
       "      <td>4.99</td>\n",
       "      <td>74</td>\n",
       "    </tr>\n",
       "    <tr>\n",
       "      <th>297</th>\n",
       "      <td>1 Craiglinnhe Court...sleeps 2-4 guests.</td>\n",
       "      <td>3</td>\n",
       "      <td>Rare fin</td>\n",
       "      <td>Home</td>\n",
       "      <td>Highland Council</td>\n",
       "      <td>179</td>\n",
       "      <td>NaN</td>\n",
       "      <td>4.97</td>\n",
       "      <td>220</td>\n",
       "    </tr>\n",
       "    <tr>\n",
       "      <th>298</th>\n",
       "      <td>Glamping Under Stars Shepherd's Hut -</td>\n",
       "      <td>1</td>\n",
       "      <td>NaN</td>\n",
       "      <td>Shepherd’s hut</td>\n",
       "      <td>Rhosesmor</td>\n",
       "      <td>132</td>\n",
       "      <td>NaN</td>\n",
       "      <td>4.98</td>\n",
       "      <td>127</td>\n",
       "    </tr>\n",
       "    <tr>\n",
       "      <th>299</th>\n",
       "      <td>Pipers Pool | Unrivalled Sea Views | 3 Bedroom...</td>\n",
       "      <td>4</td>\n",
       "      <td>Rare fin</td>\n",
       "      <td>Home</td>\n",
       "      <td>Mortehoe</td>\n",
       "      <td>500</td>\n",
       "      <td>NaN</td>\n",
       "      <td>5.0</td>\n",
       "      <td>5</td>\n",
       "    </tr>\n",
       "  </tbody>\n",
       "</table>\n",
       "<p>292 rows × 9 columns</p>\n",
       "</div>"
      ],
      "text/plain": [
       "                                                 Title Beds       Host  \\\n",
       "0            David Emanuel Suite, Grade 11* Gileston M    1        NaN   \n",
       "1                   Berney - converted railway carriag    2        NaN   \n",
       "2    Superking Room- Proper B&amp;B - Pool- No Book...    1  Superhost   \n",
       "3                  Kidwelly Farmhouse B&amp;B -The Lof    2  Superhost   \n",
       "4                         The Lake  Lodge (Windermere)    4  Superhost   \n",
       "..                                                 ...  ...        ...   \n",
       "295        Cosy 1 bedroom Shepherd's hut with indoor f    3        NaN   \n",
       "296  Apartment with stunning views across Fistral B...    4  Superhost   \n",
       "297           1 Craiglinnhe Court...sleeps 2-4 guests.    3   Rare fin   \n",
       "298              Glamping Under Stars Shepherd's Hut -    1        NaN   \n",
       "299  Pipers Pool | Unrivalled Sea Views | 3 Bedroom...    4   Rare fin   \n",
       "\n",
       "               Type                             Location Current Price  \\\n",
       "0               NaN                                  NaN           623   \n",
       "1             Train                        Trowse Newton           179   \n",
       "2      Private room   Little Whelnetham, Bury St Edmunds           199   \n",
       "3      Private room                             Kidwelly           115   \n",
       "4              Home                              Cumbria           670   \n",
       "..              ...                                  ...           ...   \n",
       "295  Shepherd’s hut                            Llandegla           138   \n",
       "296       Apartment                              Newquay           168   \n",
       "297            Home                     Highland Council           179   \n",
       "298  Shepherd’s hut                            Rhosesmor           132   \n",
       "299            Home                             Mortehoe           500   \n",
       "\n",
       "    Original Price Rating No.of reviews  \n",
       "0              NaN    NaN           NaN  \n",
       "1              NaN    New           NaN  \n",
       "2              NaN    5.0            39  \n",
       "3              NaN    5.0            23  \n",
       "4              NaN   4.93           164  \n",
       "..             ...    ...           ...  \n",
       "295            NaN   4.72            18  \n",
       "296            NaN   4.99            74  \n",
       "297            NaN   4.97           220  \n",
       "298            NaN   4.98           127  \n",
       "299            NaN    5.0             5  \n",
       "\n",
       "[292 rows x 9 columns]"
      ]
     },
     "execution_count": 140,
     "metadata": {},
     "output_type": "execute_result"
    }
   ],
   "source": [
    "#convert the blank spaces to nan using Numpy\n",
    "df_clean.replace(r'^\\s*$', np.nan, regex=True)"
   ]
  },
  {
   "cell_type": "code",
   "execution_count": 141,
   "metadata": {},
   "outputs": [
    {
     "data": {
      "text/html": [
       "<div>\n",
       "<style scoped>\n",
       "    .dataframe tbody tr th:only-of-type {\n",
       "        vertical-align: middle;\n",
       "    }\n",
       "\n",
       "    .dataframe tbody tr th {\n",
       "        vertical-align: top;\n",
       "    }\n",
       "\n",
       "    .dataframe thead th {\n",
       "        text-align: right;\n",
       "    }\n",
       "</style>\n",
       "<table border=\"1\" class=\"dataframe\">\n",
       "  <thead>\n",
       "    <tr style=\"text-align: right;\">\n",
       "      <th></th>\n",
       "      <th>Title</th>\n",
       "      <th>Beds</th>\n",
       "      <th>Host</th>\n",
       "      <th>Type</th>\n",
       "      <th>Location</th>\n",
       "      <th>Current Price</th>\n",
       "      <th>Original Price</th>\n",
       "      <th>Rating</th>\n",
       "      <th>No.of reviews</th>\n",
       "    </tr>\n",
       "  </thead>\n",
       "  <tbody>\n",
       "    <tr>\n",
       "      <th>0</th>\n",
       "      <td>David Emanuel Suite, Grade 11* Gileston M</td>\n",
       "      <td>1</td>\n",
       "      <td>NaN</td>\n",
       "      <td>NaN</td>\n",
       "      <td>NaN</td>\n",
       "      <td>839</td>\n",
       "      <td>NaN</td>\n",
       "      <td>NaN</td>\n",
       "      <td>NaN</td>\n",
       "    </tr>\n",
       "    <tr>\n",
       "      <th>1</th>\n",
       "      <td>NEW Luxury Romantic Cottage - Idyllic Rural Bliss</td>\n",
       "      <td>2</td>\n",
       "      <td>Rare fin</td>\n",
       "      <td>NaN</td>\n",
       "      <td>NaN</td>\n",
       "      <td>249</td>\n",
       "      <td>NaN</td>\n",
       "      <td>4.98</td>\n",
       "      <td>172</td>\n",
       "    </tr>\n",
       "    <tr>\n",
       "      <th>2</th>\n",
       "      <td>Mirts Mansion - Little Country Houses SS</td>\n",
       "      <td>1</td>\n",
       "      <td>Rare fin</td>\n",
       "      <td>Tiny home</td>\n",
       "      <td>Mickleton</td>\n",
       "      <td>208</td>\n",
       "      <td>NaN</td>\n",
       "      <td>4.87</td>\n",
       "      <td>126</td>\n",
       "    </tr>\n",
       "    <tr>\n",
       "      <th>3</th>\n",
       "      <td>The Croft Chalet Pods - pod 2, Loch K</td>\n",
       "      <td>1</td>\n",
       "      <td>Superhost</td>\n",
       "      <td>Tiny home</td>\n",
       "      <td>Idrigil</td>\n",
       "      <td>151</td>\n",
       "      <td>NaN</td>\n",
       "      <td>4.96</td>\n",
       "      <td>94</td>\n",
       "    </tr>\n",
       "    <tr>\n",
       "      <th>4</th>\n",
       "      <td>Small bed bedroom in a cosy Victorian fl</td>\n",
       "      <td>1</td>\n",
       "      <td>Rare fin</td>\n",
       "      <td>Private room</td>\n",
       "      <td>London</td>\n",
       "      <td>80</td>\n",
       "      <td>NaN</td>\n",
       "      <td>4.95</td>\n",
       "      <td>20</td>\n",
       "    </tr>\n",
       "    <tr>\n",
       "      <th>...</th>\n",
       "      <td>...</td>\n",
       "      <td>...</td>\n",
       "      <td>...</td>\n",
       "      <td>...</td>\n",
       "      <td>...</td>\n",
       "      <td>...</td>\n",
       "      <td>...</td>\n",
       "      <td>...</td>\n",
       "      <td>...</td>\n",
       "    </tr>\n",
       "    <tr>\n",
       "      <th>295</th>\n",
       "      <td>Hafod Station (UK35030)</td>\n",
       "      <td>2</td>\n",
       "      <td>NaN</td>\n",
       "      <td>Home</td>\n",
       "      <td>Kent</td>\n",
       "      <td>226</td>\n",
       "      <td>353</td>\n",
       "      <td>4.86</td>\n",
       "      <td>7</td>\n",
       "    </tr>\n",
       "    <tr>\n",
       "      <th>296</th>\n",
       "      <td>Stables - Uninterrupted Sea Views, Sleeps 8, L...</td>\n",
       "      <td>6</td>\n",
       "      <td>Rare fin</td>\n",
       "      <td>Home</td>\n",
       "      <td>Croyde</td>\n",
       "      <td>478</td>\n",
       "      <td>575</td>\n",
       "      <td>4.89</td>\n",
       "      <td>9</td>\n",
       "    </tr>\n",
       "    <tr>\n",
       "      <th>297</th>\n",
       "      <td>Carreg Gleision (UK33739)</td>\n",
       "      <td>2</td>\n",
       "      <td>NaN</td>\n",
       "      <td>Home</td>\n",
       "      <td>Mano</td>\n",
       "      <td>179</td>\n",
       "      <td>NaN</td>\n",
       "      <td>NaN</td>\n",
       "      <td>NaN</td>\n",
       "    </tr>\n",
       "    <tr>\n",
       "      <th>298</th>\n",
       "      <td>Old Belfield (CC128241)</td>\n",
       "      <td>3</td>\n",
       "      <td>NaN</td>\n",
       "      <td>Home</td>\n",
       "      <td>Bowness on Windermere</td>\n",
       "      <td>221</td>\n",
       "      <td>253</td>\n",
       "      <td>4.27</td>\n",
       "      <td>15</td>\n",
       "    </tr>\n",
       "    <tr>\n",
       "      <th>299</th>\n",
       "      <td>The Cobbles (UK37920)</td>\n",
       "      <td>2</td>\n",
       "      <td>Rare fin</td>\n",
       "      <td>Home</td>\n",
       "      <td>North Yorkshire</td>\n",
       "      <td>206</td>\n",
       "      <td>NaN</td>\n",
       "      <td>4.83</td>\n",
       "      <td>6</td>\n",
       "    </tr>\n",
       "  </tbody>\n",
       "</table>\n",
       "<p>287 rows × 9 columns</p>\n",
       "</div>"
      ],
      "text/plain": [
       "                                                 Title Beds       Host  \\\n",
       "0            David Emanuel Suite, Grade 11* Gileston M    1        NaN   \n",
       "1    NEW Luxury Romantic Cottage - Idyllic Rural Bliss    2   Rare fin   \n",
       "2             Mirts Mansion - Little Country Houses SS    1   Rare fin   \n",
       "3                The Croft Chalet Pods - pod 2, Loch K    1  Superhost   \n",
       "4             Small bed bedroom in a cosy Victorian fl    1   Rare fin   \n",
       "..                                                 ...  ...        ...   \n",
       "295                            Hafod Station (UK35030)    2        NaN   \n",
       "296  Stables - Uninterrupted Sea Views, Sleeps 8, L...    6   Rare fin   \n",
       "297                          Carreg Gleision (UK33739)    2        NaN   \n",
       "298                            Old Belfield (CC128241)    3        NaN   \n",
       "299                              The Cobbles (UK37920)    2   Rare fin   \n",
       "\n",
       "             Type               Location Current Price Original Price Rating  \\\n",
       "0             NaN                    NaN           839            NaN    NaN   \n",
       "1             NaN                    NaN           249            NaN   4.98   \n",
       "2       Tiny home              Mickleton           208            NaN   4.87   \n",
       "3       Tiny home                Idrigil           151            NaN   4.96   \n",
       "4    Private room                 London            80            NaN   4.95   \n",
       "..            ...                    ...           ...            ...    ...   \n",
       "295          Home                   Kent           226            353   4.86   \n",
       "296          Home                 Croyde           478            575   4.89   \n",
       "297          Home                   Mano           179            NaN    NaN   \n",
       "298          Home  Bowness on Windermere           221            253   4.27   \n",
       "299          Home        North Yorkshire           206            NaN   4.83   \n",
       "\n",
       "    No.of reviews  \n",
       "0             NaN  \n",
       "1             172  \n",
       "2             126  \n",
       "3              94  \n",
       "4              20  \n",
       "..            ...  \n",
       "295             7  \n",
       "296             9  \n",
       "297           NaN  \n",
       "298            15  \n",
       "299             6  \n",
       "\n",
       "[287 rows x 9 columns]"
      ]
     },
     "execution_count": 141,
     "metadata": {},
     "output_type": "execute_result"
    }
   ],
   "source": [
    "df2_clean.replace(r'^\\s*$', np.nan, regex=True)"
   ]
  },
  {
   "cell_type": "code",
   "execution_count": 142,
   "metadata": {},
   "outputs": [
    {
     "data": {
      "text/html": [
       "<div>\n",
       "<style scoped>\n",
       "    .dataframe tbody tr th:only-of-type {\n",
       "        vertical-align: middle;\n",
       "    }\n",
       "\n",
       "    .dataframe tbody tr th {\n",
       "        vertical-align: top;\n",
       "    }\n",
       "\n",
       "    .dataframe thead th {\n",
       "        text-align: right;\n",
       "    }\n",
       "</style>\n",
       "<table border=\"1\" class=\"dataframe\">\n",
       "  <thead>\n",
       "    <tr style=\"text-align: right;\">\n",
       "      <th></th>\n",
       "      <th>Title</th>\n",
       "      <th>Beds</th>\n",
       "      <th>Host</th>\n",
       "      <th>Type</th>\n",
       "      <th>Location</th>\n",
       "      <th>Current Price</th>\n",
       "      <th>Original Price</th>\n",
       "      <th>Rating</th>\n",
       "      <th>No.of reviews</th>\n",
       "    </tr>\n",
       "  </thead>\n",
       "  <tbody>\n",
       "    <tr>\n",
       "      <th>0</th>\n",
       "      <td>Sleeps 10 | Beach Access | Tiki Bar | Dog Frie...</td>\n",
       "      <td>1</td>\n",
       "      <td>NaN</td>\n",
       "      <td>Home</td>\n",
       "      <td>Bolivar Peninsula</td>\n",
       "      <td>277</td>\n",
       "      <td>NaN</td>\n",
       "      <td>New</td>\n",
       "      <td>NaN</td>\n",
       "    </tr>\n",
       "    <tr>\n",
       "      <th>1</th>\n",
       "      <td>Iconic Glass Mansion - Huge Views - Best Loc</td>\n",
       "      <td>1</td>\n",
       "      <td>Superhost</td>\n",
       "      <td>Home</td>\n",
       "      <td>Osage Beach</td>\n",
       "      <td>485</td>\n",
       "      <td>901</td>\n",
       "      <td>4.98</td>\n",
       "      <td>50</td>\n",
       "    </tr>\n",
       "    <tr>\n",
       "      <th>2</th>\n",
       "      <td>The ATL Treehouse with hot tub/ heated spac</td>\n",
       "      <td>1</td>\n",
       "      <td>Superhost</td>\n",
       "      <td>Treehouse</td>\n",
       "      <td>East Point</td>\n",
       "      <td>294</td>\n",
       "      <td>NaN</td>\n",
       "      <td>4.79</td>\n",
       "      <td>403</td>\n",
       "    </tr>\n",
       "    <tr>\n",
       "      <th>3</th>\n",
       "      <td>❤️ Calico Cabin Mtn Views! Hot tub, Firepit, p...</td>\n",
       "      <td>3</td>\n",
       "      <td>Superhost</td>\n",
       "      <td>Cabin</td>\n",
       "      <td>Blue Ridge</td>\n",
       "      <td>209</td>\n",
       "      <td>435</td>\n",
       "      <td>4.95</td>\n",
       "      <td>175</td>\n",
       "    </tr>\n",
       "    <tr>\n",
       "      <th>4</th>\n",
       "      <td>I Bar Ranch  One of a kind Off Grid Cab</td>\n",
       "      <td>1</td>\n",
       "      <td>Superhost</td>\n",
       "      <td>Cabin</td>\n",
       "      <td>Challis</td>\n",
       "      <td>173</td>\n",
       "      <td>NaN</td>\n",
       "      <td>4.99</td>\n",
       "      <td>212</td>\n",
       "    </tr>\n",
       "    <tr>\n",
       "      <th>...</th>\n",
       "      <td>...</td>\n",
       "      <td>...</td>\n",
       "      <td>...</td>\n",
       "      <td>...</td>\n",
       "      <td>...</td>\n",
       "      <td>...</td>\n",
       "      <td>...</td>\n",
       "      <td>...</td>\n",
       "      <td>...</td>\n",
       "    </tr>\n",
       "    <tr>\n",
       "      <th>291</th>\n",
       "      <td>Great Views | Desert Oasis | Pet-Friendly| Hot...</td>\n",
       "      <td>4</td>\n",
       "      <td>Superhost</td>\n",
       "      <td>NaN</td>\n",
       "      <td>NaN</td>\n",
       "      <td>196</td>\n",
       "      <td>290</td>\n",
       "      <td>4.85</td>\n",
       "      <td>88</td>\n",
       "    </tr>\n",
       "    <tr>\n",
       "      <th>292</th>\n",
       "      <td>Lovely Bear Cabin on the White Riv</td>\n",
       "      <td>4</td>\n",
       "      <td>Superhost</td>\n",
       "      <td>Cabin</td>\n",
       "      <td>Mountain View</td>\n",
       "      <td>222</td>\n",
       "      <td>NaN</td>\n",
       "      <td>4.96</td>\n",
       "      <td>26</td>\n",
       "    </tr>\n",
       "    <tr>\n",
       "      <th>293</th>\n",
       "      <td>Glamping Riverfront w Private Pavilion WiFi sh...</td>\n",
       "      <td>4</td>\n",
       "      <td>Superhost</td>\n",
       "      <td>NaN</td>\n",
       "      <td>NaN</td>\n",
       "      <td>234</td>\n",
       "      <td>NaN</td>\n",
       "      <td>4.89</td>\n",
       "      <td>47</td>\n",
       "    </tr>\n",
       "    <tr>\n",
       "      <th>297</th>\n",
       "      <td>CASA DE SUNSET-JTNP -The Ultimate Desert Getaway</td>\n",
       "      <td>4</td>\n",
       "      <td>Rare fin</td>\n",
       "      <td>Home</td>\n",
       "      <td>Twentynine Palms</td>\n",
       "      <td>171</td>\n",
       "      <td>206</td>\n",
       "      <td>4.99</td>\n",
       "      <td>113</td>\n",
       "    </tr>\n",
       "    <tr>\n",
       "      <th>298</th>\n",
       "      <td>Book your Winter Wonderland Getaway Today!</td>\n",
       "      <td>3</td>\n",
       "      <td>Superhost</td>\n",
       "      <td>Cabin</td>\n",
       "      <td>Holton</td>\n",
       "      <td>178</td>\n",
       "      <td>NaN</td>\n",
       "      <td>4.87</td>\n",
       "      <td>31</td>\n",
       "    </tr>\n",
       "  </tbody>\n",
       "</table>\n",
       "<p>248 rows × 9 columns</p>\n",
       "</div>"
      ],
      "text/plain": [
       "                                                 Title Beds       Host  \\\n",
       "0    Sleeps 10 | Beach Access | Tiki Bar | Dog Frie...    1        NaN   \n",
       "1         Iconic Glass Mansion - Huge Views - Best Loc    1  Superhost   \n",
       "2          The ATL Treehouse with hot tub/ heated spac    1  Superhost   \n",
       "3    ❤️ Calico Cabin Mtn Views! Hot tub, Firepit, p...    3  Superhost   \n",
       "4              I Bar Ranch  One of a kind Off Grid Cab    1  Superhost   \n",
       "..                                                 ...  ...        ...   \n",
       "291  Great Views | Desert Oasis | Pet-Friendly| Hot...    4  Superhost   \n",
       "292                 Lovely Bear Cabin on the White Riv    4  Superhost   \n",
       "293  Glamping Riverfront w Private Pavilion WiFi sh...    4  Superhost   \n",
       "297   CASA DE SUNSET-JTNP -The Ultimate Desert Getaway    4   Rare fin   \n",
       "298         Book your Winter Wonderland Getaway Today!    3  Superhost   \n",
       "\n",
       "          Type           Location Current Price Original Price Rating  \\\n",
       "0         Home  Bolivar Peninsula           277            NaN    New   \n",
       "1         Home        Osage Beach           485            901   4.98   \n",
       "2    Treehouse         East Point           294            NaN   4.79   \n",
       "3        Cabin         Blue Ridge           209            435   4.95   \n",
       "4        Cabin            Challis           173            NaN   4.99   \n",
       "..         ...                ...           ...            ...    ...   \n",
       "291        NaN                NaN           196            290   4.85   \n",
       "292      Cabin      Mountain View           222            NaN   4.96   \n",
       "293        NaN                NaN           234            NaN   4.89   \n",
       "297       Home   Twentynine Palms           171            206   4.99   \n",
       "298      Cabin             Holton           178            NaN   4.87   \n",
       "\n",
       "    No.of reviews  \n",
       "0             NaN  \n",
       "1              50  \n",
       "2             403  \n",
       "3             175  \n",
       "4             212  \n",
       "..            ...  \n",
       "291            88  \n",
       "292            26  \n",
       "293            47  \n",
       "297           113  \n",
       "298            31  \n",
       "\n",
       "[248 rows x 9 columns]"
      ]
     },
     "execution_count": 142,
     "metadata": {},
     "output_type": "execute_result"
    }
   ],
   "source": [
    "df3_clean.replace(r'^\\s*$', np.nan, regex=True)"
   ]
  },
  {
   "cell_type": "code",
   "execution_count": 143,
   "metadata": {},
   "outputs": [
    {
     "data": {
      "text/html": [
       "<div>\n",
       "<style scoped>\n",
       "    .dataframe tbody tr th:only-of-type {\n",
       "        vertical-align: middle;\n",
       "    }\n",
       "\n",
       "    .dataframe tbody tr th {\n",
       "        vertical-align: top;\n",
       "    }\n",
       "\n",
       "    .dataframe thead th {\n",
       "        text-align: right;\n",
       "    }\n",
       "</style>\n",
       "<table border=\"1\" class=\"dataframe\">\n",
       "  <thead>\n",
       "    <tr style=\"text-align: right;\">\n",
       "      <th></th>\n",
       "      <th>Title</th>\n",
       "      <th>Beds</th>\n",
       "      <th>Host</th>\n",
       "      <th>Type</th>\n",
       "      <th>Location</th>\n",
       "      <th>Current Price</th>\n",
       "      <th>Original Price</th>\n",
       "      <th>Rating</th>\n",
       "      <th>No.of reviews</th>\n",
       "    </tr>\n",
       "  </thead>\n",
       "  <tbody>\n",
       "    <tr>\n",
       "      <th>0</th>\n",
       "      <td>Sleeps 10 | Beach Access | Tiki Bar | Dog Frie...</td>\n",
       "      <td>1</td>\n",
       "      <td>Rare fin</td>\n",
       "      <td>Place to stay</td>\n",
       "      <td>Hildale</td>\n",
       "      <td>531</td>\n",
       "      <td>853</td>\n",
       "      <td>4.87</td>\n",
       "      <td>168</td>\n",
       "    </tr>\n",
       "    <tr>\n",
       "      <th>1</th>\n",
       "      <td>Iconic Glass Mansion - Huge Views - Best Loc</td>\n",
       "      <td>3</td>\n",
       "      <td>Rare fin</td>\n",
       "      <td>Cottage</td>\n",
       "      <td>Dauphin Islan</td>\n",
       "      <td>578</td>\n",
       "      <td>NaN</td>\n",
       "      <td>4.57</td>\n",
       "      <td>28</td>\n",
       "    </tr>\n",
       "    <tr>\n",
       "      <th>2</th>\n",
       "      <td>The ATL Treehouse with hot tub/ heated spac</td>\n",
       "      <td>1</td>\n",
       "      <td>Superhost</td>\n",
       "      <td>Treehouse</td>\n",
       "      <td>East Point</td>\n",
       "      <td>427</td>\n",
       "      <td>NaN</td>\n",
       "      <td>4.79</td>\n",
       "      <td>403</td>\n",
       "    </tr>\n",
       "    <tr>\n",
       "      <th>3</th>\n",
       "      <td>❤️ Calico Cabin Mtn Views! Hot tub, Firepit, p...</td>\n",
       "      <td>1</td>\n",
       "      <td>Plus</td>\n",
       "      <td>Treehouse</td>\n",
       "      <td>Asheville</td>\n",
       "      <td>447</td>\n",
       "      <td>NaN</td>\n",
       "      <td>4.98</td>\n",
       "      <td>591</td>\n",
       "    </tr>\n",
       "    <tr>\n",
       "      <th>4</th>\n",
       "      <td>I Bar Ranch  One of a kind Off Grid Cab</td>\n",
       "      <td>2</td>\n",
       "      <td>Superhost</td>\n",
       "      <td>Cabin</td>\n",
       "      <td>Indian River</td>\n",
       "      <td>668</td>\n",
       "      <td>848</td>\n",
       "      <td>4.96</td>\n",
       "      <td>249</td>\n",
       "    </tr>\n",
       "    <tr>\n",
       "      <th>...</th>\n",
       "      <td>...</td>\n",
       "      <td>...</td>\n",
       "      <td>...</td>\n",
       "      <td>...</td>\n",
       "      <td>...</td>\n",
       "      <td>...</td>\n",
       "      <td>...</td>\n",
       "      <td>...</td>\n",
       "      <td>...</td>\n",
       "    </tr>\n",
       "    <tr>\n",
       "      <th>295</th>\n",
       "      <td>NEW! Sunny Forest Hideaway w/ Hot Tub &amp;amp; Ga...</td>\n",
       "      <td>2</td>\n",
       "      <td>Superhost</td>\n",
       "      <td>Tiny home</td>\n",
       "      <td>Liberty Hill</td>\n",
       "      <td>157</td>\n",
       "      <td>NaN</td>\n",
       "      <td>4.93</td>\n",
       "      <td>76</td>\n",
       "    </tr>\n",
       "    <tr>\n",
       "      <th>296</th>\n",
       "      <td>Butterfly Cottage near COTA F1, Lockhart &amp;amp;...</td>\n",
       "      <td>1</td>\n",
       "      <td>Superhost</td>\n",
       "      <td>Cottage</td>\n",
       "      <td>Whittier</td>\n",
       "      <td>164</td>\n",
       "      <td>NaN</td>\n",
       "      <td>4.98</td>\n",
       "      <td>182</td>\n",
       "    </tr>\n",
       "    <tr>\n",
       "      <th>297</th>\n",
       "      <td>CASA DE SUNSET-JTNP -The Ultimate Desert Getaway</td>\n",
       "      <td>2</td>\n",
       "      <td>NaN</td>\n",
       "      <td>Home</td>\n",
       "      <td>Fountain Hills</td>\n",
       "      <td>481</td>\n",
       "      <td>588</td>\n",
       "      <td>4.94</td>\n",
       "      <td>54</td>\n",
       "    </tr>\n",
       "    <tr>\n",
       "      <th>298</th>\n",
       "      <td>Book your Winter Wonderland Getaway Today!</td>\n",
       "      <td>1</td>\n",
       "      <td>Superhost</td>\n",
       "      <td>Camper/RV</td>\n",
       "      <td>Savannah</td>\n",
       "      <td>102</td>\n",
       "      <td>112</td>\n",
       "      <td>4.79</td>\n",
       "      <td>237</td>\n",
       "    </tr>\n",
       "    <tr>\n",
       "      <th>299</th>\n",
       "      <td>SA Beach Suite #1 - Beachfront Apartment on Ca...</td>\n",
       "      <td>6</td>\n",
       "      <td>Superhost</td>\n",
       "      <td>Cabin</td>\n",
       "      <td>Sevierville</td>\n",
       "      <td>883</td>\n",
       "      <td>980</td>\n",
       "      <td>5.0</td>\n",
       "      <td>4</td>\n",
       "    </tr>\n",
       "  </tbody>\n",
       "</table>\n",
       "<p>300 rows × 9 columns</p>\n",
       "</div>"
      ],
      "text/plain": [
       "                                                 Title Beds       Host  \\\n",
       "0    Sleeps 10 | Beach Access | Tiki Bar | Dog Frie...    1   Rare fin   \n",
       "1         Iconic Glass Mansion - Huge Views - Best Loc    3   Rare fin   \n",
       "2          The ATL Treehouse with hot tub/ heated spac    1  Superhost   \n",
       "3    ❤️ Calico Cabin Mtn Views! Hot tub, Firepit, p...    1       Plus   \n",
       "4              I Bar Ranch  One of a kind Off Grid Cab    2  Superhost   \n",
       "..                                                 ...  ...        ...   \n",
       "295  NEW! Sunny Forest Hideaway w/ Hot Tub &amp; Ga...    2  Superhost   \n",
       "296  Butterfly Cottage near COTA F1, Lockhart &amp;...    1  Superhost   \n",
       "297   CASA DE SUNSET-JTNP -The Ultimate Desert Getaway    2        NaN   \n",
       "298         Book your Winter Wonderland Getaway Today!    1  Superhost   \n",
       "299  SA Beach Suite #1 - Beachfront Apartment on Ca...    6  Superhost   \n",
       "\n",
       "              Type        Location Current Price Original Price Rating  \\\n",
       "0    Place to stay         Hildale           531            853   4.87   \n",
       "1          Cottage   Dauphin Islan           578            NaN   4.57   \n",
       "2        Treehouse      East Point           427            NaN   4.79   \n",
       "3        Treehouse       Asheville           447            NaN   4.98   \n",
       "4            Cabin    Indian River           668            848   4.96   \n",
       "..             ...             ...           ...            ...    ...   \n",
       "295      Tiny home    Liberty Hill           157            NaN   4.93   \n",
       "296        Cottage        Whittier           164            NaN   4.98   \n",
       "297           Home  Fountain Hills           481            588   4.94   \n",
       "298      Camper/RV        Savannah           102            112   4.79   \n",
       "299          Cabin     Sevierville           883            980    5.0   \n",
       "\n",
       "    No.of reviews  \n",
       "0             168  \n",
       "1              28  \n",
       "2             403  \n",
       "3             591  \n",
       "4             249  \n",
       "..            ...  \n",
       "295            76  \n",
       "296           182  \n",
       "297            54  \n",
       "298           237  \n",
       "299             4  \n",
       "\n",
       "[300 rows x 9 columns]"
      ]
     },
     "execution_count": 143,
     "metadata": {},
     "output_type": "execute_result"
    }
   ],
   "source": [
    "df4_clean.replace(r'^\\s*$', np.nan, regex=True)"
   ]
  },
  {
   "cell_type": "markdown",
   "metadata": {},
   "source": [
    "### Test"
   ]
  },
  {
   "cell_type": "code",
   "execution_count": 144,
   "metadata": {},
   "outputs": [
    {
     "data": {
      "text/html": [
       "<div>\n",
       "<style scoped>\n",
       "    .dataframe tbody tr th:only-of-type {\n",
       "        vertical-align: middle;\n",
       "    }\n",
       "\n",
       "    .dataframe tbody tr th {\n",
       "        vertical-align: top;\n",
       "    }\n",
       "\n",
       "    .dataframe thead th {\n",
       "        text-align: right;\n",
       "    }\n",
       "</style>\n",
       "<table border=\"1\" class=\"dataframe\">\n",
       "  <thead>\n",
       "    <tr style=\"text-align: right;\">\n",
       "      <th></th>\n",
       "      <th>Title</th>\n",
       "      <th>Beds</th>\n",
       "      <th>Host</th>\n",
       "      <th>Type</th>\n",
       "      <th>Location</th>\n",
       "      <th>Current Price</th>\n",
       "      <th>Original Price</th>\n",
       "      <th>Rating</th>\n",
       "      <th>No.of reviews</th>\n",
       "    </tr>\n",
       "  </thead>\n",
       "  <tbody>\n",
       "    <tr>\n",
       "      <th>295</th>\n",
       "      <td>Cosy 1 bedroom Shepherd's hut with indoor f</td>\n",
       "      <td>3</td>\n",
       "      <td></td>\n",
       "      <td>Shepherd’s hut</td>\n",
       "      <td>Llandegla</td>\n",
       "      <td>138</td>\n",
       "      <td>NaN</td>\n",
       "      <td>4.72</td>\n",
       "      <td>18</td>\n",
       "    </tr>\n",
       "    <tr>\n",
       "      <th>155</th>\n",
       "      <td>Honeysuckle Pod - Bradley Hall Rural Escapes</td>\n",
       "      <td>1</td>\n",
       "      <td>Superhost</td>\n",
       "      <td>Tiny home</td>\n",
       "      <td>Whitchurch</td>\n",
       "      <td>151</td>\n",
       "      <td>NaN</td>\n",
       "      <td>5.0</td>\n",
       "      <td>21</td>\n",
       "    </tr>\n",
       "    <tr>\n",
       "      <th>119</th>\n",
       "      <td>The Strickland Arms - Lina's LogBy</td>\n",
       "      <td>6</td>\n",
       "      <td></td>\n",
       "      <td>Yurt</td>\n",
       "      <td>Penrith</td>\n",
       "      <td>133</td>\n",
       "      <td>NaN</td>\n",
       "      <td>4.89</td>\n",
       "      <td>97</td>\n",
       "    </tr>\n",
       "    <tr>\n",
       "      <th>140</th>\n",
       "      <td>Eco Pod 2</td>\n",
       "      <td>4</td>\n",
       "      <td></td>\n",
       "      <td>Tiny home</td>\n",
       "      <td>Glenmore</td>\n",
       "      <td>97</td>\n",
       "      <td>NaN</td>\n",
       "      <td>4.59</td>\n",
       "      <td>58</td>\n",
       "    </tr>\n",
       "    <tr>\n",
       "      <th>62</th>\n",
       "      <td>CaeManal - Manal</td>\n",
       "      <td>1</td>\n",
       "      <td>Superhost</td>\n",
       "      <td>Farm stay</td>\n",
       "      <td>Ceredigion</td>\n",
       "      <td>162</td>\n",
       "      <td>NaN</td>\n",
       "      <td>5.0</td>\n",
       "      <td>64</td>\n",
       "    </tr>\n",
       "  </tbody>\n",
       "</table>\n",
       "</div>"
      ],
      "text/plain": [
       "                                            Title Beds       Host  \\\n",
       "295   Cosy 1 bedroom Shepherd's hut with indoor f    3              \n",
       "155  Honeysuckle Pod - Bradley Hall Rural Escapes    1  Superhost   \n",
       "119            The Strickland Arms - Lina's LogBy    6              \n",
       "140                                     Eco Pod 2    4              \n",
       "62                               CaeManal - Manal    1  Superhost   \n",
       "\n",
       "               Type    Location Current Price Original Price Rating  \\\n",
       "295  Shepherd’s hut   Llandegla           138            NaN   4.72   \n",
       "155       Tiny home  Whitchurch           151            NaN    5.0   \n",
       "119            Yurt     Penrith           133            NaN   4.89   \n",
       "140       Tiny home    Glenmore            97            NaN   4.59   \n",
       "62        Farm stay  Ceredigion           162            NaN    5.0   \n",
       "\n",
       "    No.of reviews  \n",
       "295            18  \n",
       "155            21  \n",
       "119            97  \n",
       "140            58  \n",
       "62             64  "
      ]
     },
     "execution_count": 144,
     "metadata": {},
     "output_type": "execute_result"
    }
   ],
   "source": [
    "df_clean.sample(5)"
   ]
  },
  {
   "cell_type": "code",
   "execution_count": 145,
   "metadata": {},
   "outputs": [
    {
     "data": {
      "text/html": [
       "<div>\n",
       "<style scoped>\n",
       "    .dataframe tbody tr th:only-of-type {\n",
       "        vertical-align: middle;\n",
       "    }\n",
       "\n",
       "    .dataframe tbody tr th {\n",
       "        vertical-align: top;\n",
       "    }\n",
       "\n",
       "    .dataframe thead th {\n",
       "        text-align: right;\n",
       "    }\n",
       "</style>\n",
       "<table border=\"1\" class=\"dataframe\">\n",
       "  <thead>\n",
       "    <tr style=\"text-align: right;\">\n",
       "      <th></th>\n",
       "      <th>Title</th>\n",
       "      <th>Beds</th>\n",
       "      <th>Host</th>\n",
       "      <th>Type</th>\n",
       "      <th>Location</th>\n",
       "      <th>Current Price</th>\n",
       "      <th>Original Price</th>\n",
       "      <th>Rating</th>\n",
       "      <th>No.of reviews</th>\n",
       "    </tr>\n",
       "  </thead>\n",
       "  <tbody>\n",
       "    <tr>\n",
       "      <th>35</th>\n",
       "      <td>Hafod y Rhedwydd, an off-grid cottage in an SSSI</td>\n",
       "      <td>3</td>\n",
       "      <td>Superhost</td>\n",
       "      <td>Cottage</td>\n",
       "      <td>Gwyne</td>\n",
       "      <td>309</td>\n",
       "      <td>NaN</td>\n",
       "      <td>4.9</td>\n",
       "      <td>31</td>\n",
       "    </tr>\n",
       "    <tr>\n",
       "      <th>66</th>\n",
       "      <td>Vibrant Flat with Fantastic Views by the Royal...</td>\n",
       "      <td>2</td>\n",
       "      <td>Plus</td>\n",
       "      <td>Apartment</td>\n",
       "      <td>Edinburgh</td>\n",
       "      <td>546</td>\n",
       "      <td>NaN</td>\n",
       "      <td>4.8</td>\n",
       "      <td>165</td>\n",
       "    </tr>\n",
       "    <tr>\n",
       "      <th>37</th>\n",
       "      <td>Oak House Shepherds Hu</td>\n",
       "      <td>3</td>\n",
       "      <td>Superhost</td>\n",
       "      <td>Shepherd’s hut</td>\n",
       "      <td>Everton</td>\n",
       "      <td>271</td>\n",
       "      <td>NaN</td>\n",
       "      <td>4.95</td>\n",
       "      <td>149</td>\n",
       "    </tr>\n",
       "    <tr>\n",
       "      <th>76</th>\n",
       "      <td>Secluded tranquil woodland lodge with amazing ...</td>\n",
       "      <td>1</td>\n",
       "      <td>Superhost</td>\n",
       "      <td>Tiny home</td>\n",
       "      <td>Mortehoe</td>\n",
       "      <td>179</td>\n",
       "      <td>NaN</td>\n",
       "      <td>4.99</td>\n",
       "      <td>68</td>\n",
       "    </tr>\n",
       "    <tr>\n",
       "      <th>257</th>\n",
       "      <td>Ploughman's Retreat - Stunning Vintage Hu</td>\n",
       "      <td>1</td>\n",
       "      <td></td>\n",
       "      <td>Shepherd’s hut</td>\n",
       "      <td>South Alkham</td>\n",
       "      <td>225</td>\n",
       "      <td>NaN</td>\n",
       "      <td>5.0</td>\n",
       "      <td>9</td>\n",
       "    </tr>\n",
       "  </tbody>\n",
       "</table>\n",
       "</div>"
      ],
      "text/plain": [
       "                                                 Title Beds       Host  \\\n",
       "35    Hafod y Rhedwydd, an off-grid cottage in an SSSI    3  Superhost   \n",
       "66   Vibrant Flat with Fantastic Views by the Royal...    2       Plus   \n",
       "37                              Oak House Shepherds Hu    3  Superhost   \n",
       "76   Secluded tranquil woodland lodge with amazing ...    1  Superhost   \n",
       "257          Ploughman's Retreat - Stunning Vintage Hu    1              \n",
       "\n",
       "               Type      Location Current Price Original Price Rating  \\\n",
       "35          Cottage         Gwyne           309            NaN    4.9   \n",
       "66        Apartment     Edinburgh           546            NaN    4.8   \n",
       "37   Shepherd’s hut       Everton           271            NaN   4.95   \n",
       "76        Tiny home      Mortehoe           179            NaN   4.99   \n",
       "257  Shepherd’s hut  South Alkham           225            NaN    5.0   \n",
       "\n",
       "    No.of reviews  \n",
       "35             31  \n",
       "66            165  \n",
       "37            149  \n",
       "76             68  \n",
       "257             9  "
      ]
     },
     "execution_count": 145,
     "metadata": {},
     "output_type": "execute_result"
    }
   ],
   "source": [
    "df2_clean.sample(5)"
   ]
  },
  {
   "cell_type": "code",
   "execution_count": 146,
   "metadata": {},
   "outputs": [
    {
     "data": {
      "text/html": [
       "<div>\n",
       "<style scoped>\n",
       "    .dataframe tbody tr th:only-of-type {\n",
       "        vertical-align: middle;\n",
       "    }\n",
       "\n",
       "    .dataframe tbody tr th {\n",
       "        vertical-align: top;\n",
       "    }\n",
       "\n",
       "    .dataframe thead th {\n",
       "        text-align: right;\n",
       "    }\n",
       "</style>\n",
       "<table border=\"1\" class=\"dataframe\">\n",
       "  <thead>\n",
       "    <tr style=\"text-align: right;\">\n",
       "      <th></th>\n",
       "      <th>Title</th>\n",
       "      <th>Beds</th>\n",
       "      <th>Host</th>\n",
       "      <th>Type</th>\n",
       "      <th>Location</th>\n",
       "      <th>Current Price</th>\n",
       "      <th>Original Price</th>\n",
       "      <th>Rating</th>\n",
       "      <th>No.of reviews</th>\n",
       "    </tr>\n",
       "  </thead>\n",
       "  <tbody>\n",
       "    <tr>\n",
       "      <th>278</th>\n",
       "      <td>AFrame Featured in Dwell &amp;amp; Sunset mags 4mi...</td>\n",
       "      <td>4</td>\n",
       "      <td>Superhost</td>\n",
       "      <td>Cabin</td>\n",
       "      <td>Big Bear Lake</td>\n",
       "      <td>280</td>\n",
       "      <td>428</td>\n",
       "      <td>4.79</td>\n",
       "      <td>151</td>\n",
       "    </tr>\n",
       "    <tr>\n",
       "      <th>140</th>\n",
       "      <td>Double Down - Family MTB Friendly Lake Front Liv</td>\n",
       "      <td>8</td>\n",
       "      <td>Superhost</td>\n",
       "      <td>Home</td>\n",
       "      <td>Bella Vista</td>\n",
       "      <td>431</td>\n",
       "      <td>NaN</td>\n",
       "      <td>4.93</td>\n",
       "      <td>14</td>\n",
       "    </tr>\n",
       "    <tr>\n",
       "      <th>82</th>\n",
       "      <td>NEW~rate discount~ Private Country Retreat w/P...</td>\n",
       "      <td>7</td>\n",
       "      <td>Superhost</td>\n",
       "      <td>Home</td>\n",
       "      <td>Apopka</td>\n",
       "      <td>560</td>\n",
       "      <td>NaN</td>\n",
       "      <td>5.0</td>\n",
       "      <td>21</td>\n",
       "    </tr>\n",
       "    <tr>\n",
       "      <th>35</th>\n",
       "      <td>Surf City Heart! Island Center with Excellent ...</td>\n",
       "      <td>6</td>\n",
       "      <td>Superhost</td>\n",
       "      <td>Home</td>\n",
       "      <td>Surf City</td>\n",
       "      <td>770</td>\n",
       "      <td>885</td>\n",
       "      <td>5.0</td>\n",
       "      <td>59</td>\n",
       "    </tr>\n",
       "    <tr>\n",
       "      <th>236</th>\n",
       "      <td>Modern Cabins near Lake Austin w/ Cowboy Pool!</td>\n",
       "      <td>7</td>\n",
       "      <td>Superhost</td>\n",
       "      <td>Cabin</td>\n",
       "      <td>Austin</td>\n",
       "      <td>387</td>\n",
       "      <td>538</td>\n",
       "      <td>4.95</td>\n",
       "      <td>76</td>\n",
       "    </tr>\n",
       "  </tbody>\n",
       "</table>\n",
       "</div>"
      ],
      "text/plain": [
       "                                                 Title Beds       Host   Type  \\\n",
       "278  AFrame Featured in Dwell &amp; Sunset mags 4mi...    4  Superhost  Cabin   \n",
       "140   Double Down - Family MTB Friendly Lake Front Liv    8  Superhost   Home   \n",
       "82   NEW~rate discount~ Private Country Retreat w/P...    7  Superhost   Home   \n",
       "35   Surf City Heart! Island Center with Excellent ...    6  Superhost   Home   \n",
       "236     Modern Cabins near Lake Austin w/ Cowboy Pool!    7  Superhost  Cabin   \n",
       "\n",
       "          Location Current Price Original Price Rating No.of reviews  \n",
       "278  Big Bear Lake           280            428   4.79           151  \n",
       "140    Bella Vista           431            NaN   4.93            14  \n",
       "82          Apopka           560            NaN    5.0            21  \n",
       "35       Surf City           770            885    5.0            59  \n",
       "236         Austin           387            538   4.95            76  "
      ]
     },
     "execution_count": 146,
     "metadata": {},
     "output_type": "execute_result"
    }
   ],
   "source": [
    "df3_clean.sample(5)"
   ]
  },
  {
   "cell_type": "code",
   "execution_count": 147,
   "metadata": {},
   "outputs": [
    {
     "data": {
      "text/html": [
       "<div>\n",
       "<style scoped>\n",
       "    .dataframe tbody tr th:only-of-type {\n",
       "        vertical-align: middle;\n",
       "    }\n",
       "\n",
       "    .dataframe tbody tr th {\n",
       "        vertical-align: top;\n",
       "    }\n",
       "\n",
       "    .dataframe thead th {\n",
       "        text-align: right;\n",
       "    }\n",
       "</style>\n",
       "<table border=\"1\" class=\"dataframe\">\n",
       "  <thead>\n",
       "    <tr style=\"text-align: right;\">\n",
       "      <th></th>\n",
       "      <th>Title</th>\n",
       "      <th>Beds</th>\n",
       "      <th>Host</th>\n",
       "      <th>Type</th>\n",
       "      <th>Location</th>\n",
       "      <th>Current Price</th>\n",
       "      <th>Original Price</th>\n",
       "      <th>Rating</th>\n",
       "      <th>No.of reviews</th>\n",
       "    </tr>\n",
       "  </thead>\n",
       "  <tbody>\n",
       "    <tr>\n",
       "      <th>276</th>\n",
       "      <td>Joshua tree! Stargazing~Hot Tub~Firepit~ Hammocks</td>\n",
       "      <td>2</td>\n",
       "      <td>Superhost</td>\n",
       "      <td>Tiny home</td>\n",
       "      <td>Liberty Hill</td>\n",
       "      <td>157</td>\n",
       "      <td>NaN</td>\n",
       "      <td>4.93</td>\n",
       "      <td>76</td>\n",
       "    </tr>\n",
       "    <tr>\n",
       "      <th>195</th>\n",
       "      <td>Casa Mami Pioneertow</td>\n",
       "      <td>5</td>\n",
       "      <td>Superhost</td>\n",
       "      <td>Home</td>\n",
       "      <td>Scottsdale</td>\n",
       "      <td>724</td>\n",
       "      <td>NaN</td>\n",
       "      <td>5.0</td>\n",
       "      <td>7</td>\n",
       "    </tr>\n",
       "    <tr>\n",
       "      <th>94</th>\n",
       "      <td>Dome #2 at Smoky Mountains Glamping (Read Deta...</td>\n",
       "      <td>3</td>\n",
       "      <td></td>\n",
       "      <td>NaN</td>\n",
       "      <td>NaN</td>\n",
       "      <td>177</td>\n",
       "      <td>287</td>\n",
       "      <td>4.69</td>\n",
       "      <td>36</td>\n",
       "    </tr>\n",
       "    <tr>\n",
       "      <th>181</th>\n",
       "      <td>Private Hillside Cabin Near Broken Bow Lake in...</td>\n",
       "      <td>2</td>\n",
       "      <td>Rare fin</td>\n",
       "      <td>Cabin</td>\n",
       "      <td>Gatlinburg</td>\n",
       "      <td>801</td>\n",
       "      <td>NaN</td>\n",
       "      <td>4.92</td>\n",
       "      <td>464</td>\n",
       "    </tr>\n",
       "    <tr>\n",
       "      <th>116</th>\n",
       "      <td>Glamping Dome in Nature-Read Details First-4WD!</td>\n",
       "      <td>1</td>\n",
       "      <td></td>\n",
       "      <td>Home</td>\n",
       "      <td>Logan</td>\n",
       "      <td>787</td>\n",
       "      <td>NaN</td>\n",
       "      <td>4.78</td>\n",
       "      <td>23</td>\n",
       "    </tr>\n",
       "  </tbody>\n",
       "</table>\n",
       "</div>"
      ],
      "text/plain": [
       "                                                 Title Beds       Host  \\\n",
       "276  Joshua tree! Stargazing~Hot Tub~Firepit~ Hammocks    2  Superhost   \n",
       "195                               Casa Mami Pioneertow    5  Superhost   \n",
       "94   Dome #2 at Smoky Mountains Glamping (Read Deta...    3              \n",
       "181  Private Hillside Cabin Near Broken Bow Lake in...    2   Rare fin   \n",
       "116    Glamping Dome in Nature-Read Details First-4WD!    1              \n",
       "\n",
       "          Type      Location Current Price Original Price Rating No.of reviews  \n",
       "276  Tiny home  Liberty Hill           157            NaN   4.93            76  \n",
       "195       Home    Scottsdale           724            NaN    5.0             7  \n",
       "94         NaN           NaN           177            287   4.69            36  \n",
       "181      Cabin    Gatlinburg           801            NaN   4.92           464  \n",
       "116       Home         Logan           787            NaN   4.78            23  "
      ]
     },
     "execution_count": 147,
     "metadata": {},
     "output_type": "execute_result"
    }
   ],
   "source": [
    "df4_clean.sample(5)"
   ]
  },
  {
   "cell_type": "markdown",
   "metadata": {},
   "source": [
    "## Issue 8: Renaming columns"
   ]
  },
  {
   "cell_type": "markdown",
   "metadata": {},
   "source": [
    "### Define\n",
    "- Use the rename function to rename some of the columns to a more relatable name"
   ]
  },
  {
   "cell_type": "markdown",
   "metadata": {},
   "source": [
    "### Code"
   ]
  },
  {
   "cell_type": "code",
   "execution_count": 148,
   "metadata": {},
   "outputs": [],
   "source": [
    "#Use the rename function to rename some of the columns\n",
    "df_clean.rename(columns={\"No.of reviews\":\"Reviews\"}, inplace = True)"
   ]
  },
  {
   "cell_type": "code",
   "execution_count": 149,
   "metadata": {},
   "outputs": [],
   "source": [
    "df2_clean.rename(columns={\"No.of reviews\":\"Reviews\"}, inplace = True)"
   ]
  },
  {
   "cell_type": "code",
   "execution_count": 150,
   "metadata": {},
   "outputs": [],
   "source": [
    "df3_clean.rename(columns={\"No.of reviews\":\"Reviews\"}, inplace = True)"
   ]
  },
  {
   "cell_type": "code",
   "execution_count": 151,
   "metadata": {},
   "outputs": [],
   "source": [
    "df4_clean.rename(columns={\"No.of reviews\":\"Reviews\"}, inplace = True)"
   ]
  },
  {
   "cell_type": "markdown",
   "metadata": {},
   "source": [
    "### Test"
   ]
  },
  {
   "cell_type": "code",
   "execution_count": 152,
   "metadata": {},
   "outputs": [
    {
     "data": {
      "text/html": [
       "<div>\n",
       "<style scoped>\n",
       "    .dataframe tbody tr th:only-of-type {\n",
       "        vertical-align: middle;\n",
       "    }\n",
       "\n",
       "    .dataframe tbody tr th {\n",
       "        vertical-align: top;\n",
       "    }\n",
       "\n",
       "    .dataframe thead th {\n",
       "        text-align: right;\n",
       "    }\n",
       "</style>\n",
       "<table border=\"1\" class=\"dataframe\">\n",
       "  <thead>\n",
       "    <tr style=\"text-align: right;\">\n",
       "      <th></th>\n",
       "      <th>Title</th>\n",
       "      <th>Beds</th>\n",
       "      <th>Host</th>\n",
       "      <th>Type</th>\n",
       "      <th>Location</th>\n",
       "      <th>Current Price</th>\n",
       "      <th>Original Price</th>\n",
       "      <th>Rating</th>\n",
       "      <th>Reviews</th>\n",
       "    </tr>\n",
       "  </thead>\n",
       "  <tbody>\n",
       "    <tr>\n",
       "      <th>293</th>\n",
       "      <td>Snowd</td>\n",
       "      <td>1</td>\n",
       "      <td>Superhost</td>\n",
       "      <td>Shepherd’s hut</td>\n",
       "      <td>Talsarnau</td>\n",
       "      <td>97</td>\n",
       "      <td>NaN</td>\n",
       "      <td>4.89</td>\n",
       "      <td>187</td>\n",
       "    </tr>\n",
       "    <tr>\n",
       "      <th>109</th>\n",
       "      <td>North Lodg</td>\n",
       "      <td>3</td>\n",
       "      <td></td>\n",
       "      <td>Cottage</td>\n",
       "      <td>Cumbria</td>\n",
       "      <td>482</td>\n",
       "      <td>NaN</td>\n",
       "      <td>4.71</td>\n",
       "      <td>7</td>\n",
       "    </tr>\n",
       "    <tr>\n",
       "      <th>251</th>\n",
       "      <td>Farm Stay Shepherds Hut, In Beautiful Oak Orchard</td>\n",
       "      <td>1</td>\n",
       "      <td>Rare fin</td>\n",
       "      <td>Shepherd’s hut</td>\n",
       "      <td>Devon</td>\n",
       "      <td>150</td>\n",
       "      <td>NaN</td>\n",
       "      <td>5.0</td>\n",
       "      <td>101</td>\n",
       "    </tr>\n",
       "    <tr>\n",
       "      <th>235</th>\n",
       "      <td>Super Manor House bed and breakfast 1</td>\n",
       "      <td>1</td>\n",
       "      <td></td>\n",
       "      <td>Private room</td>\n",
       "      <td>Powys</td>\n",
       "      <td>167</td>\n",
       "      <td>NaN</td>\n",
       "      <td>4.91</td>\n",
       "      <td>11</td>\n",
       "    </tr>\n",
       "    <tr>\n",
       "      <th>193</th>\n",
       "      <td>Rural farmhouse between Hay and Brec</td>\n",
       "      <td>5</td>\n",
       "      <td>Superhost</td>\n",
       "      <td>Home</td>\n",
       "      <td>Llandefalle</td>\n",
       "      <td>253</td>\n",
       "      <td>NaN</td>\n",
       "      <td>4.9</td>\n",
       "      <td>20</td>\n",
       "    </tr>\n",
       "  </tbody>\n",
       "</table>\n",
       "</div>"
      ],
      "text/plain": [
       "                                                 Title Beds       Host  \\\n",
       "293                                              Snowd    1  Superhost   \n",
       "109                                         North Lodg    3              \n",
       "251  Farm Stay Shepherds Hut, In Beautiful Oak Orchard    1   Rare fin   \n",
       "235              Super Manor House bed and breakfast 1    1              \n",
       "193               Rural farmhouse between Hay and Brec    5  Superhost   \n",
       "\n",
       "               Type     Location Current Price Original Price Rating Reviews  \n",
       "293  Shepherd’s hut    Talsarnau            97            NaN   4.89     187  \n",
       "109         Cottage      Cumbria           482            NaN   4.71       7  \n",
       "251  Shepherd’s hut        Devon           150            NaN    5.0     101  \n",
       "235    Private room        Powys           167            NaN   4.91      11  \n",
       "193            Home  Llandefalle           253            NaN    4.9      20  "
      ]
     },
     "execution_count": 152,
     "metadata": {},
     "output_type": "execute_result"
    }
   ],
   "source": [
    "df_clean.sample(5)"
   ]
  },
  {
   "cell_type": "code",
   "execution_count": 153,
   "metadata": {},
   "outputs": [
    {
     "data": {
      "text/html": [
       "<div>\n",
       "<style scoped>\n",
       "    .dataframe tbody tr th:only-of-type {\n",
       "        vertical-align: middle;\n",
       "    }\n",
       "\n",
       "    .dataframe tbody tr th {\n",
       "        vertical-align: top;\n",
       "    }\n",
       "\n",
       "    .dataframe thead th {\n",
       "        text-align: right;\n",
       "    }\n",
       "</style>\n",
       "<table border=\"1\" class=\"dataframe\">\n",
       "  <thead>\n",
       "    <tr style=\"text-align: right;\">\n",
       "      <th></th>\n",
       "      <th>Title</th>\n",
       "      <th>Beds</th>\n",
       "      <th>Host</th>\n",
       "      <th>Type</th>\n",
       "      <th>Location</th>\n",
       "      <th>Current Price</th>\n",
       "      <th>Original Price</th>\n",
       "      <th>Rating</th>\n",
       "      <th>Reviews</th>\n",
       "    </tr>\n",
       "  </thead>\n",
       "  <tbody>\n",
       "    <tr>\n",
       "      <th>45</th>\n",
       "      <td>Sandpiper Lodg</td>\n",
       "      <td>3</td>\n",
       "      <td>Superhost</td>\n",
       "      <td>Barn</td>\n",
       "      <td>Norfolk</td>\n",
       "      <td>344</td>\n",
       "      <td>NaN</td>\n",
       "      <td>5.0</td>\n",
       "      <td>4</td>\n",
       "    </tr>\n",
       "    <tr>\n",
       "      <th>270</th>\n",
       "      <td>Ty Arts</td>\n",
       "      <td>3</td>\n",
       "      <td></td>\n",
       "      <td>Home</td>\n",
       "      <td>Llanddeiniolen</td>\n",
       "      <td>259</td>\n",
       "      <td>NaN</td>\n",
       "      <td>4.71</td>\n",
       "      <td>7</td>\n",
       "    </tr>\n",
       "    <tr>\n",
       "      <th>277</th>\n",
       "      <td>Town Centre / Outside Terrace / Parking / Wif</td>\n",
       "      <td>1</td>\n",
       "      <td>Superhost</td>\n",
       "      <td>Apartment</td>\n",
       "      <td>Stratford Upon Avon</td>\n",
       "      <td>166</td>\n",
       "      <td>NaN</td>\n",
       "      <td>4.87</td>\n",
       "      <td>282</td>\n",
       "    </tr>\n",
       "    <tr>\n",
       "      <th>241</th>\n",
       "      <td>Primrose Farm, Glamping With hot Tub - Bluebell</td>\n",
       "      <td>4</td>\n",
       "      <td>Superhost</td>\n",
       "      <td>Tent</td>\n",
       "      <td>Chacewater</td>\n",
       "      <td>242</td>\n",
       "      <td>NaN</td>\n",
       "      <td>4.73</td>\n",
       "      <td>52</td>\n",
       "    </tr>\n",
       "    <tr>\n",
       "      <th>190</th>\n",
       "      <td>Glampio Coed Glamping - Porthor, Aberd</td>\n",
       "      <td>1</td>\n",
       "      <td></td>\n",
       "      <td>NaN</td>\n",
       "      <td>NaN</td>\n",
       "      <td>151</td>\n",
       "      <td>NaN</td>\n",
       "      <td>4.96</td>\n",
       "      <td>27</td>\n",
       "    </tr>\n",
       "  </tbody>\n",
       "</table>\n",
       "</div>"
      ],
      "text/plain": [
       "                                               Title Beds       Host  \\\n",
       "45                                    Sandpiper Lodg    3  Superhost   \n",
       "270                                          Ty Arts    3              \n",
       "277    Town Centre / Outside Terrace / Parking / Wif    1  Superhost   \n",
       "241  Primrose Farm, Glamping With hot Tub - Bluebell    4  Superhost   \n",
       "190           Glampio Coed Glamping - Porthor, Aberd    1              \n",
       "\n",
       "          Type             Location Current Price Original Price Rating  \\\n",
       "45        Barn              Norfolk           344            NaN    5.0   \n",
       "270       Home       Llanddeiniolen           259            NaN   4.71   \n",
       "277  Apartment  Stratford Upon Avon           166            NaN   4.87   \n",
       "241       Tent           Chacewater           242            NaN   4.73   \n",
       "190        NaN                  NaN           151            NaN   4.96   \n",
       "\n",
       "    Reviews  \n",
       "45        4  \n",
       "270       7  \n",
       "277     282  \n",
       "241      52  \n",
       "190      27  "
      ]
     },
     "execution_count": 153,
     "metadata": {},
     "output_type": "execute_result"
    }
   ],
   "source": [
    "df2_clean.sample(5)"
   ]
  },
  {
   "cell_type": "code",
   "execution_count": 154,
   "metadata": {},
   "outputs": [
    {
     "data": {
      "text/html": [
       "<div>\n",
       "<style scoped>\n",
       "    .dataframe tbody tr th:only-of-type {\n",
       "        vertical-align: middle;\n",
       "    }\n",
       "\n",
       "    .dataframe tbody tr th {\n",
       "        vertical-align: top;\n",
       "    }\n",
       "\n",
       "    .dataframe thead th {\n",
       "        text-align: right;\n",
       "    }\n",
       "</style>\n",
       "<table border=\"1\" class=\"dataframe\">\n",
       "  <thead>\n",
       "    <tr style=\"text-align: right;\">\n",
       "      <th></th>\n",
       "      <th>Title</th>\n",
       "      <th>Beds</th>\n",
       "      <th>Host</th>\n",
       "      <th>Type</th>\n",
       "      <th>Location</th>\n",
       "      <th>Current Price</th>\n",
       "      <th>Original Price</th>\n",
       "      <th>Rating</th>\n",
       "      <th>Reviews</th>\n",
       "    </tr>\n",
       "  </thead>\n",
       "  <tbody>\n",
       "    <tr>\n",
       "      <th>14</th>\n",
       "      <td>3-Story Container Home +spa +pool +rooftop deck</td>\n",
       "      <td>3</td>\n",
       "      <td>Superhost</td>\n",
       "      <td>Home</td>\n",
       "      <td>Joshua Tree</td>\n",
       "      <td>328</td>\n",
       "      <td>409</td>\n",
       "      <td>5.0</td>\n",
       "      <td>3</td>\n",
       "    </tr>\n",
       "    <tr>\n",
       "      <th>224</th>\n",
       "      <td>The Barn at Slick Rock</td>\n",
       "      <td>1</td>\n",
       "      <td>Rare fin</td>\n",
       "      <td>Barn</td>\n",
       "      <td>Hendersonville</td>\n",
       "      <td>151</td>\n",
       "      <td>210</td>\n",
       "      <td>4.96</td>\n",
       "      <td>238</td>\n",
       "    </tr>\n",
       "    <tr>\n",
       "      <th>13</th>\n",
       "      <td>Little Lake Hous</td>\n",
       "      <td>2</td>\n",
       "      <td>Superhost</td>\n",
       "      <td>Home</td>\n",
       "      <td>Fond du Lac</td>\n",
       "      <td>221</td>\n",
       "      <td>NaN</td>\n",
       "      <td>4.74</td>\n",
       "      <td>197</td>\n",
       "    </tr>\n",
       "    <tr>\n",
       "      <th>136</th>\n",
       "      <td>Bee Our Guest Mountain Top Glamping D</td>\n",
       "      <td>1</td>\n",
       "      <td></td>\n",
       "      <td>Dome</td>\n",
       "      <td>Mars Hill</td>\n",
       "      <td>161</td>\n",
       "      <td>213</td>\n",
       "      <td>5.0</td>\n",
       "      <td>10</td>\n",
       "    </tr>\n",
       "    <tr>\n",
       "      <th>2</th>\n",
       "      <td>The ATL Treehouse with hot tub/ heated spac</td>\n",
       "      <td>1</td>\n",
       "      <td>Superhost</td>\n",
       "      <td>Treehouse</td>\n",
       "      <td>East Point</td>\n",
       "      <td>294</td>\n",
       "      <td>NaN</td>\n",
       "      <td>4.79</td>\n",
       "      <td>403</td>\n",
       "    </tr>\n",
       "  </tbody>\n",
       "</table>\n",
       "</div>"
      ],
      "text/plain": [
       "                                               Title Beds       Host  \\\n",
       "14   3-Story Container Home +spa +pool +rooftop deck    3  Superhost   \n",
       "224                           The Barn at Slick Rock    1   Rare fin   \n",
       "13                                  Little Lake Hous    2  Superhost   \n",
       "136            Bee Our Guest Mountain Top Glamping D    1              \n",
       "2        The ATL Treehouse with hot tub/ heated spac    1  Superhost   \n",
       "\n",
       "          Type        Location Current Price Original Price Rating Reviews  \n",
       "14        Home     Joshua Tree           328            409    5.0       3  \n",
       "224       Barn  Hendersonville           151            210   4.96     238  \n",
       "13        Home     Fond du Lac           221            NaN   4.74     197  \n",
       "136       Dome       Mars Hill           161            213    5.0      10  \n",
       "2    Treehouse      East Point           294            NaN   4.79     403  "
      ]
     },
     "execution_count": 154,
     "metadata": {},
     "output_type": "execute_result"
    }
   ],
   "source": [
    "df3_clean.sample(5)"
   ]
  },
  {
   "cell_type": "code",
   "execution_count": 155,
   "metadata": {},
   "outputs": [
    {
     "data": {
      "text/html": [
       "<div>\n",
       "<style scoped>\n",
       "    .dataframe tbody tr th:only-of-type {\n",
       "        vertical-align: middle;\n",
       "    }\n",
       "\n",
       "    .dataframe tbody tr th {\n",
       "        vertical-align: top;\n",
       "    }\n",
       "\n",
       "    .dataframe thead th {\n",
       "        text-align: right;\n",
       "    }\n",
       "</style>\n",
       "<table border=\"1\" class=\"dataframe\">\n",
       "  <thead>\n",
       "    <tr style=\"text-align: right;\">\n",
       "      <th></th>\n",
       "      <th>Title</th>\n",
       "      <th>Beds</th>\n",
       "      <th>Host</th>\n",
       "      <th>Type</th>\n",
       "      <th>Location</th>\n",
       "      <th>Current Price</th>\n",
       "      <th>Original Price</th>\n",
       "      <th>Rating</th>\n",
       "      <th>Reviews</th>\n",
       "    </tr>\n",
       "  </thead>\n",
       "  <tbody>\n",
       "    <tr>\n",
       "      <th>128</th>\n",
       "      <td>Adventure Cabin 74</td>\n",
       "      <td>4</td>\n",
       "      <td>Superhost</td>\n",
       "      <td>Cabin</td>\n",
       "      <td>Sapulpa</td>\n",
       "      <td>232</td>\n",
       "      <td>NaN</td>\n",
       "      <td>4.85</td>\n",
       "      <td>103</td>\n",
       "    </tr>\n",
       "    <tr>\n",
       "      <th>216</th>\n",
       "      <td>Last minute thanksgiving cabin? 1 hr from Chicag</td>\n",
       "      <td>1</td>\n",
       "      <td></td>\n",
       "      <td>Home</td>\n",
       "      <td>North Myrtle Beach</td>\n",
       "      <td>217</td>\n",
       "      <td>276</td>\n",
       "      <td>5.0</td>\n",
       "      <td>4</td>\n",
       "    </tr>\n",
       "    <tr>\n",
       "      <th>62</th>\n",
       "      <td>Off-grid itHous</td>\n",
       "      <td>3</td>\n",
       "      <td>Superhost</td>\n",
       "      <td>Cabin</td>\n",
       "      <td>Eclectic</td>\n",
       "      <td>400</td>\n",
       "      <td>NaN</td>\n",
       "      <td>4.8</td>\n",
       "      <td>30</td>\n",
       "    </tr>\n",
       "    <tr>\n",
       "      <th>263</th>\n",
       "      <td>The Red Barn at the Lakef</td>\n",
       "      <td>2</td>\n",
       "      <td></td>\n",
       "      <td>Cabin</td>\n",
       "      <td>Shipshewana</td>\n",
       "      <td>344</td>\n",
       "      <td>402</td>\n",
       "      <td>4.77</td>\n",
       "      <td>62</td>\n",
       "    </tr>\n",
       "    <tr>\n",
       "      <th>243</th>\n",
       "      <td>Zion Canyon BnB Room-4</td>\n",
       "      <td>3</td>\n",
       "      <td>Superhost</td>\n",
       "      <td>Cabin</td>\n",
       "      <td>Maggie Valley</td>\n",
       "      <td>271</td>\n",
       "      <td>433</td>\n",
       "      <td>4.92</td>\n",
       "      <td>26</td>\n",
       "    </tr>\n",
       "  </tbody>\n",
       "</table>\n",
       "</div>"
      ],
      "text/plain": [
       "                                                Title Beds       Host   Type  \\\n",
       "128                                Adventure Cabin 74    4  Superhost  Cabin   \n",
       "216  Last minute thanksgiving cabin? 1 hr from Chicag    1              Home   \n",
       "62                                    Off-grid itHous    3  Superhost  Cabin   \n",
       "263                         The Red Barn at the Lakef    2             Cabin   \n",
       "243                            Zion Canyon BnB Room-4    3  Superhost  Cabin   \n",
       "\n",
       "               Location Current Price Original Price Rating Reviews  \n",
       "128             Sapulpa           232            NaN   4.85     103  \n",
       "216  North Myrtle Beach           217            276    5.0       4  \n",
       "62             Eclectic           400            NaN    4.8      30  \n",
       "263         Shipshewana           344            402   4.77      62  \n",
       "243       Maggie Valley           271            433   4.92      26  "
      ]
     },
     "execution_count": 155,
     "metadata": {},
     "output_type": "execute_result"
    }
   ],
   "source": [
    "df4_clean.sample(5)"
   ]
  },
  {
   "cell_type": "markdown",
   "metadata": {},
   "source": [
    "## Issue 9: Float values in the Original Price column"
   ]
  },
  {
   "cell_type": "markdown",
   "metadata": {},
   "source": [
    "### Define\n",
    "- Convert the Original Prices column from float to Int datatype"
   ]
  },
  {
   "cell_type": "markdown",
   "metadata": {},
   "source": [
    "### Code"
   ]
  },
  {
   "cell_type": "code",
   "execution_count": 156,
   "metadata": {},
   "outputs": [],
   "source": [
    "#Since the float to int conversion is not possible with nan in the Prices columns, first fillna with '0' then use astype function to convert float to int\n",
    "\n",
    "df_clean['Original Price'] = df_clean['Original Price'].fillna(0).astype(np.int64, errors='ignore')\n",
    "df2_clean['Original Price'] = df2_clean['Original Price'].fillna(0).astype(np.int64, errors='ignore')\n",
    "df3_clean['Original Price'] = df3_clean['Original Price'].fillna(0).astype(np.int64, errors='ignore')\n",
    "df4_clean['Original Price'] = df4_clean['Original Price'].fillna(0).astype(np.int64, errors='ignore')"
   ]
  },
  {
   "cell_type": "code",
   "execution_count": 157,
   "metadata": {},
   "outputs": [
    {
     "data": {
      "text/plain": [
       "array(['', 'Rare fin', 'Superhost', 'Plus'], dtype=object)"
      ]
     },
     "execution_count": 157,
     "metadata": {},
     "output_type": "execute_result"
    }
   ],
   "source": [
    "df2_clean['Host'].unique()"
   ]
  },
  {
   "cell_type": "markdown",
   "metadata": {},
   "source": [
    "### Test"
   ]
  },
  {
   "cell_type": "code",
   "execution_count": 158,
   "metadata": {},
   "outputs": [
    {
     "data": {
      "text/html": [
       "<div>\n",
       "<style scoped>\n",
       "    .dataframe tbody tr th:only-of-type {\n",
       "        vertical-align: middle;\n",
       "    }\n",
       "\n",
       "    .dataframe tbody tr th {\n",
       "        vertical-align: top;\n",
       "    }\n",
       "\n",
       "    .dataframe thead th {\n",
       "        text-align: right;\n",
       "    }\n",
       "</style>\n",
       "<table border=\"1\" class=\"dataframe\">\n",
       "  <thead>\n",
       "    <tr style=\"text-align: right;\">\n",
       "      <th></th>\n",
       "      <th>Title</th>\n",
       "      <th>Beds</th>\n",
       "      <th>Host</th>\n",
       "      <th>Type</th>\n",
       "      <th>Location</th>\n",
       "      <th>Current Price</th>\n",
       "      <th>Original Price</th>\n",
       "      <th>Rating</th>\n",
       "      <th>Reviews</th>\n",
       "    </tr>\n",
       "  </thead>\n",
       "  <tbody>\n",
       "    <tr>\n",
       "      <th>244</th>\n",
       "      <td>Esk - beautiful timber cabin in The Lake Distric</td>\n",
       "      <td>2</td>\n",
       "      <td>Superhost</td>\n",
       "      <td>Dome</td>\n",
       "      <td>Irton</td>\n",
       "      <td>183</td>\n",
       "      <td>0</td>\n",
       "      <td>4.93</td>\n",
       "      <td>15</td>\n",
       "    </tr>\n",
       "    <tr>\n",
       "      <th>94</th>\n",
       "      <td>Beautiful large house, idyllic woodland gard</td>\n",
       "      <td>6</td>\n",
       "      <td>Superhost</td>\n",
       "      <td>Home</td>\n",
       "      <td>Aberdeenshire</td>\n",
       "      <td>392</td>\n",
       "      <td>0</td>\n",
       "      <td>4.86</td>\n",
       "      <td>28</td>\n",
       "    </tr>\n",
       "    <tr>\n",
       "      <th>113</th>\n",
       "      <td>Armadilla 2 at Lee Wick Farm Cottages &amp;amp; Gl...</td>\n",
       "      <td>NaN</td>\n",
       "      <td>Superhost</td>\n",
       "      <td>Private room</td>\n",
       "      <td>St Osyth</td>\n",
       "      <td>137</td>\n",
       "      <td>0</td>\n",
       "      <td>4.56</td>\n",
       "      <td>16</td>\n",
       "    </tr>\n",
       "    <tr>\n",
       "      <th>271</th>\n",
       "      <td>The Tool Shed nestled in idyllic countrysid</td>\n",
       "      <td>1</td>\n",
       "      <td>Superhost</td>\n",
       "      <td>Hut</td>\n",
       "      <td>Redfor</td>\n",
       "      <td>69</td>\n",
       "      <td>0</td>\n",
       "      <td>4.94</td>\n",
       "      <td>226</td>\n",
       "    </tr>\n",
       "    <tr>\n",
       "      <th>222</th>\n",
       "      <td>Peaceful space in a unique historic h</td>\n",
       "      <td>1</td>\n",
       "      <td></td>\n",
       "      <td>Private room</td>\n",
       "      <td>North Yorkshire</td>\n",
       "      <td>109</td>\n",
       "      <td>0</td>\n",
       "      <td>4.92</td>\n",
       "      <td>13</td>\n",
       "    </tr>\n",
       "  </tbody>\n",
       "</table>\n",
       "</div>"
      ],
      "text/plain": [
       "                                                 Title Beds       Host  \\\n",
       "244   Esk - beautiful timber cabin in The Lake Distric    2  Superhost   \n",
       "94        Beautiful large house, idyllic woodland gard    6  Superhost   \n",
       "113  Armadilla 2 at Lee Wick Farm Cottages &amp; Gl...  NaN  Superhost   \n",
       "271        The Tool Shed nestled in idyllic countrysid    1  Superhost   \n",
       "222              Peaceful space in a unique historic h    1              \n",
       "\n",
       "             Type         Location Current Price  Original Price Rating  \\\n",
       "244          Dome            Irton           183               0   4.93   \n",
       "94           Home    Aberdeenshire           392               0   4.86   \n",
       "113  Private room         St Osyth           137               0   4.56   \n",
       "271           Hut           Redfor            69               0   4.94   \n",
       "222  Private room  North Yorkshire           109               0   4.92   \n",
       "\n",
       "    Reviews  \n",
       "244      15  \n",
       "94       28  \n",
       "113      16  \n",
       "271     226  \n",
       "222      13  "
      ]
     },
     "execution_count": 158,
     "metadata": {},
     "output_type": "execute_result"
    }
   ],
   "source": [
    "df_clean.sample(5)"
   ]
  },
  {
   "cell_type": "markdown",
   "metadata": {},
   "source": [
    "## Issue 10: Null values in the datasets"
   ]
  },
  {
   "cell_type": "markdown",
   "metadata": {},
   "source": [
    "### Define\n",
    "- Use the dropna function to get rid of all null values"
   ]
  },
  {
   "cell_type": "markdown",
   "metadata": {},
   "source": [
    "### Code"
   ]
  },
  {
   "cell_type": "code",
   "execution_count": 159,
   "metadata": {},
   "outputs": [
    {
     "data": {
      "text/plain": [
       "Title              0\n",
       "Beds               6\n",
       "Host               0\n",
       "Type              21\n",
       "Location          21\n",
       "Current Price      0\n",
       "Original Price     0\n",
       "Rating             0\n",
       "Reviews           30\n",
       "dtype: int64"
      ]
     },
     "execution_count": 159,
     "metadata": {},
     "output_type": "execute_result"
    }
   ],
   "source": [
    "df_clean.isnull().sum()"
   ]
  },
  {
   "cell_type": "code",
   "execution_count": 160,
   "metadata": {},
   "outputs": [
    {
     "data": {
      "text/plain": [
       "Title              0\n",
       "Beds               7\n",
       "Host               0\n",
       "Type              25\n",
       "Location          25\n",
       "Current Price      0\n",
       "Original Price     0\n",
       "Rating             0\n",
       "Reviews           43\n",
       "dtype: int64"
      ]
     },
     "execution_count": 160,
     "metadata": {},
     "output_type": "execute_result"
    }
   ],
   "source": [
    "df2_clean.isnull().sum()"
   ]
  },
  {
   "cell_type": "code",
   "execution_count": 161,
   "metadata": {},
   "outputs": [
    {
     "data": {
      "text/plain": [
       "Title              0\n",
       "Beds               0\n",
       "Host               0\n",
       "Type              21\n",
       "Location          21\n",
       "Current Price      0\n",
       "Original Price     0\n",
       "Rating             0\n",
       "Reviews           12\n",
       "dtype: int64"
      ]
     },
     "execution_count": 161,
     "metadata": {},
     "output_type": "execute_result"
    }
   ],
   "source": [
    "df3_clean.isnull().sum()"
   ]
  },
  {
   "cell_type": "code",
   "execution_count": 162,
   "metadata": {},
   "outputs": [
    {
     "data": {
      "text/plain": [
       "Title              0\n",
       "Beds               2\n",
       "Host               0\n",
       "Type              23\n",
       "Location          23\n",
       "Current Price      0\n",
       "Original Price     0\n",
       "Rating             0\n",
       "Reviews           14\n",
       "dtype: int64"
      ]
     },
     "execution_count": 162,
     "metadata": {},
     "output_type": "execute_result"
    }
   ],
   "source": [
    "df4_clean.isnull().sum()"
   ]
  },
  {
   "cell_type": "code",
   "execution_count": 163,
   "metadata": {},
   "outputs": [],
   "source": [
    "#Use the dropna function to remove any null values\n",
    "df_clean.dropna(subset=['Beds', 'Type', 'Location', 'Reviews'], inplace=True)\n",
    "df2_clean.dropna(subset=['Beds', 'Type', 'Location', 'Reviews'], inplace=True)\n",
    "df3_clean.dropna(subset=['Beds', 'Type', 'Location', 'Reviews'], inplace=True)\n",
    "df4_clean.dropna(subset=['Beds', 'Type', 'Location', 'Reviews'], inplace=True)"
   ]
  },
  {
   "cell_type": "markdown",
   "metadata": {},
   "source": [
    "### Test"
   ]
  },
  {
   "cell_type": "code",
   "execution_count": 164,
   "metadata": {},
   "outputs": [
    {
     "data": {
      "text/plain": [
       "Title             0\n",
       "Beds              0\n",
       "Host              0\n",
       "Type              0\n",
       "Location          0\n",
       "Current Price     0\n",
       "Original Price    0\n",
       "Rating            0\n",
       "Reviews           0\n",
       "dtype: int64"
      ]
     },
     "execution_count": 164,
     "metadata": {},
     "output_type": "execute_result"
    }
   ],
   "source": [
    "df_clean.isnull().sum()"
   ]
  },
  {
   "cell_type": "code",
   "execution_count": 165,
   "metadata": {},
   "outputs": [
    {
     "data": {
      "text/plain": [
       "Title             0\n",
       "Beds              0\n",
       "Host              0\n",
       "Type              0\n",
       "Location          0\n",
       "Current Price     0\n",
       "Original Price    0\n",
       "Rating            0\n",
       "Reviews           0\n",
       "dtype: int64"
      ]
     },
     "execution_count": 165,
     "metadata": {},
     "output_type": "execute_result"
    }
   ],
   "source": [
    "df2_clean.isnull().sum()"
   ]
  },
  {
   "cell_type": "code",
   "execution_count": 166,
   "metadata": {},
   "outputs": [
    {
     "data": {
      "text/plain": [
       "Title             0\n",
       "Beds              0\n",
       "Host              0\n",
       "Type              0\n",
       "Location          0\n",
       "Current Price     0\n",
       "Original Price    0\n",
       "Rating            0\n",
       "Reviews           0\n",
       "dtype: int64"
      ]
     },
     "execution_count": 166,
     "metadata": {},
     "output_type": "execute_result"
    }
   ],
   "source": [
    "df3_clean.isnull().sum()"
   ]
  },
  {
   "cell_type": "code",
   "execution_count": 167,
   "metadata": {},
   "outputs": [
    {
     "data": {
      "text/plain": [
       "Title             0\n",
       "Beds              0\n",
       "Host              0\n",
       "Type              0\n",
       "Location          0\n",
       "Current Price     0\n",
       "Original Price    0\n",
       "Rating            0\n",
       "Reviews           0\n",
       "dtype: int64"
      ]
     },
     "execution_count": 167,
     "metadata": {},
     "output_type": "execute_result"
    }
   ],
   "source": [
    "df4_clean.isnull().sum()"
   ]
  },
  {
   "cell_type": "markdown",
   "metadata": {},
   "source": [
    "## Issue 11: 'Rare fin' in the Host column and missing Host info"
   ]
  },
  {
   "cell_type": "markdown",
   "metadata": {},
   "source": [
    "### Define\n",
    "- 'Rare find' should be in the Host columns, not 'Rare fin'\n",
    "- Since not all listings had the Host information, use the replace function to replace the missing information with np.nan"
   ]
  },
  {
   "cell_type": "markdown",
   "metadata": {},
   "source": [
    "### Code"
   ]
  },
  {
   "cell_type": "code",
   "execution_count": 168,
   "metadata": {},
   "outputs": [
    {
     "data": {
      "text/plain": [
       "array(['Rare fin', 'Superhost', 'Plus', ''], dtype=object)"
      ]
     },
     "execution_count": 168,
     "metadata": {},
     "output_type": "execute_result"
    }
   ],
   "source": [
    "df4_clean['Host'].unique()"
   ]
  },
  {
   "cell_type": "code",
   "execution_count": 169,
   "metadata": {},
   "outputs": [],
   "source": [
    "#df_clean[df_clean['Host']].str.contains(\"Rare fin\", na = False).apply(lambda x: str(x)+ 'd')\n",
    "#Use the lambda function to fix the Host information that has a missing 'd'\n",
    "\n",
    "df_clean['Host'] = df_clean['Host'].apply(lambda x: str(x) +'d' if 'Rare fin' in x else x)\n",
    "df2_clean['Host'] = df2_clean['Host'].apply(lambda x: str(x) +'d' if 'Rare fin' in x else x)\n",
    "df3_clean['Host'] = df3_clean['Host'].apply(lambda x: str(x) +'d' if 'Rare fin' in x else x)\n",
    "df4_clean['Host'] = df4_clean['Host'].apply(lambda x: str(x) +'d' if 'Rare fin' in x else x)\n"
   ]
  },
  {
   "cell_type": "code",
   "execution_count": 170,
   "metadata": {},
   "outputs": [],
   "source": [
    "#convert the blank spaces to nan using Numpy\n",
    "\n",
    "df_clean['Host'].replace('', np.nan, inplace=True)\n",
    "df2_clean['Host'].replace('', np.nan, inplace=True)\n",
    "df3_clean['Host'].replace('', np.nan, inplace=True)\n",
    "df4_clean['Host'].replace('', np.nan, inplace=True)"
   ]
  },
  {
   "cell_type": "markdown",
   "metadata": {},
   "source": [
    "### Test"
   ]
  },
  {
   "cell_type": "code",
   "execution_count": 171,
   "metadata": {},
   "outputs": [
    {
     "data": {
      "text/plain": [
       "array(['Superhost', 'Rare find', nan, 'Plus'], dtype=object)"
      ]
     },
     "execution_count": 171,
     "metadata": {},
     "output_type": "execute_result"
    }
   ],
   "source": [
    "df_clean['Host'].unique()"
   ]
  },
  {
   "cell_type": "code",
   "execution_count": 172,
   "metadata": {},
   "outputs": [
    {
     "data": {
      "text/html": [
       "<div>\n",
       "<style scoped>\n",
       "    .dataframe tbody tr th:only-of-type {\n",
       "        vertical-align: middle;\n",
       "    }\n",
       "\n",
       "    .dataframe tbody tr th {\n",
       "        vertical-align: top;\n",
       "    }\n",
       "\n",
       "    .dataframe thead th {\n",
       "        text-align: right;\n",
       "    }\n",
       "</style>\n",
       "<table border=\"1\" class=\"dataframe\">\n",
       "  <thead>\n",
       "    <tr style=\"text-align: right;\">\n",
       "      <th></th>\n",
       "      <th>Title</th>\n",
       "      <th>Beds</th>\n",
       "      <th>Host</th>\n",
       "      <th>Type</th>\n",
       "      <th>Location</th>\n",
       "      <th>Current Price</th>\n",
       "      <th>Original Price</th>\n",
       "      <th>Rating</th>\n",
       "      <th>Reviews</th>\n",
       "    </tr>\n",
       "  </thead>\n",
       "  <tbody>\n",
       "    <tr>\n",
       "      <th>196</th>\n",
       "      <td>Dingle den caravan h</td>\n",
       "      <td>4</td>\n",
       "      <td>Rare find</td>\n",
       "      <td>Campsite</td>\n",
       "      <td>Wales</td>\n",
       "      <td>82</td>\n",
       "      <td>0</td>\n",
       "      <td>4.41</td>\n",
       "      <td>78</td>\n",
       "    </tr>\n",
       "    <tr>\n",
       "      <th>171</th>\n",
       "      <td>Merrydown's Shepherd's Hut,  smart and cosy</td>\n",
       "      <td>1</td>\n",
       "      <td>Superhost</td>\n",
       "      <td>Shepherd’s hut</td>\n",
       "      <td>Dalwoo</td>\n",
       "      <td>110</td>\n",
       "      <td>0</td>\n",
       "      <td>5.0</td>\n",
       "      <td>26</td>\n",
       "    </tr>\n",
       "    <tr>\n",
       "      <th>285</th>\n",
       "      <td>Listers Lodg</td>\n",
       "      <td>4</td>\n",
       "      <td>Rare find</td>\n",
       "      <td>Cottage</td>\n",
       "      <td>Brotton</td>\n",
       "      <td>97</td>\n",
       "      <td>0</td>\n",
       "      <td>4.76</td>\n",
       "      <td>470</td>\n",
       "    </tr>\n",
       "    <tr>\n",
       "      <th>74</th>\n",
       "      <td>‘Lake View Lodge’ (44) Winderemere, Bowness</td>\n",
       "      <td>3</td>\n",
       "      <td>Rare find</td>\n",
       "      <td>Chalet</td>\n",
       "      <td>Windermere</td>\n",
       "      <td>246</td>\n",
       "      <td>0</td>\n",
       "      <td>4.78</td>\n",
       "      <td>169</td>\n",
       "    </tr>\n",
       "    <tr>\n",
       "      <th>89</th>\n",
       "      <td>Secluded Barn set within private 150 acres</td>\n",
       "      <td>6</td>\n",
       "      <td>Superhost</td>\n",
       "      <td>Farm stay</td>\n",
       "      <td>Caistor</td>\n",
       "      <td>115</td>\n",
       "      <td>0</td>\n",
       "      <td>4.94</td>\n",
       "      <td>127</td>\n",
       "    </tr>\n",
       "  </tbody>\n",
       "</table>\n",
       "</div>"
      ],
      "text/plain": [
       "                                           Title Beds       Host  \\\n",
       "196                         Dingle den caravan h    4  Rare find   \n",
       "171  Merrydown's Shepherd's Hut,  smart and cosy    1  Superhost   \n",
       "285                                 Listers Lodg    4  Rare find   \n",
       "74   ‘Lake View Lodge’ (44) Winderemere, Bowness    3  Rare find   \n",
       "89    Secluded Barn set within private 150 acres    6  Superhost   \n",
       "\n",
       "               Type    Location Current Price  Original Price Rating Reviews  \n",
       "196        Campsite       Wales            82               0   4.41      78  \n",
       "171  Shepherd’s hut      Dalwoo           110               0    5.0      26  \n",
       "285         Cottage     Brotton            97               0   4.76     470  \n",
       "74           Chalet  Windermere           246               0   4.78     169  \n",
       "89        Farm stay     Caistor           115               0   4.94     127  "
      ]
     },
     "execution_count": 172,
     "metadata": {},
     "output_type": "execute_result"
    }
   ],
   "source": [
    "df_clean.sample(5)"
   ]
  },
  {
   "cell_type": "code",
   "execution_count": 173,
   "metadata": {},
   "outputs": [],
   "source": [
    "#Change the Current Price column datatype to an Integer\n",
    "\n",
    "df_clean['Current Price'] = df_clean['Current Price'].fillna(0).astype(np.int64, errors='ignore')\n",
    "df2_clean['Current Price'] = df2_clean['Current Price'].fillna(0).astype(np.int64, errors='ignore')\n",
    "df3_clean['Current Price'] = df3_clean['Current Price'].fillna(0).astype(np.int64, errors='ignore')\n",
    "df4_clean['Current Price'] = df4_clean['Current Price'].fillna(0).astype(np.int64, errors='ignore')"
   ]
  },
  {
   "cell_type": "code",
   "execution_count": 174,
   "metadata": {},
   "outputs": [],
   "source": [
    "#Use the astype function to chnage the datatype to Int\n",
    "\n",
    "df_clean['Beds'] = df_clean['Beds'].astype(int)\n",
    "df2_clean['Beds'] = df2_clean['Beds'].astype(int)\n",
    "df3_clean['Beds'] = df3_clean['Beds'].astype(int)\n",
    "df4_clean['Beds'] = df4_clean['Beds'].astype(int)"
   ]
  },
  {
   "cell_type": "code",
   "execution_count": 175,
   "metadata": {},
   "outputs": [
    {
     "name": "stdout",
     "output_type": "stream",
     "text": [
      "<class 'pandas.core.frame.DataFrame'>\n",
      "Int64Index: 238 entries, 2 to 299\n",
      "Data columns (total 9 columns):\n",
      " #   Column          Non-Null Count  Dtype \n",
      "---  ------          --------------  ----- \n",
      " 0   Title           238 non-null    object\n",
      " 1   Beds            238 non-null    int32 \n",
      " 2   Host            185 non-null    object\n",
      " 3   Type            238 non-null    object\n",
      " 4   Location        238 non-null    object\n",
      " 5   Current Price   238 non-null    int64 \n",
      " 6   Original Price  238 non-null    int64 \n",
      " 7   Rating          238 non-null    object\n",
      " 8   Reviews         238 non-null    object\n",
      "dtypes: int32(1), int64(2), object(6)\n",
      "memory usage: 17.7+ KB\n"
     ]
    }
   ],
   "source": [
    "df_clean.info()"
   ]
  },
  {
   "cell_type": "markdown",
   "metadata": {},
   "source": [
    "## Issue 12: Rename the columns"
   ]
  },
  {
   "cell_type": "markdown",
   "metadata": {},
   "source": [
    "### Define\n",
    "- Use the rename function to change the name of some columns"
   ]
  },
  {
   "cell_type": "markdown",
   "metadata": {},
   "source": [
    "### Code"
   ]
  },
  {
   "cell_type": "code",
   "execution_count": 176,
   "metadata": {},
   "outputs": [],
   "source": [
    "df_clean.rename(columns={\"Title\":\"Name\", \"Type\":\"Listing_type\", \"Original Price\":\"OriginalPrice\", \"Current Price\":\"DiscountedPrice\"}, inplace = True)\n",
    "df2_clean.rename(columns={\"Title\":\"Name\", \"Type\":\"Listing_type\", \"Original Price\":\"OriginalPrice\", \"Current Price\":\"DiscountedPrice\"}, inplace = True)\n",
    "df3_clean.rename(columns={\"Title\":\"Name\", \"Type\":\"Listing_type\", \"Original Price\":\"OriginalPrice\", \"Current Price\":\"DiscountedPrice\"}, inplace = True)\n",
    "df4_clean.rename(columns={\"Title\":\"Name\", \"Type\":\"Listing_type\", \"Original Price\":\"OriginalPrice\", \"Current Price\":\"DiscountedPrice\"}, inplace = True)"
   ]
  },
  {
   "cell_type": "markdown",
   "metadata": {},
   "source": [
    "### Test"
   ]
  },
  {
   "cell_type": "code",
   "execution_count": 177,
   "metadata": {},
   "outputs": [
    {
     "data": {
      "text/html": [
       "<div>\n",
       "<style scoped>\n",
       "    .dataframe tbody tr th:only-of-type {\n",
       "        vertical-align: middle;\n",
       "    }\n",
       "\n",
       "    .dataframe tbody tr th {\n",
       "        vertical-align: top;\n",
       "    }\n",
       "\n",
       "    .dataframe thead th {\n",
       "        text-align: right;\n",
       "    }\n",
       "</style>\n",
       "<table border=\"1\" class=\"dataframe\">\n",
       "  <thead>\n",
       "    <tr style=\"text-align: right;\">\n",
       "      <th></th>\n",
       "      <th>Name</th>\n",
       "      <th>Beds</th>\n",
       "      <th>Host</th>\n",
       "      <th>Listing_type</th>\n",
       "      <th>Location</th>\n",
       "      <th>DiscountedPrice</th>\n",
       "      <th>OriginalPrice</th>\n",
       "      <th>Rating</th>\n",
       "      <th>Reviews</th>\n",
       "    </tr>\n",
       "  </thead>\n",
       "  <tbody>\n",
       "    <tr>\n",
       "      <th>2</th>\n",
       "      <td>Superking Room- Proper B&amp;amp;B - Pool- No Book...</td>\n",
       "      <td>1</td>\n",
       "      <td>Superhost</td>\n",
       "      <td>Private room</td>\n",
       "      <td>Little Whelnetham, Bury St Edmunds</td>\n",
       "      <td>199</td>\n",
       "      <td>0</td>\n",
       "      <td>5.0</td>\n",
       "      <td>39</td>\n",
       "    </tr>\n",
       "    <tr>\n",
       "      <th>3</th>\n",
       "      <td>Kidwelly Farmhouse B&amp;amp;B -The Lof</td>\n",
       "      <td>2</td>\n",
       "      <td>Superhost</td>\n",
       "      <td>Private room</td>\n",
       "      <td>Kidwelly</td>\n",
       "      <td>115</td>\n",
       "      <td>0</td>\n",
       "      <td>5.0</td>\n",
       "      <td>23</td>\n",
       "    </tr>\n",
       "    <tr>\n",
       "      <th>4</th>\n",
       "      <td>The Lake  Lodge (Windermere)</td>\n",
       "      <td>4</td>\n",
       "      <td>Superhost</td>\n",
       "      <td>Home</td>\n",
       "      <td>Cumbria</td>\n",
       "      <td>670</td>\n",
       "      <td>0</td>\n",
       "      <td>4.93</td>\n",
       "      <td>164</td>\n",
       "    </tr>\n",
       "    <tr>\n",
       "      <th>5</th>\n",
       "      <td>Swallows Loft, The Old Vicarag</td>\n",
       "      <td>2</td>\n",
       "      <td>Rare find</td>\n",
       "      <td>Condo</td>\n",
       "      <td>Far Sawrey</td>\n",
       "      <td>180</td>\n",
       "      <td>206</td>\n",
       "      <td>4.98</td>\n",
       "      <td>109</td>\n",
       "    </tr>\n",
       "    <tr>\n",
       "      <th>6</th>\n",
       "      <td>Unique Scottish Country House Trossachs,Calland</td>\n",
       "      <td>8</td>\n",
       "      <td>NaN</td>\n",
       "      <td>Home</td>\n",
       "      <td>Brig o'Turk</td>\n",
       "      <td>585</td>\n",
       "      <td>0</td>\n",
       "      <td>4.89</td>\n",
       "      <td>48</td>\n",
       "    </tr>\n",
       "  </tbody>\n",
       "</table>\n",
       "</div>"
      ],
      "text/plain": [
       "                                                Name  Beds       Host  \\\n",
       "2  Superking Room- Proper B&amp;B - Pool- No Book...     1  Superhost   \n",
       "3                Kidwelly Farmhouse B&amp;B -The Lof     2  Superhost   \n",
       "4                       The Lake  Lodge (Windermere)     4  Superhost   \n",
       "5                     Swallows Loft, The Old Vicarag     2  Rare find   \n",
       "6    Unique Scottish Country House Trossachs,Calland     8        NaN   \n",
       "\n",
       "   Listing_type                             Location  DiscountedPrice  \\\n",
       "2  Private room   Little Whelnetham, Bury St Edmunds              199   \n",
       "3  Private room                             Kidwelly              115   \n",
       "4          Home                              Cumbria              670   \n",
       "5         Condo                           Far Sawrey              180   \n",
       "6          Home                          Brig o'Turk              585   \n",
       "\n",
       "   OriginalPrice Rating Reviews  \n",
       "2              0    5.0      39  \n",
       "3              0    5.0      23  \n",
       "4              0   4.93     164  \n",
       "5            206   4.98     109  \n",
       "6              0   4.89      48  "
      ]
     },
     "execution_count": 177,
     "metadata": {},
     "output_type": "execute_result"
    }
   ],
   "source": [
    "df_clean.head()"
   ]
  },
  {
   "cell_type": "markdown",
   "metadata": {},
   "source": [
    "## Issue 13: Get cordinates from the Locations"
   ]
  },
  {
   "cell_type": "markdown",
   "metadata": {},
   "source": [
    "### Define\n",
    "- Use geolocator to generate the cordinates from the locations"
   ]
  },
  {
   "cell_type": "markdown",
   "metadata": {},
   "source": [
    "### Code"
   ]
  },
  {
   "cell_type": "code",
   "execution_count": null,
   "metadata": {},
   "outputs": [],
   "source": [
    "#Initialize Nominatim API\n",
    "geolocator = Nominatim(timeout=10, user_agent= \"geoapiExercises\")"
   ]
  },
  {
   "cell_type": "code",
   "execution_count": 179,
   "metadata": {},
   "outputs": [],
   "source": [
    "#To avoid getting the Attribute error, create functions that make sure there are no Null values being passed in the geolocator function\n",
    "def get_latitude(x):\n",
    "  if hasattr(x,'latitude') and (x.latitude is not None): \n",
    "     return x.latitude\n",
    "\n",
    "\n",
    "def get_longitude(x):\n",
    "  if hasattr(x,'longitude') and (x.longitude is not None): \n",
    "     return x.longitude\n",
    "    "
   ]
  },
  {
   "cell_type": "code",
   "execution_count": 180,
   "metadata": {},
   "outputs": [],
   "source": [
    "#Use the geolocator function to get the Latitudes and Longitudes\n",
    "\n",
    "geolocate_column = df_clean['Location'].apply(geolocator.geocode)\n",
    "df_clean['Latitude'] = geolocate_column.apply(get_latitude)\n",
    "df_clean['Longitude'] = geolocate_column.apply(get_longitude)"
   ]
  },
  {
   "cell_type": "code",
   "execution_count": 181,
   "metadata": {},
   "outputs": [],
   "source": [
    "geolocate_column = df2_clean['Location'].apply(geolocator.geocode)\n",
    "df2_clean['Latitude'] = geolocate_column.apply(get_latitude)\n",
    "df2_clean['Longitude'] = geolocate_column.apply(get_longitude)"
   ]
  },
  {
   "cell_type": "code",
   "execution_count": 182,
   "metadata": {},
   "outputs": [],
   "source": [
    "geolocate_column = df3_clean['Location'].apply(geolocator.geocode)\n",
    "df3_clean['Latitude'] = geolocate_column.apply(get_latitude)\n",
    "df3_clean['Longitude'] = geolocate_column.apply(get_longitude)"
   ]
  },
  {
   "cell_type": "code",
   "execution_count": 183,
   "metadata": {},
   "outputs": [],
   "source": [
    "geolocate_column = df4_clean['Location'].apply(geolocator.geocode)\n",
    "df4_clean['Latitude'] = geolocate_column.apply(get_latitude)\n",
    "df4_clean['Longitude'] = geolocate_column.apply(get_longitude)"
   ]
  },
  {
   "cell_type": "code",
   "execution_count": 184,
   "metadata": {},
   "outputs": [],
   "source": [
    "#Use the dropna function to remove any null values in the cordinates columns\n",
    "\n",
    "df_clean.dropna(subset=['Latitude', 'Longitude'], inplace=True)\n",
    "df2_clean.dropna(subset=['Latitude', 'Longitude'], inplace=True)\n",
    "df3_clean.dropna(subset=['Latitude', 'Longitude'], inplace=True)\n",
    "df4_clean.dropna(subset=['Latitude', 'Longitude'], inplace=True)"
   ]
  },
  {
   "cell_type": "code",
   "execution_count": 185,
   "metadata": {},
   "outputs": [
    {
     "data": {
      "text/plain": [
       "\"'\\ndef reverseGeocode(coordinates): \\n    result = rg.search(coordinates)\\n    return (result)\\n\\n\""
      ]
     },
     "execution_count": 185,
     "metadata": {},
     "output_type": "execute_result"
    }
   ],
   "source": [
    "''''\n",
    "def reverseGeocode(coordinates): \n",
    "    result = rg.search(coordinates)\n",
    "    return (result)\n",
    "\n",
    "'''''"
   ]
  },
  {
   "cell_type": "code",
   "execution_count": 186,
   "metadata": {},
   "outputs": [],
   "source": [
    "nom = Nominatim(user_agent=\"http\")\n"
   ]
  },
  {
   "cell_type": "code",
   "execution_count": 194,
   "metadata": {},
   "outputs": [
    {
     "ename": "KeyboardInterrupt",
     "evalue": "",
     "output_type": "error",
     "traceback": [
      "\u001b[1;31m---------------------------------------------------------------------------\u001b[0m",
      "\u001b[1;31mKeyboardInterrupt\u001b[0m                         Traceback (most recent call last)",
      "\u001b[1;32m<ipython-input-194-b1029e4e4904>\u001b[0m in \u001b[0;36m<module>\u001b[1;34m\u001b[0m\n\u001b[0;32m      3\u001b[0m \u001b[0mgeo\u001b[0m \u001b[1;33m=\u001b[0m \u001b[0mRateLimiter\u001b[0m\u001b[1;33m(\u001b[0m\u001b[0mgeolocator\u001b[0m\u001b[1;33m.\u001b[0m\u001b[0mgeocode\u001b[0m\u001b[1;33m,\u001b[0m \u001b[0mmin_delay_seconds\u001b[0m\u001b[1;33m=\u001b[0m\u001b[1;36m5\u001b[0m\u001b[1;33m)\u001b[0m\u001b[1;33m\u001b[0m\u001b[1;33m\u001b[0m\u001b[0m\n\u001b[0;32m      4\u001b[0m \u001b[1;33m\u001b[0m\u001b[0m\n\u001b[1;32m----> 5\u001b[1;33m \u001b[0mdf_clean\u001b[0m\u001b[1;33m[\u001b[0m\u001b[1;34m'Address'\u001b[0m\u001b[1;33m]\u001b[0m \u001b[1;33m=\u001b[0m \u001b[0mdf_clean\u001b[0m\u001b[1;33m[\u001b[0m\u001b[1;34m'Location'\u001b[0m\u001b[1;33m]\u001b[0m\u001b[1;33m.\u001b[0m\u001b[0mapply\u001b[0m\u001b[1;33m(\u001b[0m\u001b[0mgeo\u001b[0m\u001b[1;33m)\u001b[0m\u001b[1;33m.\u001b[0m\u001b[0mapply\u001b[0m\u001b[1;33m(\u001b[0m\u001b[0mnom\u001b[0m\u001b[1;33m.\u001b[0m\u001b[0mgeocode\u001b[0m\u001b[1;33m)\u001b[0m\u001b[1;33m\u001b[0m\u001b[1;33m\u001b[0m\u001b[0m\n\u001b[0m\u001b[0;32m      6\u001b[0m \u001b[1;33m\u001b[0m\u001b[0m\n",
      "\u001b[1;32m~\\anaconda3\\lib\\site-packages\\pandas\\core\\series.py\u001b[0m in \u001b[0;36mapply\u001b[1;34m(self, func, convert_dtype, args, **kwds)\u001b[0m\n\u001b[0;32m   3846\u001b[0m             \u001b[1;32melse\u001b[0m\u001b[1;33m:\u001b[0m\u001b[1;33m\u001b[0m\u001b[1;33m\u001b[0m\u001b[0m\n\u001b[0;32m   3847\u001b[0m                 \u001b[0mvalues\u001b[0m \u001b[1;33m=\u001b[0m \u001b[0mself\u001b[0m\u001b[1;33m.\u001b[0m\u001b[0mastype\u001b[0m\u001b[1;33m(\u001b[0m\u001b[0mobject\u001b[0m\u001b[1;33m)\u001b[0m\u001b[1;33m.\u001b[0m\u001b[0mvalues\u001b[0m\u001b[1;33m\u001b[0m\u001b[1;33m\u001b[0m\u001b[0m\n\u001b[1;32m-> 3848\u001b[1;33m                 \u001b[0mmapped\u001b[0m \u001b[1;33m=\u001b[0m \u001b[0mlib\u001b[0m\u001b[1;33m.\u001b[0m\u001b[0mmap_infer\u001b[0m\u001b[1;33m(\u001b[0m\u001b[0mvalues\u001b[0m\u001b[1;33m,\u001b[0m \u001b[0mf\u001b[0m\u001b[1;33m,\u001b[0m \u001b[0mconvert\u001b[0m\u001b[1;33m=\u001b[0m\u001b[0mconvert_dtype\u001b[0m\u001b[1;33m)\u001b[0m\u001b[1;33m\u001b[0m\u001b[1;33m\u001b[0m\u001b[0m\n\u001b[0m\u001b[0;32m   3849\u001b[0m \u001b[1;33m\u001b[0m\u001b[0m\n\u001b[0;32m   3850\u001b[0m         \u001b[1;32mif\u001b[0m \u001b[0mlen\u001b[0m\u001b[1;33m(\u001b[0m\u001b[0mmapped\u001b[0m\u001b[1;33m)\u001b[0m \u001b[1;32mand\u001b[0m \u001b[0misinstance\u001b[0m\u001b[1;33m(\u001b[0m\u001b[0mmapped\u001b[0m\u001b[1;33m[\u001b[0m\u001b[1;36m0\u001b[0m\u001b[1;33m]\u001b[0m\u001b[1;33m,\u001b[0m \u001b[0mSeries\u001b[0m\u001b[1;33m)\u001b[0m\u001b[1;33m:\u001b[0m\u001b[1;33m\u001b[0m\u001b[1;33m\u001b[0m\u001b[0m\n",
      "\u001b[1;32mpandas\\_libs\\lib.pyx\u001b[0m in \u001b[0;36mpandas._libs.lib.map_infer\u001b[1;34m()\u001b[0m\n",
      "\u001b[1;32m~\\anaconda3\\lib\\site-packages\\geopy\\extra\\rate_limiter.py\u001b[0m in \u001b[0;36m__call__\u001b[1;34m(self, *args, **kwargs)\u001b[0m\n\u001b[0;32m    270\u001b[0m         \u001b[0mgen\u001b[0m \u001b[1;33m=\u001b[0m \u001b[0mself\u001b[0m\u001b[1;33m.\u001b[0m\u001b[0m_retries_gen\u001b[0m\u001b[1;33m(\u001b[0m\u001b[0margs\u001b[0m\u001b[1;33m,\u001b[0m \u001b[0mkwargs\u001b[0m\u001b[1;33m)\u001b[0m\u001b[1;33m\u001b[0m\u001b[1;33m\u001b[0m\u001b[0m\n\u001b[0;32m    271\u001b[0m         \u001b[1;32mfor\u001b[0m \u001b[0m_\u001b[0m \u001b[1;32min\u001b[0m \u001b[0mgen\u001b[0m\u001b[1;33m:\u001b[0m\u001b[1;33m\u001b[0m\u001b[1;33m\u001b[0m\u001b[0m\n\u001b[1;32m--> 272\u001b[1;33m             \u001b[0mself\u001b[0m\u001b[1;33m.\u001b[0m\u001b[0m_acquire_request_slot\u001b[0m\u001b[1;33m(\u001b[0m\u001b[1;33m)\u001b[0m\u001b[1;33m\u001b[0m\u001b[1;33m\u001b[0m\u001b[0m\n\u001b[0m\u001b[0;32m    273\u001b[0m             \u001b[1;32mtry\u001b[0m\u001b[1;33m:\u001b[0m\u001b[1;33m\u001b[0m\u001b[1;33m\u001b[0m\u001b[0m\n\u001b[0;32m    274\u001b[0m                 \u001b[0mres\u001b[0m \u001b[1;33m=\u001b[0m \u001b[0mself\u001b[0m\u001b[1;33m.\u001b[0m\u001b[0mfunc\u001b[0m\u001b[1;33m(\u001b[0m\u001b[1;33m*\u001b[0m\u001b[0margs\u001b[0m\u001b[1;33m,\u001b[0m \u001b[1;33m**\u001b[0m\u001b[0mkwargs\u001b[0m\u001b[1;33m)\u001b[0m\u001b[1;33m\u001b[0m\u001b[1;33m\u001b[0m\u001b[0m\n",
      "\u001b[1;32m~\\anaconda3\\lib\\site-packages\\geopy\\extra\\rate_limiter.py\u001b[0m in \u001b[0;36m_acquire_request_slot\u001b[1;34m(self)\u001b[0m\n\u001b[0;32m    265\u001b[0m     \u001b[1;32mdef\u001b[0m \u001b[0m_acquire_request_slot\u001b[0m\u001b[1;33m(\u001b[0m\u001b[0mself\u001b[0m\u001b[1;33m)\u001b[0m\u001b[1;33m:\u001b[0m\u001b[1;33m\u001b[0m\u001b[1;33m\u001b[0m\u001b[0m\n\u001b[0;32m    266\u001b[0m         \u001b[1;32mfor\u001b[0m \u001b[0mwait\u001b[0m \u001b[1;32min\u001b[0m \u001b[0mself\u001b[0m\u001b[1;33m.\u001b[0m\u001b[0m_acquire_request_slot_gen\u001b[0m\u001b[1;33m(\u001b[0m\u001b[1;33m)\u001b[0m\u001b[1;33m:\u001b[0m\u001b[1;33m\u001b[0m\u001b[1;33m\u001b[0m\u001b[0m\n\u001b[1;32m--> 267\u001b[1;33m             \u001b[0mself\u001b[0m\u001b[1;33m.\u001b[0m\u001b[0m_sleep\u001b[0m\u001b[1;33m(\u001b[0m\u001b[0mwait\u001b[0m\u001b[1;33m)\u001b[0m\u001b[1;33m\u001b[0m\u001b[1;33m\u001b[0m\u001b[0m\n\u001b[0m\u001b[0;32m    268\u001b[0m \u001b[1;33m\u001b[0m\u001b[0m\n\u001b[0;32m    269\u001b[0m     \u001b[1;32mdef\u001b[0m \u001b[0m__call__\u001b[0m\u001b[1;33m(\u001b[0m\u001b[0mself\u001b[0m\u001b[1;33m,\u001b[0m \u001b[1;33m*\u001b[0m\u001b[0margs\u001b[0m\u001b[1;33m,\u001b[0m \u001b[1;33m**\u001b[0m\u001b[0mkwargs\u001b[0m\u001b[1;33m)\u001b[0m\u001b[1;33m:\u001b[0m\u001b[1;33m\u001b[0m\u001b[1;33m\u001b[0m\u001b[0m\n",
      "\u001b[1;32m~\\anaconda3\\lib\\site-packages\\geopy\\extra\\rate_limiter.py\u001b[0m in \u001b[0;36m_sleep\u001b[1;34m(self, seconds)\u001b[0m\n\u001b[0;32m    261\u001b[0m     \u001b[1;32mdef\u001b[0m \u001b[0m_sleep\u001b[0m\u001b[1;33m(\u001b[0m\u001b[0mself\u001b[0m\u001b[1;33m,\u001b[0m \u001b[0mseconds\u001b[0m\u001b[1;33m)\u001b[0m\u001b[1;33m:\u001b[0m  \u001b[1;31m# pragma: no cover\u001b[0m\u001b[1;33m\u001b[0m\u001b[1;33m\u001b[0m\u001b[0m\n\u001b[0;32m    262\u001b[0m         \u001b[0mlogger\u001b[0m\u001b[1;33m.\u001b[0m\u001b[0mdebug\u001b[0m\u001b[1;33m(\u001b[0m\u001b[0mtype\u001b[0m\u001b[1;33m(\u001b[0m\u001b[0mself\u001b[0m\u001b[1;33m)\u001b[0m\u001b[1;33m.\u001b[0m\u001b[0m__name__\u001b[0m \u001b[1;33m+\u001b[0m \u001b[1;34m\" sleep(%r)\"\u001b[0m\u001b[1;33m,\u001b[0m \u001b[0mseconds\u001b[0m\u001b[1;33m)\u001b[0m\u001b[1;33m\u001b[0m\u001b[1;33m\u001b[0m\u001b[0m\n\u001b[1;32m--> 263\u001b[1;33m         \u001b[0msleep\u001b[0m\u001b[1;33m(\u001b[0m\u001b[0mseconds\u001b[0m\u001b[1;33m)\u001b[0m\u001b[1;33m\u001b[0m\u001b[1;33m\u001b[0m\u001b[0m\n\u001b[0m\u001b[0;32m    264\u001b[0m \u001b[1;33m\u001b[0m\u001b[0m\n\u001b[0;32m    265\u001b[0m     \u001b[1;32mdef\u001b[0m \u001b[0m_acquire_request_slot\u001b[0m\u001b[1;33m(\u001b[0m\u001b[0mself\u001b[0m\u001b[1;33m)\u001b[0m\u001b[1;33m:\u001b[0m\u001b[1;33m\u001b[0m\u001b[1;33m\u001b[0m\u001b[0m\n",
      "\u001b[1;31mKeyboardInterrupt\u001b[0m: "
     ]
    }
   ],
   "source": [
    "#The RateLimiter helps avoid the timeout error when getting the Addresses\n",
    "\n",
    "geo = RateLimiter(geolocator.geocode, min_delay_seconds=5)\n",
    "\n",
    "df_clean['Address'] = df_clean['Location'].apply(geo).apply(nom.geocode)\n",
    "\n"
   ]
  },
  {
   "cell_type": "code",
   "execution_count": null,
   "metadata": {},
   "outputs": [],
   "source": [
    "\n",
    "geo = RateLimiter(geolocator.geocode, min_delay_seconds=5)\n",
    "\n",
    "df2_clean['Address'] = df2_clean['Location'].apply(geo).apply(nom.geocode)\n"
   ]
  },
  {
   "cell_type": "code",
   "execution_count": null,
   "metadata": {},
   "outputs": [],
   "source": [
    "\n",
    "geo = RateLimiter(geolocator.geocode, min_delay_seconds=5)\n",
    "\n",
    "df3_clean['Address'] = df3_clean['Location'].apply(geo).apply(nom.geocode)\n"
   ]
  },
  {
   "cell_type": "code",
   "execution_count": null,
   "metadata": {},
   "outputs": [],
   "source": [
    "\n",
    "geo = RateLimiter(geolocator.geocode, min_delay_seconds=5)\n",
    "\n",
    "df4_clean['Address'] = df4_clean['Location'].apply(geo).apply(nom.geocode)\n"
   ]
  },
  {
   "cell_type": "code",
   "execution_count": 195,
   "metadata": {},
   "outputs": [],
   "source": [
    "#df_clean['Address'].sample(5)"
   ]
  },
  {
   "cell_type": "code",
   "execution_count": null,
   "metadata": {},
   "outputs": [],
   "source": [
    "\n",
    "'''''\n",
    "def get_city(x):\n",
    "  if hasattr(x,'city') and (x.city is not None): \n",
    "     return x.city\n",
    "\n",
    "def get_country(x):\n",
    "  if hasattr(x,'country') and (x.country is not None): \n",
    "     return x.country\n",
    "\n",
    "def get_zipcode(x):\n",
    "  if hasattr(x,'zipcode') and (x.zipcode is not None): \n",
    "     return x.zipcode\n",
    "    \n",
    "def get_state(x):\n",
    "  if hasattr(x,'state') and (x.state is not None): \n",
    "     return x.state\n",
    "    \n",
    "'''''\n",
    "\n",
    "    "
   ]
  },
  {
   "cell_type": "code",
   "execution_count": null,
   "metadata": {},
   "outputs": [],
   "source": [
    "'''''\n",
    "\n",
    "geolocate_columns = df_clean['Address'].apply(geolocator.geocode)\n",
    "df_clean['city'] = geolocate_column.apply(get_city)\n",
    "df_clean['country'] = geolocate_column.apply(get_country)\n",
    "df_clean['state'] = geolocate_column.apply(get_state)\n",
    "df_clean['zipcode'] = geolocate_column.apply(get_zipcode)\n",
    "\n",
    "'''''\n",
    "\n",
    "#df_clean['latitude'] = geolocate_column.apply(get_latitude)\n",
    "#df_clean['longitude'] = geolocate_column.apply(get_longitude)"
   ]
  },
  {
   "cell_type": "code",
   "execution_count": 196,
   "metadata": {},
   "outputs": [],
   "source": [
    "#Create a functions thet gets locations details from the coordinates eg State name or Zipcodes\n",
    "\n",
    "def city_state_country(row):\n",
    "    coord = f\"{row['Latitude']}, {row['Longitude']}\"\n",
    "    \n",
    "    #location = geolocator.reverse(Point(row['Latitude'], row['Longitude']))\n",
    "    location = geolocator.reverse(coord, exactly_one=True)\n",
    "    address = location.raw['address']\n",
    "    code = address.get('country_code')\n",
    "    zipcode = address.get('postcode')\n",
    "    state = address.get('state', '')\n",
    "    country = address.get('country', '')\n",
    "    row['State'] = state\n",
    "    row['Country'] = country\n",
    "    row['ZipCodes'] = zipcode\n",
    "    row['Codes'] = code\n",
    "    return row\n"
   ]
  },
  {
   "cell_type": "code",
   "execution_count": 198,
   "metadata": {},
   "outputs": [],
   "source": [
    "#Call the function in the different dataframes\n",
    "\n",
    "df_clean = df_clean.apply(city_state_country, axis=1)\n",
    "df2_clean = df2_clean.apply(city_state_country, axis=1)\n",
    "df3_clean = df3_clean.apply(city_state_country, axis=1)\n",
    "df4_clean = df4_clean.apply(city_state_country, axis=1)\n",
    "\n"
   ]
  },
  {
   "cell_type": "code",
   "execution_count": 199,
   "metadata": {},
   "outputs": [
    {
     "data": {
      "text/plain": [
       "Name                0\n",
       "Beds                0\n",
       "Host               49\n",
       "Listing_type        0\n",
       "Location            0\n",
       "DiscountedPrice     0\n",
       "OriginalPrice       0\n",
       "Rating              0\n",
       "Reviews             0\n",
       "Latitude            0\n",
       "Longitude           0\n",
       "State               0\n",
       "Country             0\n",
       "ZipCodes            9\n",
       "Codes               0\n",
       "dtype: int64"
      ]
     },
     "execution_count": 199,
     "metadata": {},
     "output_type": "execute_result"
    }
   ],
   "source": [
    "df_clean.isnull().sum()"
   ]
  },
  {
   "cell_type": "markdown",
   "metadata": {},
   "source": [
    "### Test"
   ]
  },
  {
   "cell_type": "code",
   "execution_count": 200,
   "metadata": {},
   "outputs": [
    {
     "data": {
      "text/plain": [
       "'LL65 2NZ'"
      ]
     },
     "execution_count": 200,
     "metadata": {},
     "output_type": "execute_result"
    }
   ],
   "source": [
    "df_clean['ZipCodes'][190]"
   ]
  },
  {
   "cell_type": "code",
   "execution_count": 201,
   "metadata": {},
   "outputs": [
    {
     "data": {
      "text/plain": [
       "'gb'"
      ]
     },
     "execution_count": 201,
     "metadata": {},
     "output_type": "execute_result"
    }
   ],
   "source": [
    "df_clean['Codes'][190]"
   ]
  },
  {
   "cell_type": "code",
   "execution_count": 202,
   "metadata": {},
   "outputs": [
    {
     "data": {
      "text/plain": [
       "'Rhoscolyn'"
      ]
     },
     "execution_count": 202,
     "metadata": {},
     "output_type": "execute_result"
    }
   ],
   "source": [
    "df_clean['Location'][190]"
   ]
  },
  {
   "cell_type": "code",
   "execution_count": 205,
   "metadata": {},
   "outputs": [
    {
     "data": {
      "text/html": [
       "<div>\n",
       "<style scoped>\n",
       "    .dataframe tbody tr th:only-of-type {\n",
       "        vertical-align: middle;\n",
       "    }\n",
       "\n",
       "    .dataframe tbody tr th {\n",
       "        vertical-align: top;\n",
       "    }\n",
       "\n",
       "    .dataframe thead th {\n",
       "        text-align: right;\n",
       "    }\n",
       "</style>\n",
       "<table border=\"1\" class=\"dataframe\">\n",
       "  <thead>\n",
       "    <tr style=\"text-align: right;\">\n",
       "      <th></th>\n",
       "      <th>Name</th>\n",
       "      <th>Beds</th>\n",
       "      <th>Host</th>\n",
       "      <th>Listing_type</th>\n",
       "      <th>Location</th>\n",
       "      <th>DiscountedPrice</th>\n",
       "      <th>OriginalPrice</th>\n",
       "      <th>Rating</th>\n",
       "      <th>Reviews</th>\n",
       "      <th>Latitude</th>\n",
       "      <th>Longitude</th>\n",
       "      <th>State</th>\n",
       "      <th>Country</th>\n",
       "      <th>ZipCodes</th>\n",
       "      <th>Codes</th>\n",
       "    </tr>\n",
       "  </thead>\n",
       "  <tbody>\n",
       "    <tr>\n",
       "      <th>2</th>\n",
       "      <td>Superking Room- Proper B&amp;amp;B - Pool- No Book...</td>\n",
       "      <td>1</td>\n",
       "      <td>Superhost</td>\n",
       "      <td>Private room</td>\n",
       "      <td>Little Whelnetham, Bury St Edmunds</td>\n",
       "      <td>199</td>\n",
       "      <td>0</td>\n",
       "      <td>5.0</td>\n",
       "      <td>39</td>\n",
       "      <td>52.206821</td>\n",
       "      <td>0.755366</td>\n",
       "      <td>England</td>\n",
       "      <td>United Kingdom</td>\n",
       "      <td>IP30 0TJ</td>\n",
       "      <td>gb</td>\n",
       "    </tr>\n",
       "    <tr>\n",
       "      <th>3</th>\n",
       "      <td>Kidwelly Farmhouse B&amp;amp;B -The Lof</td>\n",
       "      <td>2</td>\n",
       "      <td>Superhost</td>\n",
       "      <td>Private room</td>\n",
       "      <td>Kidwelly</td>\n",
       "      <td>115</td>\n",
       "      <td>0</td>\n",
       "      <td>5.0</td>\n",
       "      <td>23</td>\n",
       "      <td>51.736387</td>\n",
       "      <td>-4.306231</td>\n",
       "      <td>Cymru / Wales</td>\n",
       "      <td>United Kingdom</td>\n",
       "      <td>SA17 4UD</td>\n",
       "      <td>gb</td>\n",
       "    </tr>\n",
       "    <tr>\n",
       "      <th>4</th>\n",
       "      <td>The Lake  Lodge (Windermere)</td>\n",
       "      <td>4</td>\n",
       "      <td>Superhost</td>\n",
       "      <td>Home</td>\n",
       "      <td>Cumbria</td>\n",
       "      <td>670</td>\n",
       "      <td>0</td>\n",
       "      <td>4.93</td>\n",
       "      <td>164</td>\n",
       "      <td>54.614314</td>\n",
       "      <td>-2.942090</td>\n",
       "      <td>England</td>\n",
       "      <td>United Kingdom</td>\n",
       "      <td>CA11 0LF</td>\n",
       "      <td>gb</td>\n",
       "    </tr>\n",
       "    <tr>\n",
       "      <th>5</th>\n",
       "      <td>Swallows Loft, The Old Vicarag</td>\n",
       "      <td>2</td>\n",
       "      <td>Rare find</td>\n",
       "      <td>Condo</td>\n",
       "      <td>Far Sawrey</td>\n",
       "      <td>180</td>\n",
       "      <td>206</td>\n",
       "      <td>4.98</td>\n",
       "      <td>109</td>\n",
       "      <td>54.351053</td>\n",
       "      <td>-2.957659</td>\n",
       "      <td>England</td>\n",
       "      <td>United Kingdom</td>\n",
       "      <td>LA22 0LQ</td>\n",
       "      <td>gb</td>\n",
       "    </tr>\n",
       "    <tr>\n",
       "      <th>6</th>\n",
       "      <td>Unique Scottish Country House Trossachs,Calland</td>\n",
       "      <td>8</td>\n",
       "      <td>NaN</td>\n",
       "      <td>Home</td>\n",
       "      <td>Brig o'Turk</td>\n",
       "      <td>585</td>\n",
       "      <td>0</td>\n",
       "      <td>4.89</td>\n",
       "      <td>48</td>\n",
       "      <td>56.229672</td>\n",
       "      <td>-4.362475</td>\n",
       "      <td>Alba / Scotland</td>\n",
       "      <td>United Kingdom</td>\n",
       "      <td>FK17 8HS</td>\n",
       "      <td>gb</td>\n",
       "    </tr>\n",
       "  </tbody>\n",
       "</table>\n",
       "</div>"
      ],
      "text/plain": [
       "                                                Name  Beds       Host  \\\n",
       "2  Superking Room- Proper B&amp;B - Pool- No Book...     1  Superhost   \n",
       "3                Kidwelly Farmhouse B&amp;B -The Lof     2  Superhost   \n",
       "4                       The Lake  Lodge (Windermere)     4  Superhost   \n",
       "5                     Swallows Loft, The Old Vicarag     2  Rare find   \n",
       "6    Unique Scottish Country House Trossachs,Calland     8        NaN   \n",
       "\n",
       "   Listing_type                             Location  DiscountedPrice  \\\n",
       "2  Private room   Little Whelnetham, Bury St Edmunds              199   \n",
       "3  Private room                             Kidwelly              115   \n",
       "4          Home                              Cumbria              670   \n",
       "5         Condo                           Far Sawrey              180   \n",
       "6          Home                          Brig o'Turk              585   \n",
       "\n",
       "   OriginalPrice Rating Reviews   Latitude  Longitude            State  \\\n",
       "2              0    5.0      39  52.206821   0.755366          England   \n",
       "3              0    5.0      23  51.736387  -4.306231    Cymru / Wales   \n",
       "4              0   4.93     164  54.614314  -2.942090          England   \n",
       "5            206   4.98     109  54.351053  -2.957659          England   \n",
       "6              0   4.89      48  56.229672  -4.362475  Alba / Scotland   \n",
       "\n",
       "          Country  ZipCodes Codes  \n",
       "2  United Kingdom  IP30 0TJ    gb  \n",
       "3  United Kingdom  SA17 4UD    gb  \n",
       "4  United Kingdom  CA11 0LF    gb  \n",
       "5  United Kingdom  LA22 0LQ    gb  \n",
       "6  United Kingdom  FK17 8HS    gb  "
      ]
     },
     "execution_count": 205,
     "metadata": {},
     "output_type": "execute_result"
    }
   ],
   "source": [
    "df_clean.head()"
   ]
  },
  {
   "cell_type": "code",
   "execution_count": 206,
   "metadata": {},
   "outputs": [
    {
     "data": {
      "text/plain": [
       "Name                0\n",
       "Beds                0\n",
       "Host               49\n",
       "Listing_type        0\n",
       "Location            0\n",
       "DiscountedPrice     0\n",
       "OriginalPrice       0\n",
       "Rating              0\n",
       "Reviews             0\n",
       "Latitude            0\n",
       "Longitude           0\n",
       "State               0\n",
       "Country             0\n",
       "ZipCodes            9\n",
       "Codes               0\n",
       "dtype: int64"
      ]
     },
     "execution_count": 206,
     "metadata": {},
     "output_type": "execute_result"
    }
   ],
   "source": [
    "df_clean.isnull().sum()"
   ]
  },
  {
   "cell_type": "code",
   "execution_count": 207,
   "metadata": {},
   "outputs": [],
   "source": [
    "#Use the copy function to copy the cleaned datasets to other differently named datasets\n",
    "\n",
    "BnB_UK1 = df_clean.copy()\n",
    "BnB_UK2 = df2_clean.copy()\n",
    "BnB_US1 = df3_clean.copy()\n",
    "BnB_US2 = df4_clean.copy()"
   ]
  },
  {
   "cell_type": "code",
   "execution_count": 208,
   "metadata": {},
   "outputs": [],
   "source": [
    "BnB_UK1.to_csv('BnB_UK1.csv', index=False)\n",
    "BnB_UK2.to_csv('BnB_UK2.csv', index=False)\n",
    "BnB_US1.to_csv('BnB_US1.csv',  index=False)\n",
    "BnB_US2.to_csv('BnB_US2.csv',  index=False)"
   ]
  }
 ],
 "metadata": {
  "kernelspec": {
   "display_name": "Python 3",
   "language": "python",
   "name": "python3"
  },
  "language_info": {
   "codemirror_mode": {
    "name": "ipython",
    "version": 3
   },
   "file_extension": ".py",
   "mimetype": "text/x-python",
   "name": "python",
   "nbconvert_exporter": "python",
   "pygments_lexer": "ipython3",
   "version": "3.8.3"
  }
 },
 "nbformat": 4,
 "nbformat_minor": 4
}
